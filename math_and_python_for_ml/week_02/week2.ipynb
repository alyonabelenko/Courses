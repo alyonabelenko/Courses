{
 "cells": [
  {
   "cell_type": "markdown",
   "metadata": {},
   "source": [
    "# Задача 1"
   ]
  },
  {
   "cell_type": "code",
   "execution_count": 62,
   "metadata": {},
   "outputs": [],
   "source": [
    "import re\n",
    "import numpy as np\n",
    "from scipy.spatial.distance import cosine\n",
    "from scipy import linalg\n",
    "import matplotlib.pyplot as plt\n"
   ]
  },
  {
   "cell_type": "code",
   "execution_count": 63,
   "metadata": {},
   "outputs": [
    {
     "data": {
      "text/plain": [
       "{'in': 0,\n",
       " 'comparison': 1,\n",
       " 'to': 2,\n",
       " 'dogs': 3,\n",
       " 'cats': 4,\n",
       " 'have': 5,\n",
       " 'not': 6,\n",
       " 'undergone': 7,\n",
       " 'major': 8,\n",
       " 'changes': 9,\n",
       " 'during': 10,\n",
       " 'the': 11,\n",
       " 'domestication': 12,\n",
       " 'process': 13,\n",
       " 'as': 14,\n",
       " 'cat': 15,\n",
       " 'simply': 16,\n",
       " 'catenates': 17,\n",
       " 'streams': 18,\n",
       " 'of': 19,\n",
       " 'bytes': 20,\n",
       " 'it': 21,\n",
       " 'can': 22,\n",
       " 'be': 23,\n",
       " 'also': 24,\n",
       " 'used': 25,\n",
       " 'concatenate': 26,\n",
       " 'binary': 27,\n",
       " 'files': 28,\n",
       " 'where': 29,\n",
       " 'will': 30,\n",
       " 'just': 31,\n",
       " 'sequence': 32,\n",
       " 'a': 33,\n",
       " 'common': 34,\n",
       " 'interactive': 35,\n",
       " 'use': 36,\n",
       " 'for': 37,\n",
       " 'single': 38,\n",
       " 'file': 39,\n",
       " 'is': 40,\n",
       " 'output': 41,\n",
       " 'content': 42,\n",
       " 'standard': 43,\n",
       " 'hear': 44,\n",
       " 'sounds': 45,\n",
       " 'too': 46,\n",
       " 'faint': 47,\n",
       " 'or': 48,\n",
       " 'high': 49,\n",
       " 'frequency': 50,\n",
       " 'human': 51,\n",
       " 'ears': 52,\n",
       " 'such': 53,\n",
       " 'those': 54,\n",
       " 'made': 55,\n",
       " 'by': 56,\n",
       " 'mice': 57,\n",
       " 'and': 58,\n",
       " 'other': 59,\n",
       " 'small': 60,\n",
       " 'animals': 61,\n",
       " 'one': 62,\n",
       " 'people': 63,\n",
       " 'deliberately': 64,\n",
       " 'tamed': 65,\n",
       " 'artificial': 66,\n",
       " 'selection': 67,\n",
       " 'they': 68,\n",
       " 'were': 69,\n",
       " 'useful': 70,\n",
       " 'predators': 71,\n",
       " 'vermin': 72,\n",
       " 'domesticated': 73,\n",
       " 'its': 74,\n",
       " 'closest': 75,\n",
       " 'wild': 76,\n",
       " 'ancestor': 77,\n",
       " 'are': 78,\n",
       " 'both': 79,\n",
       " 'diploid': 80,\n",
       " 'organisms': 81,\n",
       " 'that': 82,\n",
       " 'possess': 83,\n",
       " 'chromosomes': 84,\n",
       " 'roughly': 85,\n",
       " 'genes': 86,\n",
       " 'domestic': 87,\n",
       " 'similar': 88,\n",
       " 'size': 89,\n",
       " 'members': 90,\n",
       " 'genus': 91,\n",
       " 'felis': 92,\n",
       " 'typically': 93,\n",
       " 'weighing': 94,\n",
       " 'between': 95,\n",
       " 'kg': 96,\n",
       " 'lb': 97,\n",
       " 'however': 98,\n",
       " 'if': 99,\n",
       " 'piped': 100,\n",
       " 'redirected': 101,\n",
       " 'unnecessary': 102,\n",
       " 'with': 103,\n",
       " 'named': 104,\n",
       " 'safer': 105,\n",
       " 'error': 106,\n",
       " 'concern': 107,\n",
       " 'wrong': 108,\n",
       " 'default': 109,\n",
       " 'redirection': 110,\n",
       " 'symbol': 111,\n",
       " 'instead': 112,\n",
       " 'often': 113,\n",
       " 'adjacent': 114,\n",
       " 'on': 115,\n",
       " 'keyboards': 116,\n",
       " 'may': 117,\n",
       " 'permanently': 118,\n",
       " 'delete': 119,\n",
       " 'you': 120,\n",
       " 'needing': 121,\n",
       " 'read': 122,\n",
       " 'terms': 123,\n",
       " 'legibility': 124,\n",
       " 'commands': 125,\n",
       " 'starting': 126,\n",
       " 'connected': 127,\n",
       " 'pipes': 128,\n",
       " 'has': 129,\n",
       " 'clear': 130,\n",
       " 'left': 131,\n",
       " 'right': 132,\n",
       " 'flow': 133,\n",
       " 'information': 134,\n",
       " 'command': 135,\n",
       " 'basic': 136,\n",
       " 'learned': 137,\n",
       " 'when': 138,\n",
       " 'started': 139,\n",
       " 'unix': 140,\n",
       " 'linux': 141,\n",
       " 'world': 142,\n",
       " 'using': 143,\n",
       " 'lines': 144,\n",
       " 'received': 145,\n",
       " 'from': 146,\n",
       " 'stdin': 147,\n",
       " 'new': 148,\n",
       " 'symbols': 149,\n",
       " 'type': 150,\n",
       " 'without': 151,\n",
       " 'any': 152,\n",
       " 'arguments': 153,\n",
       " 'receives': 154,\n",
       " 'displays': 155,\n",
       " 'stdout': 156,\n",
       " 'leopard': 157,\n",
       " 'was': 158,\n",
       " 'released': 159,\n",
       " 'october': 160,\n",
       " 'successor': 161,\n",
       " 'tiger': 162,\n",
       " 'version': 163,\n",
       " 'available': 164,\n",
       " 'two': 165,\n",
       " 'editions': 166,\n",
       " 'according': 167,\n",
       " 'apple': 168,\n",
       " 'contains': 169,\n",
       " 'over': 170,\n",
       " 'enhancements': 171,\n",
       " 'predecessor': 172,\n",
       " 'mac': 173,\n",
       " 'os': 174,\n",
       " 'x': 175,\n",
       " 'mid': 176,\n",
       " 'some': 177,\n",
       " 'computers': 178,\n",
       " 'firmware': 179,\n",
       " 'factory': 180,\n",
       " 'installed': 181,\n",
       " 'which': 182,\n",
       " 'no': 183,\n",
       " 'longer': 184,\n",
       " 'allow': 185,\n",
       " 'installation': 186,\n",
       " 'since': 187,\n",
       " 'moved': 188,\n",
       " 'intel': 189,\n",
       " 'processors': 190,\n",
       " 'their': 191,\n",
       " 'osx': 192,\n",
       " 'community': 193,\n",
       " 'developed': 194,\n",
       " 'now': 195,\n",
       " 'allows': 196,\n",
       " 'later': 197,\n",
       " 'releases': 198,\n",
       " 'non': 199,\n",
       " 'based': 200,\n",
       " 'mountain': 201,\n",
       " 'lion': 202,\n",
       " 'july': 203,\n",
       " 'purchase': 204,\n",
       " 'download': 205,\n",
       " 'through': 206,\n",
       " 's': 207,\n",
       " 'app': 208,\n",
       " 'store': 209,\n",
       " 'part': 210,\n",
       " 'switch': 211,\n",
       " 'releasing': 212,\n",
       " 'versions': 213,\n",
       " 'online': 214,\n",
       " 'every': 215,\n",
       " 'year': 216,\n",
       " 'patch': 217,\n",
       " 'three': 218,\n",
       " 'most': 219,\n",
       " 'recent': 220,\n",
       " 'safari': 221,\n",
       " 'running': 222,\n",
       " 'yosemite': 223,\n",
       " 'mavericks': 224,\n",
       " 'release': 225,\n",
       " 'marks': 226,\n",
       " 'second': 227,\n",
       " 'time': 228,\n",
       " 'offered': 229,\n",
       " 'an': 230,\n",
       " 'incremental': 231,\n",
       " 'upgrade': 232,\n",
       " 'rather': 233,\n",
       " 'than': 234,\n",
       " 'entirely': 235,\n",
       " 'installs': 236,\n",
       " 'place': 237,\n",
       " 'so': 238,\n",
       " 'won': 239,\n",
       " 't': 240,\n",
       " 'need': 241,\n",
       " 'create': 242,\n",
       " 'separate': 243,\n",
       " 'disk': 244,\n",
       " 'run': 245,\n",
       " 'off': 246,\n",
       " 'external': 247,\n",
       " 'drive': 248,\n",
       " 'fifth': 249,\n",
       " 'update': 250,\n",
       " 'features': 251,\n",
       " 'more': 252,\n",
       " 'count': 253}"
      ]
     },
     "execution_count": 63,
     "metadata": {},
     "output_type": "execute_result"
    }
   ],
   "source": [
    "word_to_token = {}\n",
    "lines = []\n",
    "with open('data/sentences.txt', 'r') as f:\n",
    "    for line in f:\n",
    "        line = line.lower()\n",
    "        words =  re.split('[^a-z]', line)\n",
    "        lines.append(words)\n",
    "        words = filter(lambda x: x != \"\", words)\n",
    "        for word in words:\n",
    "            if word not in word_to_token.keys():\n",
    "                word_to_token[word] = len(word_to_token)\n",
    "word_to_token"
   ]
  },
  {
   "cell_type": "code",
   "execution_count": 64,
   "metadata": {},
   "outputs": [
    {
     "data": {
      "text/plain": [
       "array([[1., 1., 1., ..., 0., 0., 0.],\n",
       "       [0., 0., 1., ..., 0., 0., 0.],\n",
       "       [0., 0., 2., ..., 0., 0., 0.],\n",
       "       ...,\n",
       "       [0., 0., 0., ..., 0., 0., 0.],\n",
       "       [1., 0., 1., ..., 0., 0., 0.],\n",
       "       [0., 0., 1., ..., 1., 1., 1.]])"
      ]
     },
     "execution_count": 64,
     "metadata": {},
     "output_type": "execute_result"
    }
   ],
   "source": [
    "matrix = np.zeros([22, 254])\n",
    "for i, line in enumerate(lines):\n",
    "    for word in word_to_token.keys():\n",
    "        matrix[i][word_to_token[word]] = line.count(word)\n",
    "matrix"
   ]
  },
  {
   "cell_type": "code",
   "execution_count": 65,
   "metadata": {},
   "outputs": [
    {
     "data": {
      "text/plain": [
       "[0.0,\n",
       " 0.9527544408738466,\n",
       " 0.8644738145642124,\n",
       " 0.8951715163278082,\n",
       " 0.7770887149698589,\n",
       " 0.9402385695332803,\n",
       " 0.7327387580875756,\n",
       " 0.9258750683338899,\n",
       " 0.8842724875284311,\n",
       " 0.9055088817476932,\n",
       " 0.8328165362273942,\n",
       " 0.8804771390665607,\n",
       " 0.8396432548525454,\n",
       " 0.8703592552895671,\n",
       " 0.8740118423302576,\n",
       " 0.9442721787424647,\n",
       " 0.8406361854220809,\n",
       " 0.956644501523794,\n",
       " 0.9442721787424647,\n",
       " 0.8885443574849294,\n",
       " 0.8427572744917122,\n",
       " 0.8250364469440588]"
      ]
     },
     "execution_count": 65,
     "metadata": {},
     "output_type": "execute_result"
    }
   ],
   "source": [
    "distances = []\n",
    "for i in range(matrix.shape[0]):\n",
    "    distances.append(cosine(matrix[0], matrix[i]))\n",
    "distances"
   ]
  },
  {
   "cell_type": "code",
   "execution_count": 75,
   "metadata": {},
   "outputs": [],
   "source": [
    "with open('data/submission-1.txt', 'w') as f:\n",
    "    f.write('4 6')"
   ]
  },
  {
   "cell_type": "markdown",
   "metadata": {},
   "source": [
    "# Задача 2"
   ]
  },
  {
   "cell_type": "code",
   "execution_count": 67,
   "metadata": {},
   "outputs": [],
   "source": [
    "def f(x):\n",
    "    return np.sin(x / 5) * np.exp(x / 10) + 5 * np.exp(-x / 2)"
   ]
  },
  {
   "cell_type": "code",
   "execution_count": 68,
   "metadata": {},
   "outputs": [
    {
     "data": {
      "text/plain": [
       "array([ 3.43914511, -0.18692825])"
      ]
     },
     "execution_count": 68,
     "metadata": {},
     "output_type": "execute_result"
    }
   ],
   "source": [
    "A = [[1, 1], [1, 15]]\n",
    "B = [f(1), f(15)]\n",
    "ans = scipy.linalg.solve(A, B)\n",
    "ans"
   ]
  },
  {
   "cell_type": "code",
   "execution_count": 69,
   "metadata": {},
   "outputs": [
    {
     "data": {
      "image/png": "[encoded data removed]",
      "text/plain": [
       "<Figure size 432x288 with 1 Axes>"
      ]
     },
     "metadata": {
      "needs_background": "light"
     },
     "output_type": "display_data"
    }
   ],
   "source": [
    "X = np.arange(0,15,0.01)\n",
    "Y = f(X)\n",
    "plt.plot(X, Y)\n",
    "plt.plot(X, ans[1]*X + ans[0])\n",
    "plt.show()"
   ]
  },
  {
   "cell_type": "code",
   "execution_count": 70,
   "metadata": {},
   "outputs": [
    {
     "data": {
      "text/plain": [
       "array([ 3.32512949, -0.06531159, -0.00760104])"
      ]
     },
     "execution_count": 70,
     "metadata": {},
     "output_type": "execute_result"
    }
   ],
   "source": [
    "A = [[1, 1, 1], [1, 8, 64], [1, 15, 225]]\n",
    "B = [f(1), f(8), f(15)]\n",
    "ans = scipy.linalg.solve(A, B)\n",
    "ans"
   ]
  },
  {
   "cell_type": "code",
   "execution_count": 71,
   "metadata": {},
   "outputs": [
    {
     "data": {
      "image/png": "[encoded data removed]",
      "text/plain": [
       "<Figure size 432x288 with 1 Axes>"
      ]
     },
     "metadata": {
      "needs_background": "light"
     },
     "output_type": "display_data"
    }
   ],
   "source": [
    "plt.plot(X, Y)\n",
    "plt.plot(X, ans[2]*X**2 + ans[1]*X + ans[0])\n",
    "plt.show()"
   ]
  },
  {
   "cell_type": "code",
   "execution_count": 72,
   "metadata": {},
   "outputs": [
    {
     "data": {
      "text/plain": [
       "array([ 4.36264154, -1.29552587,  0.19333685, -0.00823565])"
      ]
     },
     "execution_count": 72,
     "metadata": {},
     "output_type": "execute_result"
    }
   ],
   "source": [
    "A = [[1, 1, 1, 1], [1, 4, 16, 64], [1, 10, 100, 1000], [1, 15, 225, 225*15]]\n",
    "B = [f(1), f(4), f(10), f(15)]\n",
    "ans = scipy.linalg.solve(A, B)\n",
    "ans"
   ]
  },
  {
   "cell_type": "code",
   "execution_count": 76,
   "metadata": {},
   "outputs": [
    {
     "data": {
      "image/png": "[encoded data removed]",
      "text/plain": [
       "<Figure size 432x288 with 1 Axes>"
      ]
     },
     "metadata": {
      "needs_background": "light"
     },
     "output_type": "display_data"
    }
   ],
   "source": [
    "plt.plot(X, Y)\n",
    "plt.plot(X, ans[3]*X**3 + ans[2]*X**2 + ans[1]*X + ans[0])\n",
    "plt.show()"
   ]
  },
  {
   "cell_type": "code",
   "execution_count": 77,
   "metadata": {},
   "outputs": [],
   "source": [
    "with open('data/submission-2.txt', 'w') as f:\n",
    "    f.write('4.36264154 -1.29552587  0.19333685 -0.00823565')"
   ]
  },
  {
   "cell_type": "code",
   "execution_count": null,
   "metadata": {},
   "outputs": [],
   "source": []
  }
 ],
 "metadata": {
  "kernelspec": {
   "display_name": "Python 3",
   "language": "python",
   "name": "python3"
  },
  "language_info": {
   "codemirror_mode": {
    "name": "ipython",
    "version": 3
   },
   "file_extension": ".py",
   "mimetype": "text/x-python",
   "name": "python",
   "nbconvert_exporter": "python",
   "pygments_lexer": "ipython3",
   "version": "3.6.10"
  }
 },
 "nbformat": 4,
 "nbformat_minor": 4
}
