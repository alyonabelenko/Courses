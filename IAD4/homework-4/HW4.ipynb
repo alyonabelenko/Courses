{
  "cells": [
    {
      "cell_type": "markdown",
      "metadata": {
        "id": "ExuV3ktSQYrH"
      },
      "source": [
        "<center><img src=\"https://github.com/hse-ds/iad-applied-ds/blob/master/2021/hw/hw1/img/logo_hse.png?raw=1\" width=\"1000\"></center>\n",
        "\n",
        "<h1><center>Прикладные задачи анализа данных</center></h1>\n",
        "<h2><center>Домашнее задание 4: рекомендательные системы</center></h2>"
      ]
    },
    {
      "cell_type": "markdown",
      "metadata": {
        "id": "ef6180WvQbD-"
      },
      "source": [
        "# Введение\n",
        "\n",
        "В этом задании Вы продолжите работать с данными из семинара [Articles Sharing and Reading from CI&T Deskdrop](https://www.kaggle.com/gspmoreira/articles-sharing-reading-from-cit-deskdrop)."
      ]
    },
    {
      "cell_type": "markdown",
      "metadata": {
        "id": "nSV_mxD9TciM"
      },
      "source": [
        "# Загрузка и предобработка данных"
      ]
    },
    {
      "cell_type": "code",
      "source": [
        "!pip install lightfm"
      ],
      "metadata": {
        "colab": {
          "base_uri": "https://localhost:8080/"
        },
        "id": "FgSinL273nr2",
        "outputId": "dd97ec59-3a4a-4289-908c-3e12632fa2ef"
      },
      "execution_count": 2,
      "outputs": [
        {
          "output_type": "stream",
          "name": "stdout",
          "text": [
            "Requirement already satisfied: lightfm in /usr/local/lib/python3.7/dist-packages (1.16)\n",
            "Requirement already satisfied: scikit-learn in /usr/local/lib/python3.7/dist-packages (from lightfm) (1.0.2)\n",
            "Requirement already satisfied: scipy>=0.17.0 in /usr/local/lib/python3.7/dist-packages (from lightfm) (1.4.1)\n",
            "Requirement already satisfied: requests in /usr/local/lib/python3.7/dist-packages (from lightfm) (2.23.0)\n",
            "Requirement already satisfied: numpy in /usr/local/lib/python3.7/dist-packages (from lightfm) (1.21.6)\n",
            "Requirement already satisfied: urllib3!=1.25.0,!=1.25.1,<1.26,>=1.21.1 in /usr/local/lib/python3.7/dist-packages (from requests->lightfm) (1.24.3)\n",
            "Requirement already satisfied: certifi>=2017.4.17 in /usr/local/lib/python3.7/dist-packages (from requests->lightfm) (2021.10.8)\n",
            "Requirement already satisfied: idna<3,>=2.5 in /usr/local/lib/python3.7/dist-packages (from requests->lightfm) (2.10)\n",
            "Requirement already satisfied: chardet<4,>=3.0.2 in /usr/local/lib/python3.7/dist-packages (from requests->lightfm) (3.0.4)\n",
            "Requirement already satisfied: threadpoolctl>=2.0.0 in /usr/local/lib/python3.7/dist-packages (from scikit-learn->lightfm) (3.1.0)\n",
            "Requirement already satisfied: joblib>=0.11 in /usr/local/lib/python3.7/dist-packages (from scikit-learn->lightfm) (1.1.0)\n"
          ]
        }
      ]
    },
    {
      "cell_type": "code",
      "execution_count": 45,
      "metadata": {
        "id": "M5mH3ZolSlcm"
      },
      "outputs": [],
      "source": [
        "import pandas as pd\n",
        "import numpy as np\n",
        "import math\n",
        "\n",
        "from scipy.sparse import csr_matrix, coo_matrix\n",
        "\n",
        "from lightfm import LightFM\n",
        "from lightfm.evaluation import precision_at_k\n",
        "\n",
        "from sklearn.feature_extraction.text import TfidfVectorizer"
      ]
    },
    {
      "cell_type": "markdown",
      "metadata": {
        "id": "PRQVuRvER0hd"
      },
      "source": [
        "Загрузим данные и проведем предобраотку данных как на семинаре."
      ]
    },
    {
      "cell_type": "code",
      "source": [
        "KAGGLE_JSON_PATH = None\n",
        "try:\n",
        "    from google.colab import files, drive\n",
        "    KAGGLE_JSON_PATH = '/content/drive/'\n",
        "    drive.mount(KAGGLE_JSON_PATH)\n",
        "    KAGGLE_JSON_PATH += 'My\\ Drive/constants/kaggle.json'\n",
        "except:\n",
        "    pass"
      ],
      "metadata": {
        "colab": {
          "base_uri": "https://localhost:8080/"
        },
        "id": "Iv-wsTbEt84u",
        "outputId": "4c74993b-ab0f-4275-813a-759da637f9fa"
      },
      "execution_count": 4,
      "outputs": [
        {
          "output_type": "stream",
          "name": "stdout",
          "text": [
            "Mounted at /content/drive/\n"
          ]
        }
      ]
    },
    {
      "cell_type": "code",
      "source": [
        "!mkdir /root/.kaggle\n",
        "!cp {KAGGLE_JSON_PATH} /root/.kaggle/"
      ],
      "metadata": {
        "colab": {
          "base_uri": "https://localhost:8080/"
        },
        "id": "T2VHRNHmuiCo",
        "outputId": "ee2ac0e9-391c-4a97-c4a7-653a6f9397e4"
      },
      "execution_count": 25,
      "outputs": [
        {
          "output_type": "stream",
          "name": "stdout",
          "text": [
            "mkdir: cannot create directory ‘/root/.kaggle’: File exists\n"
          ]
        }
      ]
    },
    {
      "cell_type": "code",
      "execution_count": 27,
      "metadata": {
        "id": "8E837g9kQTbb",
        "colab": {
          "base_uri": "https://localhost:8080/"
        },
        "outputId": "9e986cb0-3656-480e-9c28-4e235d032e54"
      },
      "outputs": [
        {
          "output_type": "stream",
          "name": "stdout",
          "text": [
            "Downloading articles-sharing-reading-from-cit-deskdrop.zip to /content\n",
            " 61% 5.00M/8.20M [00:00<00:00, 33.9MB/s]\n",
            "100% 8.20M/8.20M [00:00<00:00, 52.0MB/s]\n",
            "Archive:  articles-sharing-reading-from-cit-deskdrop.zip\n",
            "  inflating: articles/shared_articles.csv  \n",
            "  inflating: articles/users_interactions.csv  \n"
          ]
        }
      ],
      "source": [
        "!kaggle datasets download -d gspmoreira/articles-sharing-reading-from-cit-deskdrop\n",
        "!unzip articles-sharing-reading-from-cit-deskdrop.zip -d articles"
      ]
    },
    {
      "cell_type": "code",
      "execution_count": 28,
      "metadata": {
        "colab": {
          "base_uri": "https://localhost:8080/",
          "height": 436
        },
        "id": "hdM1xSchR9jt",
        "outputId": "298934be-28a9-4758-e8d5-8545d5c848dd"
      },
      "outputs": [
        {
          "output_type": "execute_result",
          "data": {
            "text/plain": [
              "    timestamp       eventType            contentId       authorPersonId  \\\n",
              "1  1459193988  CONTENT SHARED -4110354420726924665  4340306774493623681   \n",
              "2  1459194146  CONTENT SHARED -7292285110016212249  4340306774493623681   \n",
              "\n",
              "       authorSessionId authorUserAgent authorRegion authorCountry contentType  \\\n",
              "1  8940341205206233829             NaN          NaN           NaN        HTML   \n",
              "2  8940341205206233829             NaN          NaN           NaN        HTML   \n",
              "\n",
              "                                                 url  \\\n",
              "1  http://www.nytimes.com/2016/03/28/business/dea...   \n",
              "2  http://cointelegraph.com/news/bitcoin-future-w...   \n",
              "\n",
              "                                               title  \\\n",
              "1  Ethereum, a Virtual Currency, Enables Transact...   \n",
              "2  Bitcoin Future: When GBPcoin of Branson Wins O...   \n",
              "\n",
              "                                                text lang  \n",
              "1  All of this work is still very early. The firs...   en  \n",
              "2  The alarm clock wakes me at 8:00 with stream o...   en  "
            ],
            "text/html": [
              "\n",
              "  <div id=\"df-96d66328-ef8f-4b83-a145-6ea40df60c6a\">\n",
              "    <div class=\"colab-df-container\">\n",
              "      <div>\n",
              "<style scoped>\n",
              "    .dataframe tbody tr th:only-of-type {\n",
              "        vertical-align: middle;\n",
              "    }\n",
              "\n",
              "    .dataframe tbody tr th {\n",
              "        vertical-align: top;\n",
              "    }\n",
              "\n",
              "    .dataframe thead th {\n",
              "        text-align: right;\n",
              "    }\n",
              "</style>\n",
              "<table border=\"1\" class=\"dataframe\">\n",
              "  <thead>\n",
              "    <tr style=\"text-align: right;\">\n",
              "      <th></th>\n",
              "      <th>timestamp</th>\n",
              "      <th>eventType</th>\n",
              "      <th>contentId</th>\n",
              "      <th>authorPersonId</th>\n",
              "      <th>authorSessionId</th>\n",
              "      <th>authorUserAgent</th>\n",
              "      <th>authorRegion</th>\n",
              "      <th>authorCountry</th>\n",
              "      <th>contentType</th>\n",
              "      <th>url</th>\n",
              "      <th>title</th>\n",
              "      <th>text</th>\n",
              "      <th>lang</th>\n",
              "    </tr>\n",
              "  </thead>\n",
              "  <tbody>\n",
              "    <tr>\n",
              "      <th>1</th>\n",
              "      <td>1459193988</td>\n",
              "      <td>CONTENT SHARED</td>\n",
              "      <td>-4110354420726924665</td>\n",
              "      <td>4340306774493623681</td>\n",
              "      <td>8940341205206233829</td>\n",
              "      <td>NaN</td>\n",
              "      <td>NaN</td>\n",
              "      <td>NaN</td>\n",
              "      <td>HTML</td>\n",
              "      <td>http://www.nytimes.com/2016/03/28/business/dea...</td>\n",
              "      <td>Ethereum, a Virtual Currency, Enables Transact...</td>\n",
              "      <td>All of this work is still very early. The firs...</td>\n",
              "      <td>en</td>\n",
              "    </tr>\n",
              "    <tr>\n",
              "      <th>2</th>\n",
              "      <td>1459194146</td>\n",
              "      <td>CONTENT SHARED</td>\n",
              "      <td>-7292285110016212249</td>\n",
              "      <td>4340306774493623681</td>\n",
              "      <td>8940341205206233829</td>\n",
              "      <td>NaN</td>\n",
              "      <td>NaN</td>\n",
              "      <td>NaN</td>\n",
              "      <td>HTML</td>\n",
              "      <td>http://cointelegraph.com/news/bitcoin-future-w...</td>\n",
              "      <td>Bitcoin Future: When GBPcoin of Branson Wins O...</td>\n",
              "      <td>The alarm clock wakes me at 8:00 with stream o...</td>\n",
              "      <td>en</td>\n",
              "    </tr>\n",
              "  </tbody>\n",
              "</table>\n",
              "</div>\n",
              "      <button class=\"colab-df-convert\" onclick=\"convertToInteractive('df-96d66328-ef8f-4b83-a145-6ea40df60c6a')\"\n",
              "              title=\"Convert this dataframe to an interactive table.\"\n",
              "              style=\"display:none;\">\n",
              "        \n",
              "  <svg xmlns=\"http://www.w3.org/2000/svg\" height=\"24px\"viewBox=\"0 0 24 24\"\n",
              "       width=\"24px\">\n",
              "    <path d=\"M0 0h24v24H0V0z\" fill=\"none\"/>\n",
              "    <path d=\"M18.56 5.44l.94 2.06.94-2.06 2.06-.94-2.06-.94-.94-2.06-.94 2.06-2.06.94zm-11 1L8.5 8.5l.94-2.06 2.06-.94-2.06-.94L8.5 2.5l-.94 2.06-2.06.94zm10 10l.94 2.06.94-2.06 2.06-.94-2.06-.94-.94-2.06-.94 2.06-2.06.94z\"/><path d=\"M17.41 7.96l-1.37-1.37c-.4-.4-.92-.59-1.43-.59-.52 0-1.04.2-1.43.59L10.3 9.45l-7.72 7.72c-.78.78-.78 2.05 0 2.83L4 21.41c.39.39.9.59 1.41.59.51 0 1.02-.2 1.41-.59l7.78-7.78 2.81-2.81c.8-.78.8-2.07 0-2.86zM5.41 20L4 18.59l7.72-7.72 1.47 1.35L5.41 20z\"/>\n",
              "  </svg>\n",
              "      </button>\n",
              "      \n",
              "  <style>\n",
              "    .colab-df-container {\n",
              "      display:flex;\n",
              "      flex-wrap:wrap;\n",
              "      gap: 12px;\n",
              "    }\n",
              "\n",
              "    .colab-df-convert {\n",
              "      background-color: #E8F0FE;\n",
              "      border: none;\n",
              "      border-radius: 50%;\n",
              "      cursor: pointer;\n",
              "      display: none;\n",
              "      fill: #1967D2;\n",
              "      height: 32px;\n",
              "      padding: 0 0 0 0;\n",
              "      width: 32px;\n",
              "    }\n",
              "\n",
              "    .colab-df-convert:hover {\n",
              "      background-color: #E2EBFA;\n",
              "      box-shadow: 0px 1px 2px rgba(60, 64, 67, 0.3), 0px 1px 3px 1px rgba(60, 64, 67, 0.15);\n",
              "      fill: #174EA6;\n",
              "    }\n",
              "\n",
              "    [theme=dark] .colab-df-convert {\n",
              "      background-color: #3B4455;\n",
              "      fill: #D2E3FC;\n",
              "    }\n",
              "\n",
              "    [theme=dark] .colab-df-convert:hover {\n",
              "      background-color: #434B5C;\n",
              "      box-shadow: 0px 1px 3px 1px rgba(0, 0, 0, 0.15);\n",
              "      filter: drop-shadow(0px 1px 2px rgba(0, 0, 0, 0.3));\n",
              "      fill: #FFFFFF;\n",
              "    }\n",
              "  </style>\n",
              "\n",
              "      <script>\n",
              "        const buttonEl =\n",
              "          document.querySelector('#df-96d66328-ef8f-4b83-a145-6ea40df60c6a button.colab-df-convert');\n",
              "        buttonEl.style.display =\n",
              "          google.colab.kernel.accessAllowed ? 'block' : 'none';\n",
              "\n",
              "        async function convertToInteractive(key) {\n",
              "          const element = document.querySelector('#df-96d66328-ef8f-4b83-a145-6ea40df60c6a');\n",
              "          const dataTable =\n",
              "            await google.colab.kernel.invokeFunction('convertToInteractive',\n",
              "                                                     [key], {});\n",
              "          if (!dataTable) return;\n",
              "\n",
              "          const docLinkHtml = 'Like what you see? Visit the ' +\n",
              "            '<a target=\"_blank\" href=https://colab.research.google.com/notebooks/data_table.ipynb>data table notebook</a>'\n",
              "            + ' to learn more about interactive tables.';\n",
              "          element.innerHTML = '';\n",
              "          dataTable['output_type'] = 'display_data';\n",
              "          await google.colab.output.renderOutput(dataTable, element);\n",
              "          const docLink = document.createElement('div');\n",
              "          docLink.innerHTML = docLinkHtml;\n",
              "          element.appendChild(docLink);\n",
              "        }\n",
              "      </script>\n",
              "    </div>\n",
              "  </div>\n",
              "  "
            ]
          },
          "metadata": {},
          "execution_count": 28
        }
      ],
      "source": [
        "articles_df = pd.read_csv(\"articles/shared_articles.csv\")\n",
        "articles_df = articles_df[articles_df[\"eventType\"] == \"CONTENT SHARED\"]\n",
        "articles_df.head(2)"
      ]
    },
    {
      "cell_type": "code",
      "execution_count": 29,
      "metadata": {
        "colab": {
          "base_uri": "https://localhost:8080/",
          "height": 112
        },
        "id": "KK9wMAkvSjbk",
        "outputId": "ed8c9435-4499-4384-a950-4efb6d5fcf9e"
      },
      "outputs": [
        {
          "output_type": "execute_result",
          "data": {
            "text/plain": [
              "    timestamp eventType            contentId             personId  \\\n",
              "0  1465413032      VIEW -3499919498720038879 -8845298781299428018   \n",
              "1  1465412560      VIEW  8890720798209849691 -1032019229384696495   \n",
              "\n",
              "             sessionId                                          userAgent  \\\n",
              "0  1264196770339959068                                                NaN   \n",
              "1  3621737643587579081  Mozilla/5.0 (Macintosh; Intel Mac OS X 10_11_2...   \n",
              "\n",
              "  userRegion userCountry  \n",
              "0        NaN         NaN  \n",
              "1         NY          US  "
            ],
            "text/html": [
              "\n",
              "  <div id=\"df-ad8303bf-5793-4379-abcf-58c9e43384a3\">\n",
              "    <div class=\"colab-df-container\">\n",
              "      <div>\n",
              "<style scoped>\n",
              "    .dataframe tbody tr th:only-of-type {\n",
              "        vertical-align: middle;\n",
              "    }\n",
              "\n",
              "    .dataframe tbody tr th {\n",
              "        vertical-align: top;\n",
              "    }\n",
              "\n",
              "    .dataframe thead th {\n",
              "        text-align: right;\n",
              "    }\n",
              "</style>\n",
              "<table border=\"1\" class=\"dataframe\">\n",
              "  <thead>\n",
              "    <tr style=\"text-align: right;\">\n",
              "      <th></th>\n",
              "      <th>timestamp</th>\n",
              "      <th>eventType</th>\n",
              "      <th>contentId</th>\n",
              "      <th>personId</th>\n",
              "      <th>sessionId</th>\n",
              "      <th>userAgent</th>\n",
              "      <th>userRegion</th>\n",
              "      <th>userCountry</th>\n",
              "    </tr>\n",
              "  </thead>\n",
              "  <tbody>\n",
              "    <tr>\n",
              "      <th>0</th>\n",
              "      <td>1465413032</td>\n",
              "      <td>VIEW</td>\n",
              "      <td>-3499919498720038879</td>\n",
              "      <td>-8845298781299428018</td>\n",
              "      <td>1264196770339959068</td>\n",
              "      <td>NaN</td>\n",
              "      <td>NaN</td>\n",
              "      <td>NaN</td>\n",
              "    </tr>\n",
              "    <tr>\n",
              "      <th>1</th>\n",
              "      <td>1465412560</td>\n",
              "      <td>VIEW</td>\n",
              "      <td>8890720798209849691</td>\n",
              "      <td>-1032019229384696495</td>\n",
              "      <td>3621737643587579081</td>\n",
              "      <td>Mozilla/5.0 (Macintosh; Intel Mac OS X 10_11_2...</td>\n",
              "      <td>NY</td>\n",
              "      <td>US</td>\n",
              "    </tr>\n",
              "  </tbody>\n",
              "</table>\n",
              "</div>\n",
              "      <button class=\"colab-df-convert\" onclick=\"convertToInteractive('df-ad8303bf-5793-4379-abcf-58c9e43384a3')\"\n",
              "              title=\"Convert this dataframe to an interactive table.\"\n",
              "              style=\"display:none;\">\n",
              "        \n",
              "  <svg xmlns=\"http://www.w3.org/2000/svg\" height=\"24px\"viewBox=\"0 0 24 24\"\n",
              "       width=\"24px\">\n",
              "    <path d=\"M0 0h24v24H0V0z\" fill=\"none\"/>\n",
              "    <path d=\"M18.56 5.44l.94 2.06.94-2.06 2.06-.94-2.06-.94-.94-2.06-.94 2.06-2.06.94zm-11 1L8.5 8.5l.94-2.06 2.06-.94-2.06-.94L8.5 2.5l-.94 2.06-2.06.94zm10 10l.94 2.06.94-2.06 2.06-.94-2.06-.94-.94-2.06-.94 2.06-2.06.94z\"/><path d=\"M17.41 7.96l-1.37-1.37c-.4-.4-.92-.59-1.43-.59-.52 0-1.04.2-1.43.59L10.3 9.45l-7.72 7.72c-.78.78-.78 2.05 0 2.83L4 21.41c.39.39.9.59 1.41.59.51 0 1.02-.2 1.41-.59l7.78-7.78 2.81-2.81c.8-.78.8-2.07 0-2.86zM5.41 20L4 18.59l7.72-7.72 1.47 1.35L5.41 20z\"/>\n",
              "  </svg>\n",
              "      </button>\n",
              "      \n",
              "  <style>\n",
              "    .colab-df-container {\n",
              "      display:flex;\n",
              "      flex-wrap:wrap;\n",
              "      gap: 12px;\n",
              "    }\n",
              "\n",
              "    .colab-df-convert {\n",
              "      background-color: #E8F0FE;\n",
              "      border: none;\n",
              "      border-radius: 50%;\n",
              "      cursor: pointer;\n",
              "      display: none;\n",
              "      fill: #1967D2;\n",
              "      height: 32px;\n",
              "      padding: 0 0 0 0;\n",
              "      width: 32px;\n",
              "    }\n",
              "\n",
              "    .colab-df-convert:hover {\n",
              "      background-color: #E2EBFA;\n",
              "      box-shadow: 0px 1px 2px rgba(60, 64, 67, 0.3), 0px 1px 3px 1px rgba(60, 64, 67, 0.15);\n",
              "      fill: #174EA6;\n",
              "    }\n",
              "\n",
              "    [theme=dark] .colab-df-convert {\n",
              "      background-color: #3B4455;\n",
              "      fill: #D2E3FC;\n",
              "    }\n",
              "\n",
              "    [theme=dark] .colab-df-convert:hover {\n",
              "      background-color: #434B5C;\n",
              "      box-shadow: 0px 1px 3px 1px rgba(0, 0, 0, 0.15);\n",
              "      filter: drop-shadow(0px 1px 2px rgba(0, 0, 0, 0.3));\n",
              "      fill: #FFFFFF;\n",
              "    }\n",
              "  </style>\n",
              "\n",
              "      <script>\n",
              "        const buttonEl =\n",
              "          document.querySelector('#df-ad8303bf-5793-4379-abcf-58c9e43384a3 button.colab-df-convert');\n",
              "        buttonEl.style.display =\n",
              "          google.colab.kernel.accessAllowed ? 'block' : 'none';\n",
              "\n",
              "        async function convertToInteractive(key) {\n",
              "          const element = document.querySelector('#df-ad8303bf-5793-4379-abcf-58c9e43384a3');\n",
              "          const dataTable =\n",
              "            await google.colab.kernel.invokeFunction('convertToInteractive',\n",
              "                                                     [key], {});\n",
              "          if (!dataTable) return;\n",
              "\n",
              "          const docLinkHtml = 'Like what you see? Visit the ' +\n",
              "            '<a target=\"_blank\" href=https://colab.research.google.com/notebooks/data_table.ipynb>data table notebook</a>'\n",
              "            + ' to learn more about interactive tables.';\n",
              "          element.innerHTML = '';\n",
              "          dataTable['output_type'] = 'display_data';\n",
              "          await google.colab.output.renderOutput(dataTable, element);\n",
              "          const docLink = document.createElement('div');\n",
              "          docLink.innerHTML = docLinkHtml;\n",
              "          element.appendChild(docLink);\n",
              "        }\n",
              "      </script>\n",
              "    </div>\n",
              "  </div>\n",
              "  "
            ]
          },
          "metadata": {},
          "execution_count": 29
        }
      ],
      "source": [
        "interactions_df = pd.read_csv(\"articles/users_interactions.csv\")\n",
        "interactions_df.head(2)"
      ]
    },
    {
      "cell_type": "code",
      "execution_count": 30,
      "metadata": {
        "id": "5nQScdSTTzNG"
      },
      "outputs": [],
      "source": [
        "interactions_df.personId = interactions_df.personId.astype(str)\n",
        "interactions_df.contentId = interactions_df.contentId.astype(str)\n",
        "articles_df.contentId = articles_df.contentId.astype(str)"
      ]
    },
    {
      "cell_type": "code",
      "execution_count": 31,
      "metadata": {
        "id": "eu6R9rDQT2P4"
      },
      "outputs": [],
      "source": [
        "# зададим словарь определяющий силу взаимодействия\n",
        "event_type_strength = {\n",
        "   \"VIEW\": 1.0,\n",
        "   \"LIKE\": 2.0, \n",
        "   \"BOOKMARK\": 2.5, \n",
        "   \"FOLLOW\": 3.0,\n",
        "   \"COMMENT CREATED\": 4.0,  \n",
        "}\n",
        "\n",
        "interactions_df[\"eventStrength\"] = interactions_df.eventType.apply(lambda x: event_type_strength[x])"
      ]
    },
    {
      "cell_type": "markdown",
      "metadata": {
        "id": "ATO5PRRwUkQ0"
      },
      "source": [
        "Оставляем только тех пользователей, которые произамодействовали более чем с пятью статьями."
      ]
    },
    {
      "cell_type": "code",
      "execution_count": 32,
      "metadata": {
        "colab": {
          "base_uri": "https://localhost:8080/"
        },
        "id": "d-0HoboYUBm5",
        "outputId": "8a4c156d-0f08-4325-caac-8734ef56073b"
      },
      "outputs": [
        {
          "output_type": "stream",
          "name": "stdout",
          "text": [
            "# users: 1895\n",
            "# users with at least 5 interactions: 1140\n"
          ]
        }
      ],
      "source": [
        "users_interactions_count_df = (\n",
        "    interactions_df\n",
        "    .groupby([\"personId\", \"contentId\"])\n",
        "    .first()\n",
        "    .reset_index()\n",
        "    .groupby(\"personId\").size())\n",
        "print(\"# users:\", len(users_interactions_count_df))\n",
        "\n",
        "users_with_enough_interactions_df = \\\n",
        "    users_interactions_count_df[users_interactions_count_df >= 5].reset_index()[[\"personId\"]]\n",
        "print(\"# users with at least 5 interactions:\",len(users_with_enough_interactions_df))"
      ]
    },
    {
      "cell_type": "markdown",
      "metadata": {
        "id": "gQagI3DHUuX5"
      },
      "source": [
        "Оставляем только те взаимодействия, которые относятся к отфильтрованным пользователям."
      ]
    },
    {
      "cell_type": "code",
      "execution_count": 33,
      "metadata": {
        "id": "34rrdGdpUFgk"
      },
      "outputs": [],
      "source": [
        "interactions_from_selected_users_df = interactions_df.loc[np.in1d(interactions_df.personId,\n",
        "            users_with_enough_interactions_df)]"
      ]
    },
    {
      "cell_type": "code",
      "execution_count": 34,
      "metadata": {
        "colab": {
          "base_uri": "https://localhost:8080/"
        },
        "id": "Hd3VS_BgU9HN",
        "outputId": "dc5c53f3-48f0-4314-86a2-1664b67c2799"
      },
      "outputs": [
        {
          "output_type": "stream",
          "name": "stdout",
          "text": [
            "# interactions before: (72312, 9)\n",
            "# interactions after: (69868, 9)\n"
          ]
        }
      ],
      "source": [
        "print(f\"# interactions before: {interactions_df.shape}\")\n",
        "print(f\"# interactions after: {interactions_from_selected_users_df.shape}\")"
      ]
    },
    {
      "cell_type": "markdown",
      "metadata": {
        "id": "FYpRiFkQVR6B"
      },
      "source": [
        "Объединяем все взаимодействия пользователя по каждой статье и сглажиываем полученный результат, взяв от него логарифм."
      ]
    },
    {
      "cell_type": "code",
      "execution_count": 35,
      "metadata": {
        "colab": {
          "base_uri": "https://localhost:8080/",
          "height": 206
        },
        "id": "mtPtAehKVEUu",
        "outputId": "ee197595-a6a3-4994-924a-7dbcf2329329"
      },
      "outputs": [
        {
          "output_type": "execute_result",
          "data": {
            "text/plain": [
              "               personId             contentId  eventStrength  last_timestamp\n",
              "0  -1007001694607905623  -5065077552540450930       1.000000      1470395911\n",
              "1  -1007001694607905623  -6623581327558800021       1.000000      1487240080\n",
              "2  -1007001694607905623   -793729620925729327       1.000000      1472834892\n",
              "3  -1007001694607905623   1469580151036142903       1.000000      1487240062\n",
              "4  -1007001694607905623   7270966256391553686       1.584963      1485994324"
            ],
            "text/html": [
              "\n",
              "  <div id=\"df-f46dddbb-1250-4051-b9e6-4990f8e3b0b1\">\n",
              "    <div class=\"colab-df-container\">\n",
              "      <div>\n",
              "<style scoped>\n",
              "    .dataframe tbody tr th:only-of-type {\n",
              "        vertical-align: middle;\n",
              "    }\n",
              "\n",
              "    .dataframe tbody tr th {\n",
              "        vertical-align: top;\n",
              "    }\n",
              "\n",
              "    .dataframe thead th {\n",
              "        text-align: right;\n",
              "    }\n",
              "</style>\n",
              "<table border=\"1\" class=\"dataframe\">\n",
              "  <thead>\n",
              "    <tr style=\"text-align: right;\">\n",
              "      <th></th>\n",
              "      <th>personId</th>\n",
              "      <th>contentId</th>\n",
              "      <th>eventStrength</th>\n",
              "      <th>last_timestamp</th>\n",
              "    </tr>\n",
              "  </thead>\n",
              "  <tbody>\n",
              "    <tr>\n",
              "      <th>0</th>\n",
              "      <td>-1007001694607905623</td>\n",
              "      <td>-5065077552540450930</td>\n",
              "      <td>1.000000</td>\n",
              "      <td>1470395911</td>\n",
              "    </tr>\n",
              "    <tr>\n",
              "      <th>1</th>\n",
              "      <td>-1007001694607905623</td>\n",
              "      <td>-6623581327558800021</td>\n",
              "      <td>1.000000</td>\n",
              "      <td>1487240080</td>\n",
              "    </tr>\n",
              "    <tr>\n",
              "      <th>2</th>\n",
              "      <td>-1007001694607905623</td>\n",
              "      <td>-793729620925729327</td>\n",
              "      <td>1.000000</td>\n",
              "      <td>1472834892</td>\n",
              "    </tr>\n",
              "    <tr>\n",
              "      <th>3</th>\n",
              "      <td>-1007001694607905623</td>\n",
              "      <td>1469580151036142903</td>\n",
              "      <td>1.000000</td>\n",
              "      <td>1487240062</td>\n",
              "    </tr>\n",
              "    <tr>\n",
              "      <th>4</th>\n",
              "      <td>-1007001694607905623</td>\n",
              "      <td>7270966256391553686</td>\n",
              "      <td>1.584963</td>\n",
              "      <td>1485994324</td>\n",
              "    </tr>\n",
              "  </tbody>\n",
              "</table>\n",
              "</div>\n",
              "      <button class=\"colab-df-convert\" onclick=\"convertToInteractive('df-f46dddbb-1250-4051-b9e6-4990f8e3b0b1')\"\n",
              "              title=\"Convert this dataframe to an interactive table.\"\n",
              "              style=\"display:none;\">\n",
              "        \n",
              "  <svg xmlns=\"http://www.w3.org/2000/svg\" height=\"24px\"viewBox=\"0 0 24 24\"\n",
              "       width=\"24px\">\n",
              "    <path d=\"M0 0h24v24H0V0z\" fill=\"none\"/>\n",
              "    <path d=\"M18.56 5.44l.94 2.06.94-2.06 2.06-.94-2.06-.94-.94-2.06-.94 2.06-2.06.94zm-11 1L8.5 8.5l.94-2.06 2.06-.94-2.06-.94L8.5 2.5l-.94 2.06-2.06.94zm10 10l.94 2.06.94-2.06 2.06-.94-2.06-.94-.94-2.06-.94 2.06-2.06.94z\"/><path d=\"M17.41 7.96l-1.37-1.37c-.4-.4-.92-.59-1.43-.59-.52 0-1.04.2-1.43.59L10.3 9.45l-7.72 7.72c-.78.78-.78 2.05 0 2.83L4 21.41c.39.39.9.59 1.41.59.51 0 1.02-.2 1.41-.59l7.78-7.78 2.81-2.81c.8-.78.8-2.07 0-2.86zM5.41 20L4 18.59l7.72-7.72 1.47 1.35L5.41 20z\"/>\n",
              "  </svg>\n",
              "      </button>\n",
              "      \n",
              "  <style>\n",
              "    .colab-df-container {\n",
              "      display:flex;\n",
              "      flex-wrap:wrap;\n",
              "      gap: 12px;\n",
              "    }\n",
              "\n",
              "    .colab-df-convert {\n",
              "      background-color: #E8F0FE;\n",
              "      border: none;\n",
              "      border-radius: 50%;\n",
              "      cursor: pointer;\n",
              "      display: none;\n",
              "      fill: #1967D2;\n",
              "      height: 32px;\n",
              "      padding: 0 0 0 0;\n",
              "      width: 32px;\n",
              "    }\n",
              "\n",
              "    .colab-df-convert:hover {\n",
              "      background-color: #E2EBFA;\n",
              "      box-shadow: 0px 1px 2px rgba(60, 64, 67, 0.3), 0px 1px 3px 1px rgba(60, 64, 67, 0.15);\n",
              "      fill: #174EA6;\n",
              "    }\n",
              "\n",
              "    [theme=dark] .colab-df-convert {\n",
              "      background-color: #3B4455;\n",
              "      fill: #D2E3FC;\n",
              "    }\n",
              "\n",
              "    [theme=dark] .colab-df-convert:hover {\n",
              "      background-color: #434B5C;\n",
              "      box-shadow: 0px 1px 3px 1px rgba(0, 0, 0, 0.15);\n",
              "      filter: drop-shadow(0px 1px 2px rgba(0, 0, 0, 0.3));\n",
              "      fill: #FFFFFF;\n",
              "    }\n",
              "  </style>\n",
              "\n",
              "      <script>\n",
              "        const buttonEl =\n",
              "          document.querySelector('#df-f46dddbb-1250-4051-b9e6-4990f8e3b0b1 button.colab-df-convert');\n",
              "        buttonEl.style.display =\n",
              "          google.colab.kernel.accessAllowed ? 'block' : 'none';\n",
              "\n",
              "        async function convertToInteractive(key) {\n",
              "          const element = document.querySelector('#df-f46dddbb-1250-4051-b9e6-4990f8e3b0b1');\n",
              "          const dataTable =\n",
              "            await google.colab.kernel.invokeFunction('convertToInteractive',\n",
              "                                                     [key], {});\n",
              "          if (!dataTable) return;\n",
              "\n",
              "          const docLinkHtml = 'Like what you see? Visit the ' +\n",
              "            '<a target=\"_blank\" href=https://colab.research.google.com/notebooks/data_table.ipynb>data table notebook</a>'\n",
              "            + ' to learn more about interactive tables.';\n",
              "          element.innerHTML = '';\n",
              "          dataTable['output_type'] = 'display_data';\n",
              "          await google.colab.output.renderOutput(dataTable, element);\n",
              "          const docLink = document.createElement('div');\n",
              "          docLink.innerHTML = docLinkHtml;\n",
              "          element.appendChild(docLink);\n",
              "        }\n",
              "      </script>\n",
              "    </div>\n",
              "  </div>\n",
              "  "
            ]
          },
          "metadata": {},
          "execution_count": 35
        }
      ],
      "source": [
        "def smooth_user_preference(x):\n",
        "    return math.log(1+x, 2)\n",
        "    \n",
        "interactions_full_df = (\n",
        "    interactions_from_selected_users_df\n",
        "    .groupby([\"personId\", \"contentId\"]).eventStrength.sum()\n",
        "    .apply(smooth_user_preference)\n",
        "    .reset_index().set_index([\"personId\", \"contentId\"])\n",
        ")\n",
        "interactions_full_df[\"last_timestamp\"] = (\n",
        "    interactions_from_selected_users_df\n",
        "    .groupby([\"personId\", \"contentId\"])[\"timestamp\"].last()\n",
        ")\n",
        "        \n",
        "interactions_full_df = interactions_full_df.reset_index()\n",
        "interactions_full_df.head(5)"
      ]
    },
    {
      "cell_type": "markdown",
      "metadata": {
        "id": "ODJYMtnNWM5w"
      },
      "source": [
        "Разобьём выборку на обучение и контроль по времени."
      ]
    },
    {
      "cell_type": "code",
      "execution_count": 36,
      "metadata": {
        "colab": {
          "base_uri": "https://localhost:8080/",
          "height": 460
        },
        "id": "3F2CfAwoVrfo",
        "outputId": "c2a90d57-07a0-4fd4-9feb-93819f00ac59"
      },
      "outputs": [
        {
          "output_type": "stream",
          "name": "stdout",
          "text": [
            "# interactions on Train set: 29329\n",
            "# interactions on Test set: 9777\n"
          ]
        },
        {
          "output_type": "execute_result",
          "data": {
            "text/plain": [
              "                   personId             contentId  eventStrength  \\\n",
              "0      -1007001694607905623  -5065077552540450930            1.0   \n",
              "2      -1007001694607905623   -793729620925729327            1.0   \n",
              "6      -1032019229384696495  -1006791494035379303            1.0   \n",
              "7      -1032019229384696495  -1039912738963181810            1.0   \n",
              "8      -1032019229384696495  -1081723567492738167            2.0   \n",
              "...                     ...                   ...            ...   \n",
              "39099    997469202936578234   9112765177685685246            2.0   \n",
              "39100    998688566268269815  -1255189867397298842            1.0   \n",
              "39101    998688566268269815   -401664538366009049            1.0   \n",
              "39103    998688566268269815   6881796783400625893            1.0   \n",
              "39105    998688566268269815    739747367187387064            1.0   \n",
              "\n",
              "       last_timestamp  \n",
              "0          1470395911  \n",
              "2          1472834892  \n",
              "6          1469129122  \n",
              "7          1459376415  \n",
              "8          1464054093  \n",
              "...               ...  \n",
              "39099      1472479493  \n",
              "39100      1474567164  \n",
              "39101      1474567449  \n",
              "39103      1474567675  \n",
              "39105      1474567514  \n",
              "\n",
              "[29329 rows x 4 columns]"
            ],
            "text/html": [
              "\n",
              "  <div id=\"df-7560e1cd-cdb8-42c0-a574-4dc5dfc7ef31\">\n",
              "    <div class=\"colab-df-container\">\n",
              "      <div>\n",
              "<style scoped>\n",
              "    .dataframe tbody tr th:only-of-type {\n",
              "        vertical-align: middle;\n",
              "    }\n",
              "\n",
              "    .dataframe tbody tr th {\n",
              "        vertical-align: top;\n",
              "    }\n",
              "\n",
              "    .dataframe thead th {\n",
              "        text-align: right;\n",
              "    }\n",
              "</style>\n",
              "<table border=\"1\" class=\"dataframe\">\n",
              "  <thead>\n",
              "    <tr style=\"text-align: right;\">\n",
              "      <th></th>\n",
              "      <th>personId</th>\n",
              "      <th>contentId</th>\n",
              "      <th>eventStrength</th>\n",
              "      <th>last_timestamp</th>\n",
              "    </tr>\n",
              "  </thead>\n",
              "  <tbody>\n",
              "    <tr>\n",
              "      <th>0</th>\n",
              "      <td>-1007001694607905623</td>\n",
              "      <td>-5065077552540450930</td>\n",
              "      <td>1.0</td>\n",
              "      <td>1470395911</td>\n",
              "    </tr>\n",
              "    <tr>\n",
              "      <th>2</th>\n",
              "      <td>-1007001694607905623</td>\n",
              "      <td>-793729620925729327</td>\n",
              "      <td>1.0</td>\n",
              "      <td>1472834892</td>\n",
              "    </tr>\n",
              "    <tr>\n",
              "      <th>6</th>\n",
              "      <td>-1032019229384696495</td>\n",
              "      <td>-1006791494035379303</td>\n",
              "      <td>1.0</td>\n",
              "      <td>1469129122</td>\n",
              "    </tr>\n",
              "    <tr>\n",
              "      <th>7</th>\n",
              "      <td>-1032019229384696495</td>\n",
              "      <td>-1039912738963181810</td>\n",
              "      <td>1.0</td>\n",
              "      <td>1459376415</td>\n",
              "    </tr>\n",
              "    <tr>\n",
              "      <th>8</th>\n",
              "      <td>-1032019229384696495</td>\n",
              "      <td>-1081723567492738167</td>\n",
              "      <td>2.0</td>\n",
              "      <td>1464054093</td>\n",
              "    </tr>\n",
              "    <tr>\n",
              "      <th>...</th>\n",
              "      <td>...</td>\n",
              "      <td>...</td>\n",
              "      <td>...</td>\n",
              "      <td>...</td>\n",
              "    </tr>\n",
              "    <tr>\n",
              "      <th>39099</th>\n",
              "      <td>997469202936578234</td>\n",
              "      <td>9112765177685685246</td>\n",
              "      <td>2.0</td>\n",
              "      <td>1472479493</td>\n",
              "    </tr>\n",
              "    <tr>\n",
              "      <th>39100</th>\n",
              "      <td>998688566268269815</td>\n",
              "      <td>-1255189867397298842</td>\n",
              "      <td>1.0</td>\n",
              "      <td>1474567164</td>\n",
              "    </tr>\n",
              "    <tr>\n",
              "      <th>39101</th>\n",
              "      <td>998688566268269815</td>\n",
              "      <td>-401664538366009049</td>\n",
              "      <td>1.0</td>\n",
              "      <td>1474567449</td>\n",
              "    </tr>\n",
              "    <tr>\n",
              "      <th>39103</th>\n",
              "      <td>998688566268269815</td>\n",
              "      <td>6881796783400625893</td>\n",
              "      <td>1.0</td>\n",
              "      <td>1474567675</td>\n",
              "    </tr>\n",
              "    <tr>\n",
              "      <th>39105</th>\n",
              "      <td>998688566268269815</td>\n",
              "      <td>739747367187387064</td>\n",
              "      <td>1.0</td>\n",
              "      <td>1474567514</td>\n",
              "    </tr>\n",
              "  </tbody>\n",
              "</table>\n",
              "<p>29329 rows × 4 columns</p>\n",
              "</div>\n",
              "      <button class=\"colab-df-convert\" onclick=\"convertToInteractive('df-7560e1cd-cdb8-42c0-a574-4dc5dfc7ef31')\"\n",
              "              title=\"Convert this dataframe to an interactive table.\"\n",
              "              style=\"display:none;\">\n",
              "        \n",
              "  <svg xmlns=\"http://www.w3.org/2000/svg\" height=\"24px\"viewBox=\"0 0 24 24\"\n",
              "       width=\"24px\">\n",
              "    <path d=\"M0 0h24v24H0V0z\" fill=\"none\"/>\n",
              "    <path d=\"M18.56 5.44l.94 2.06.94-2.06 2.06-.94-2.06-.94-.94-2.06-.94 2.06-2.06.94zm-11 1L8.5 8.5l.94-2.06 2.06-.94-2.06-.94L8.5 2.5l-.94 2.06-2.06.94zm10 10l.94 2.06.94-2.06 2.06-.94-2.06-.94-.94-2.06-.94 2.06-2.06.94z\"/><path d=\"M17.41 7.96l-1.37-1.37c-.4-.4-.92-.59-1.43-.59-.52 0-1.04.2-1.43.59L10.3 9.45l-7.72 7.72c-.78.78-.78 2.05 0 2.83L4 21.41c.39.39.9.59 1.41.59.51 0 1.02-.2 1.41-.59l7.78-7.78 2.81-2.81c.8-.78.8-2.07 0-2.86zM5.41 20L4 18.59l7.72-7.72 1.47 1.35L5.41 20z\"/>\n",
              "  </svg>\n",
              "      </button>\n",
              "      \n",
              "  <style>\n",
              "    .colab-df-container {\n",
              "      display:flex;\n",
              "      flex-wrap:wrap;\n",
              "      gap: 12px;\n",
              "    }\n",
              "\n",
              "    .colab-df-convert {\n",
              "      background-color: #E8F0FE;\n",
              "      border: none;\n",
              "      border-radius: 50%;\n",
              "      cursor: pointer;\n",
              "      display: none;\n",
              "      fill: #1967D2;\n",
              "      height: 32px;\n",
              "      padding: 0 0 0 0;\n",
              "      width: 32px;\n",
              "    }\n",
              "\n",
              "    .colab-df-convert:hover {\n",
              "      background-color: #E2EBFA;\n",
              "      box-shadow: 0px 1px 2px rgba(60, 64, 67, 0.3), 0px 1px 3px 1px rgba(60, 64, 67, 0.15);\n",
              "      fill: #174EA6;\n",
              "    }\n",
              "\n",
              "    [theme=dark] .colab-df-convert {\n",
              "      background-color: #3B4455;\n",
              "      fill: #D2E3FC;\n",
              "    }\n",
              "\n",
              "    [theme=dark] .colab-df-convert:hover {\n",
              "      background-color: #434B5C;\n",
              "      box-shadow: 0px 1px 3px 1px rgba(0, 0, 0, 0.15);\n",
              "      filter: drop-shadow(0px 1px 2px rgba(0, 0, 0, 0.3));\n",
              "      fill: #FFFFFF;\n",
              "    }\n",
              "  </style>\n",
              "\n",
              "      <script>\n",
              "        const buttonEl =\n",
              "          document.querySelector('#df-7560e1cd-cdb8-42c0-a574-4dc5dfc7ef31 button.colab-df-convert');\n",
              "        buttonEl.style.display =\n",
              "          google.colab.kernel.accessAllowed ? 'block' : 'none';\n",
              "\n",
              "        async function convertToInteractive(key) {\n",
              "          const element = document.querySelector('#df-7560e1cd-cdb8-42c0-a574-4dc5dfc7ef31');\n",
              "          const dataTable =\n",
              "            await google.colab.kernel.invokeFunction('convertToInteractive',\n",
              "                                                     [key], {});\n",
              "          if (!dataTable) return;\n",
              "\n",
              "          const docLinkHtml = 'Like what you see? Visit the ' +\n",
              "            '<a target=\"_blank\" href=https://colab.research.google.com/notebooks/data_table.ipynb>data table notebook</a>'\n",
              "            + ' to learn more about interactive tables.';\n",
              "          element.innerHTML = '';\n",
              "          dataTable['output_type'] = 'display_data';\n",
              "          await google.colab.output.renderOutput(dataTable, element);\n",
              "          const docLink = document.createElement('div');\n",
              "          docLink.innerHTML = docLinkHtml;\n",
              "          element.appendChild(docLink);\n",
              "        }\n",
              "      </script>\n",
              "    </div>\n",
              "  </div>\n",
              "  "
            ]
          },
          "metadata": {},
          "execution_count": 36
        }
      ],
      "source": [
        "from sklearn.model_selection import train_test_split\n",
        "\n",
        "split_ts = 1475519530\n",
        "interactions_train_df = interactions_full_df.loc[interactions_full_df.last_timestamp < split_ts].copy()\n",
        "interactions_test_df = interactions_full_df.loc[interactions_full_df.last_timestamp >= split_ts].copy()\n",
        "\n",
        "print(f\"# interactions on Train set: {len(interactions_train_df)}\")\n",
        "print(f\"# interactions on Test set: {len(interactions_test_df)}\")\n",
        "\n",
        "interactions_train_df"
      ]
    },
    {
      "cell_type": "markdown",
      "metadata": {
        "id": "h5G3FTYOXLVg"
      },
      "source": [
        "Для удобства подсчёта качества запишем данные в формате, где строка соответствует пользователю, а столбцы будут истинными метками и предсказаниями в виде списков."
      ]
    },
    {
      "cell_type": "code",
      "execution_count": 37,
      "metadata": {
        "colab": {
          "base_uri": "https://localhost:8080/",
          "height": 112
        },
        "id": "RT-_toqfXOa2",
        "outputId": "b122232e-8baa-451a-dbee-b2cd977cf3f4"
      },
      "outputs": [
        {
          "output_type": "execute_result",
          "data": {
            "text/plain": [
              "                                                       true_train  \\\n",
              "personId                                                            \n",
              "-1007001694607905623  [-5065077552540450930, -793729620925729327]   \n",
              "\n",
              "                                                              true_test  \n",
              "personId                                                                 \n",
              "-1007001694607905623  [-6623581327558800021, 1469580151036142903, 72...  "
            ],
            "text/html": [
              "\n",
              "  <div id=\"df-6eff47fb-df19-4702-8d20-fcdae7a50fd0\">\n",
              "    <div class=\"colab-df-container\">\n",
              "      <div>\n",
              "<style scoped>\n",
              "    .dataframe tbody tr th:only-of-type {\n",
              "        vertical-align: middle;\n",
              "    }\n",
              "\n",
              "    .dataframe tbody tr th {\n",
              "        vertical-align: top;\n",
              "    }\n",
              "\n",
              "    .dataframe thead th {\n",
              "        text-align: right;\n",
              "    }\n",
              "</style>\n",
              "<table border=\"1\" class=\"dataframe\">\n",
              "  <thead>\n",
              "    <tr style=\"text-align: right;\">\n",
              "      <th></th>\n",
              "      <th>true_train</th>\n",
              "      <th>true_test</th>\n",
              "    </tr>\n",
              "    <tr>\n",
              "      <th>personId</th>\n",
              "      <th></th>\n",
              "      <th></th>\n",
              "    </tr>\n",
              "  </thead>\n",
              "  <tbody>\n",
              "    <tr>\n",
              "      <th>-1007001694607905623</th>\n",
              "      <td>[-5065077552540450930, -793729620925729327]</td>\n",
              "      <td>[-6623581327558800021, 1469580151036142903, 72...</td>\n",
              "    </tr>\n",
              "  </tbody>\n",
              "</table>\n",
              "</div>\n",
              "      <button class=\"colab-df-convert\" onclick=\"convertToInteractive('df-6eff47fb-df19-4702-8d20-fcdae7a50fd0')\"\n",
              "              title=\"Convert this dataframe to an interactive table.\"\n",
              "              style=\"display:none;\">\n",
              "        \n",
              "  <svg xmlns=\"http://www.w3.org/2000/svg\" height=\"24px\"viewBox=\"0 0 24 24\"\n",
              "       width=\"24px\">\n",
              "    <path d=\"M0 0h24v24H0V0z\" fill=\"none\"/>\n",
              "    <path d=\"M18.56 5.44l.94 2.06.94-2.06 2.06-.94-2.06-.94-.94-2.06-.94 2.06-2.06.94zm-11 1L8.5 8.5l.94-2.06 2.06-.94-2.06-.94L8.5 2.5l-.94 2.06-2.06.94zm10 10l.94 2.06.94-2.06 2.06-.94-2.06-.94-.94-2.06-.94 2.06-2.06.94z\"/><path d=\"M17.41 7.96l-1.37-1.37c-.4-.4-.92-.59-1.43-.59-.52 0-1.04.2-1.43.59L10.3 9.45l-7.72 7.72c-.78.78-.78 2.05 0 2.83L4 21.41c.39.39.9.59 1.41.59.51 0 1.02-.2 1.41-.59l7.78-7.78 2.81-2.81c.8-.78.8-2.07 0-2.86zM5.41 20L4 18.59l7.72-7.72 1.47 1.35L5.41 20z\"/>\n",
              "  </svg>\n",
              "      </button>\n",
              "      \n",
              "  <style>\n",
              "    .colab-df-container {\n",
              "      display:flex;\n",
              "      flex-wrap:wrap;\n",
              "      gap: 12px;\n",
              "    }\n",
              "\n",
              "    .colab-df-convert {\n",
              "      background-color: #E8F0FE;\n",
              "      border: none;\n",
              "      border-radius: 50%;\n",
              "      cursor: pointer;\n",
              "      display: none;\n",
              "      fill: #1967D2;\n",
              "      height: 32px;\n",
              "      padding: 0 0 0 0;\n",
              "      width: 32px;\n",
              "    }\n",
              "\n",
              "    .colab-df-convert:hover {\n",
              "      background-color: #E2EBFA;\n",
              "      box-shadow: 0px 1px 2px rgba(60, 64, 67, 0.3), 0px 1px 3px 1px rgba(60, 64, 67, 0.15);\n",
              "      fill: #174EA6;\n",
              "    }\n",
              "\n",
              "    [theme=dark] .colab-df-convert {\n",
              "      background-color: #3B4455;\n",
              "      fill: #D2E3FC;\n",
              "    }\n",
              "\n",
              "    [theme=dark] .colab-df-convert:hover {\n",
              "      background-color: #434B5C;\n",
              "      box-shadow: 0px 1px 3px 1px rgba(0, 0, 0, 0.15);\n",
              "      filter: drop-shadow(0px 1px 2px rgba(0, 0, 0, 0.3));\n",
              "      fill: #FFFFFF;\n",
              "    }\n",
              "  </style>\n",
              "\n",
              "      <script>\n",
              "        const buttonEl =\n",
              "          document.querySelector('#df-6eff47fb-df19-4702-8d20-fcdae7a50fd0 button.colab-df-convert');\n",
              "        buttonEl.style.display =\n",
              "          google.colab.kernel.accessAllowed ? 'block' : 'none';\n",
              "\n",
              "        async function convertToInteractive(key) {\n",
              "          const element = document.querySelector('#df-6eff47fb-df19-4702-8d20-fcdae7a50fd0');\n",
              "          const dataTable =\n",
              "            await google.colab.kernel.invokeFunction('convertToInteractive',\n",
              "                                                     [key], {});\n",
              "          if (!dataTable) return;\n",
              "\n",
              "          const docLinkHtml = 'Like what you see? Visit the ' +\n",
              "            '<a target=\"_blank\" href=https://colab.research.google.com/notebooks/data_table.ipynb>data table notebook</a>'\n",
              "            + ' to learn more about interactive tables.';\n",
              "          element.innerHTML = '';\n",
              "          dataTable['output_type'] = 'display_data';\n",
              "          await google.colab.output.renderOutput(dataTable, element);\n",
              "          const docLink = document.createElement('div');\n",
              "          docLink.innerHTML = docLinkHtml;\n",
              "          element.appendChild(docLink);\n",
              "        }\n",
              "      </script>\n",
              "    </div>\n",
              "  </div>\n",
              "  "
            ]
          },
          "metadata": {},
          "execution_count": 37
        }
      ],
      "source": [
        "interactions = (\n",
        "    interactions_train_df\n",
        "    .groupby(\"personId\")[\"contentId\"].agg(lambda x: list(x))\n",
        "    .reset_index()\n",
        "    .rename(columns={\"contentId\": \"true_train\"})\n",
        "    .set_index(\"personId\")\n",
        ")\n",
        "\n",
        "interactions[\"true_test\"] = (\n",
        "    interactions_test_df\n",
        "    .groupby(\"personId\")[\"contentId\"].agg(lambda x: list(x))\n",
        ")\n",
        "\n",
        "# заполнение пропусков пустыми списками\n",
        "interactions.loc[pd.isnull(interactions.true_test), \"true_test\"] = [\n",
        "    \"\" for x in range(len(interactions.loc[pd.isnull(interactions.true_test), \"true_test\"]))]\n",
        "\n",
        "interactions.head(1)"
      ]
    },
    {
      "cell_type": "markdown",
      "metadata": {
        "id": "-UWDyWKsamSa"
      },
      "source": [
        "# Библиотека LightFM"
      ]
    },
    {
      "cell_type": "markdown",
      "metadata": {
        "id": "L-iXjvdZa25Z"
      },
      "source": [
        "Для рекомендации Вы будете пользоваться библиотекой [LightFM](https://making.lyst.com/lightfm/docs/home.html), в которой реализованы популярные алгоритмы. Для оценивания качества рекомендации, как и на семинаре, будем пользоваться метрикой *precision@10*."
      ]
    },
    {
      "cell_type": "markdown",
      "metadata": {
        "id": "0CjyGqulcZTf"
      },
      "source": [
        "## Задание 1 (2 балла)"
      ]
    },
    {
      "cell_type": "markdown",
      "metadata": {
        "id": "4Sof6V5Dd4h9"
      },
      "source": [
        "Модели в LightFM работают с разреженными матрицами. Создайте разреженные матрицы `data_train` и `data_test` (размером количество пользователей на количество статей), такие что на пересечении строки пользователя и столбца статьи стоит сила их взаимодействия, если взаимодействие было, и стоит ноль, если взаимодействия не было."
      ]
    },
    {
      "cell_type": "code",
      "source": [
        "class IndexTransformer(object):\n",
        "    def __init__(self):\n",
        "        pass\n",
        "    def fit(self, train):\n",
        "        self.idx2sample = list(set(train))\n",
        "        idxs = list(range(len(self.idx2sample)))\n",
        "        self.sample2idx = dict(list(zip(self.idx2sample, idxs)))\n",
        "        return self\n",
        "    def __len__(self):\n",
        "        return len(self.idx2sample)"
      ],
      "metadata": {
        "id": "0mcaoD0o6aPh"
      },
      "execution_count": 38,
      "outputs": []
    },
    {
      "cell_type": "code",
      "source": [
        "person_mapping = IndexTransformer().fit(list(interactions_full_df['personId'].values))\n",
        "content_mapping = IndexTransformer().fit(list(interactions_full_df['contentId'].values))\n",
        "interactions_train_df['personId'] = interactions_train_df['personId'].apply(lambda v: person_mapping.sample2idx[v])\n",
        "interactions_test_df['personId'] = interactions_test_df['personId'].apply(lambda v: person_mapping.sample2idx[v])\n",
        "interactions_train_df['contentId'] = interactions_train_df['contentId'].apply(lambda v: content_mapping.sample2idx[v])\n",
        "interactions_test_df['contentId'] = interactions_test_df['contentId'].apply(lambda v: content_mapping.sample2idx[v])"
      ],
      "metadata": {
        "id": "myn7-Rco46Xo"
      },
      "execution_count": 39,
      "outputs": []
    },
    {
      "cell_type": "code",
      "source": [
        "interactions_test_df.columns"
      ],
      "metadata": {
        "colab": {
          "base_uri": "https://localhost:8080/"
        },
        "id": "_1qlV_XSV_1F",
        "outputId": "e5a3424c-e205-4fd7-972c-3f29f2893a31"
      },
      "execution_count": 40,
      "outputs": [
        {
          "output_type": "execute_result",
          "data": {
            "text/plain": [
              "Index(['personId', 'contentId', 'eventStrength', 'last_timestamp'], dtype='object')"
            ]
          },
          "metadata": {},
          "execution_count": 40
        }
      ]
    },
    {
      "cell_type": "code",
      "source": [
        "def df_to_sparse(df, shape):\n",
        "    i = df[\"personId\"]\n",
        "    j = df[\"contentId\"]\n",
        "    data = df['eventStrength']\n",
        "    return csr_matrix((data, (i, j)), shape=shape)"
      ],
      "metadata": {
        "id": "MHcxC0qF3_bu"
      },
      "execution_count": 41,
      "outputs": []
    },
    {
      "cell_type": "code",
      "execution_count": 42,
      "metadata": {
        "id": "1cLZ5ga4eIdg"
      },
      "outputs": [],
      "source": [
        "# Ваш код здесь\n",
        "data_train = df_to_sparse(interactions_train_df, shape=(len(person_mapping), len(content_mapping)))\n",
        "data_test = df_to_sparse(interactions_test_df, shape=(len(person_mapping), len(content_mapping)))"
      ]
    },
    {
      "cell_type": "markdown",
      "metadata": {
        "id": "AiNGVzTveRXE"
      },
      "source": [
        "## Задание 2 (1 балл)"
      ]
    },
    {
      "cell_type": "markdown",
      "metadata": {
        "id": "ZPfVK3STeryM"
      },
      "source": [
        "Обучите модель LightFM с `loss=\"warp\"` и посчитайте *precision@10* на тесте."
      ]
    },
    {
      "cell_type": "code",
      "execution_count": 43,
      "metadata": {
        "id": "YFQxeHw8eVLz",
        "colab": {
          "base_uri": "https://localhost:8080/"
        },
        "outputId": "e9f91144-264c-4709-e289-e1b845abed56"
      },
      "outputs": [
        {
          "output_type": "stream",
          "name": "stdout",
          "text": [
            "CPU times: user 544 ms, sys: 0 ns, total: 544 ms\n",
            "Wall time: 299 ms\n"
          ]
        }
      ],
      "source": [
        "%%time\n",
        "model = LightFM(loss='warp', random_state=42)\n",
        "model.fit(\n",
        "    1. * (data_train > 0),\n",
        "    sample_weight=coo_matrix(data_train),\n",
        "    epochs=15, \n",
        "    num_threads=4,\n",
        "    verbose=False\n",
        ")"
      ]
    },
    {
      "cell_type": "code",
      "source": [
        "print(precision_at_k(model, data_test, data_train, k=10).mean())"
      ],
      "metadata": {
        "colab": {
          "base_uri": "https://localhost:8080/"
        },
        "id": "Z6__OPiWZ348",
        "outputId": "efc99da3-2f1e-459c-a23b-b8f0b2896e75"
      },
      "execution_count": 44,
      "outputs": [
        {
          "output_type": "stream",
          "name": "stdout",
          "text": [
            "0.007841141\n"
          ]
        }
      ]
    },
    {
      "cell_type": "markdown",
      "metadata": {
        "id": "qZDsG1iAfdrl"
      },
      "source": [
        "## Задание 3 (3 балла)"
      ]
    },
    {
      "cell_type": "markdown",
      "metadata": {
        "id": "F93chvtbgA9N"
      },
      "source": [
        "При вызове метода `fit` LightFM позволяет передавать в `item_features` признаковое описание объектов. Воспользуемся этим. Будем получать признаковое описание из текста статьи в виде [TF-IDF](https://ru.wikipedia.org/wiki/TF-IDF) (можно воспользоваться `TfidfVectorizer` из scikit-learn). Создайте матрицу `feat` размером количесвто статей на размер признакового описание и обучите LightFM с `loss=\"warp\"` и посчитайте precision@10 на тесте."
      ]
    },
    {
      "cell_type": "markdown",
      "source": [
        "Заметим, что есть статьи без текста"
      ],
      "metadata": {
        "id": "n2bwNjpE7XjZ"
      }
    },
    {
      "cell_type": "code",
      "source": [
        "vectorizer = TfidfVectorizer()\n",
        "empty_contents = list(set(interactions_df['contentId']) - set(articles_df['contentId'].values))\n",
        "content_ids = list(articles_df['contentId'].values) + empty_contents\n",
        "corpus = list(articles_df['text'].values) + ['' for i in range(len(empty_contents))]\n",
        "corpus = list(map(\n",
        "    lambda x: x[1]\n",
        "    # lambda x: x[0]\n",
        "    , list(\n",
        "        sorted(\n",
        "            map(\n",
        "                lambda x: (content_mapping.sample2idx[x[0]], x[1]),\n",
        "                filter(\n",
        "                    lambda x: x[0] in content_mapping.sample2idx\n",
        "                    , list(zip(content_ids, corpus))\n",
        "                )\n",
        "            ),\n",
        "            key=lambda x: x[0]\n",
        "        )\n",
        "    )\n",
        "))\n",
        "feat = vectorizer.fit_transform(corpus)"
      ],
      "metadata": {
        "id": "-3a5Lr7q7gsm"
      },
      "execution_count": 88,
      "outputs": []
    },
    {
      "cell_type": "code",
      "source": [
        "%%time\n",
        "model = LightFM(loss='warp', random_state=42)\n",
        "model.fit(\n",
        "    1. * (data_train > 0),\n",
        "    sample_weight=coo_matrix(data_train),\n",
        "    item_features=feat,\n",
        "    epochs=15, \n",
        "    num_threads=4,\n",
        "    verbose=False\n",
        ")"
      ],
      "metadata": {
        "id": "njOF3mT_xc8J",
        "outputId": "01153d23-4590-40d7-bd3f-e2ef2ba24658",
        "colab": {
          "base_uri": "https://localhost:8080/"
        }
      },
      "execution_count": 89,
      "outputs": [
        {
          "output_type": "stream",
          "name": "stdout",
          "text": [
            "CPU times: user 1min 14s, sys: 0 ns, total: 1min 14s\n",
            "Wall time: 48.3 s\n"
          ]
        }
      ]
    },
    {
      "cell_type": "code",
      "source": [
        "print(precision_at_k(model, data_test, data_train, item_features=feat, k=10).mean())"
      ],
      "metadata": {
        "id": "VxVdsGJ29M63",
        "outputId": "6228bfb2-d3e1-4080-ed4d-322a4b126c54",
        "colab": {
          "base_uri": "https://localhost:8080/"
        }
      },
      "execution_count": 91,
      "outputs": [
        {
          "output_type": "stream",
          "name": "stdout",
          "text": [
            "0.008553972\n"
          ]
        }
      ]
    },
    {
      "cell_type": "markdown",
      "metadata": {
        "id": "8Lwuex6PpsFw"
      },
      "source": [
        "## Задание 4 (2 балла)"
      ]
    },
    {
      "cell_type": "markdown",
      "metadata": {
        "id": "5aZcHjSzp2cZ"
      },
      "source": [
        "В задании 3 мы использовали сырой текст статей. В этом задании необходимо сначала сделать предобработку текста (привести к нижнему регистру, убрать стоп слова, привести слова к номральной форме и т.д.), после чего обучите модель и оценить качество на тестовых данных."
      ]
    },
    {
      "cell_type": "code",
      "execution_count": null,
      "metadata": {
        "id": "HDSaOLiJpdGj"
      },
      "outputs": [],
      "source": [
        "# Ваш код здесь"
      ]
    },
    {
      "cell_type": "markdown",
      "metadata": {
        "id": "VgayAPRpqn7L"
      },
      "source": [
        "Улучшилось ли качество предсказания?"
      ]
    },
    {
      "cell_type": "markdown",
      "metadata": {
        "id": "XKRzLLodq3gq"
      },
      "source": [
        "## Задание 5 (2 балла)"
      ]
    },
    {
      "cell_type": "markdown",
      "metadata": {
        "id": "brjHl49Aq8su"
      },
      "source": [
        "Подберите гиперпараметры модели LightFM (`n_components` и др.) для улучшения качества модели."
      ]
    },
    {
      "cell_type": "code",
      "execution_count": null,
      "metadata": {
        "id": "PlwaeCiZqncD"
      },
      "outputs": [],
      "source": [
        "# Ваш код здесь"
      ]
    },
    {
      "cell_type": "markdown",
      "metadata": {
        "id": "xJA7v07NrYSF"
      },
      "source": [
        "## Бонусное задание (3 балла)"
      ]
    },
    {
      "cell_type": "markdown",
      "metadata": {
        "id": "veLFUoVRrisk"
      },
      "source": [
        "Выше мы использовали достаточно простое представление текста статьи в виде TF-IDF. В этом задании Вам нужно представить текст статьи (можно вместе с заголовком) в виде эмбеддинга полученного с помощью рекуррентной сети или трансформера (можно использовать любую предобученную модель, которая Вам нравится). Обучите модель с ипользованием этих эмеддингов и сравните результаты с предыдущими."
      ]
    },
    {
      "cell_type": "code",
      "execution_count": null,
      "metadata": {
        "id": "CQmn1cb-rXU3"
      },
      "outputs": [],
      "source": [
        "# Ваш код здесь"
      ]
    }
  ],
  "metadata": {
    "colab": {
      "name": "HW3.ipynb",
      "provenance": []
    },
    "kernelspec": {
      "display_name": "Python 3 (ipykernel)",
      "language": "python",
      "name": "python3"
    },
    "language_info": {
      "codemirror_mode": {
        "name": "ipython",
        "version": 3
      },
      "file_extension": ".py",
      "mimetype": "text/x-python",
      "name": "python",
      "nbconvert_exporter": "python",
      "pygments_lexer": "ipython3",
      "version": "3.9.10"
    }
  },
  "nbformat": 4,
  "nbformat_minor": 0
}