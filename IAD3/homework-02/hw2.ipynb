{
  "nbformat": 4,
  "nbformat_minor": 0,
  "metadata": {
    "kernelspec": {
      "display_name": "Python 3",
      "language": "python",
      "name": "python3"
    },
    "language_info": {
      "codemirror_mode": {
        "name": "ipython",
        "version": 3
      },
      "file_extension": ".py",
      "mimetype": "text/x-python",
      "name": "python",
      "nbconvert_exporter": "python",
      "pygments_lexer": "ipython3",
      "version": "3.8.5"
    },
    "max_cell_id": 35,
    "colab": {
      "name": "Копия блокнота \"hw01_part2_tony_upd.ipynb\"",
      "provenance": [],
      "include_colab_link": true
    },
    "accelerator": "GPU"
  },
  "cells": [
    {
      "cell_type": "markdown",
      "metadata": {
        "id": "view-in-github",
        "colab_type": "text"
      },
      "source": [
        "<a href=\"https://colab.research.google.com/github/alyonabelenko/Courses/blob/master/IAD3/homework-02/hw2.ipynb\" target=\"_parent\"><img src=\"https://colab.research.google.com/assets/colab-badge.svg\" alt=\"Open In Colab\"/></a>"
      ]
    },
    {
      "cell_type": "markdown",
      "metadata": {
        "cell_id": 1,
        "id": "kr9vAeEQlRVG"
      },
      "source": [
        "# Домашнее задание 2. Классификация изображений."
      ]
    },
    {
      "cell_type": "markdown",
      "metadata": {
        "cell_id": 3,
        "id": "BxX49gLclRVJ"
      },
      "source": [
        "В этом задании потребуется обучить классификатор изображений. Будем работать с датасетом, название которого раскрывать не будем. Можете посмотреть самостоятельно на картинки, которые в есть датасете. В нём 200 классов и около 5 тысяч картинок на каждый класс. Классы пронумерованы, как нетрудно догадаться, от 0 до 199. Скачать датасет можно вот [тут](https://yadi.sk/d/BNR41Vu3y0c7qA).\n",
        "\n",
        "Структура датасета простая -- есть директории train/ и val/, в которых лежат обучающие и валидационные данные. В train/ и val/ лежат директориии, соответствующие классам изображений, в которых лежат, собственно, сами изображения.\n",
        " \n",
        "__Задание__. Необходимо выполнить любое из двух заданий\n",
        "\n",
        "1) Добейтесь accuracy **на валидации не менее 0.44**. В этом задании **запрещено** пользоваться предобученными моделями и ресайзом картинок. \n",
        "\n",
        "2) Добейтесь accuracy **на валидации не менее 0.84**. В этом задании делать ресайз и использовать претрейн можно. \n",
        "\n",
        "Напишите краткий отчёт о проделанных экспериментах. Что сработало и что не сработало? Почему вы решили, сделать так, а не иначе? Обязательно указывайте ссылки на чужой код, если вы его используете. Обязательно ссылайтесь на статьи / блогпосты / вопросы на stackoverflow / видосы от ютуберов-машинлернеров / курсы / подсказки от Дяди Васи и прочие дополнительные материалы, если вы их используете. \n",
        "\n",
        "Ваш код обязательно должен проходить все `assert`'ы ниже.\n",
        "\n",
        "Необходимо написать функции `train_one_epoch`, `train` и `predict` по шаблонам ниже (во многом повторяют примеры с семинаров).Обратите особое внимание на функцию `predict`: она должна возвращать список лоссов по всем объектам даталоадера, список предсказанных классов для каждого объекта из даталоалера и список настоящих классов для каждого объекта в даталоадере (и именно в таком порядке).\n",
        "\n",
        "__Использовать внешние данные для обучения строго запрещено в обоих заданиях. Также запрещено обучаться на валидационной выборке__.\n",
        "\n",
        "\n",
        "__Критерии оценки__: Оценка вычисляется по простой формуле: `min(10, 10 * Ваша accuracy / 0.44)` для первого задания и `min(10, 10 * (Ваша accuracy - 0.5) / 0.34)` для второго. Оценка округляется до десятых по арифметическим правилам. Если вы выполнили оба задания, то берется максимум из двух оценок.\n",
        "\n",
        "__Бонус__. Вы получаете 5 бонусных баллов если справляетесь с обоими заданиями на 10 баллов (итого 15 баллов). В противном случае выставляется максимальная из двух оценок и ваш бонус равен нулю.\n",
        "\n",
        "__Советы и указания__:\n",
        " - Наверняка вам потребуется много гуглить о классификации и о том, как заставить её работать. Это нормально, все гуглят. Но не забывайте, что нужно быть готовым за скатанный код отвечать :)\n",
        " - Используйте аугментации. Для этого пользуйтесь модулем `torchvision.transforms` или библиотекой [albumentations](https://github.com/albumentations-team/albumentations)\n",
        " - Можно обучать с нуля или файнтюнить (в зависимости от задания) модели из `torchvision`.\n",
        " - Рекомендуем написать вам сначала класс-датасет (или воспользоваться классом `ImageFolder`), который возвращает картинки и соответствующие им классы, а затем функции для трейна по шаблонам ниже. Однако делать это мы не заставляем. Если вам так неудобно, то можете писать код в удобном стиле. Однако учтите, что чрезмерное изменение нижеперечисленных шаблонов увеличит количество вопросов к вашему коду и повысит вероятность вызова на защиту :)\n",
        " - Валидируйте. Трекайте ошибки как можно раньше, чтобы не тратить время впустую.\n",
        " - Чтобы быстро отладить код, пробуйте обучаться на маленькой части датасета (скажем, 5-10 картинок просто чтобы убедиться что код запускается). Когда вы поняли, что смогли всё отдебажить, переходите обучению по всему датасету\n",
        " - На каждый запуск делайте ровно одно изменение в модели/аугментации/оптимайзере, чтобы понять, что и как влияет на результат.\n",
        " - Фиксируйте random seed.\n",
        " - Начинайте с простых моделей и постепенно переходите к сложным. Обучение лёгких моделей экономит много времени.\n",
        " - Ставьте расписание на learning rate. Уменьшайте его, когда лосс на валидации перестаёт убывать.\n",
        " - Советуем использовать GPU. Если у вас его нет, используйте google colab. Если вам неудобно его использовать на постоянной основе, напишите и отладьте весь код локально на CPU, а затем запустите уже написанный ноутбук в колабе. Авторское решение задания достигает требуемой точности в колабе за 15 минут обучения.\n",
        " \n",
        "Good luck & have fun! :)"
      ]
    },
    {
      "cell_type": "code",
      "metadata": {
        "cell_id": 4,
        "id": "LKcSNj4tlRVK"
      },
      "source": [
        "import sys\n",
        "import random\n",
        "\n",
        "import numpy as np\n",
        "import torch\n",
        "import torchvision\n",
        "from torchvision import transforms\n",
        "from torchvision.datasets import ImageFolder\n",
        "from tqdm import tqdm\n",
        "from torch import nn\n",
        "from torch.nn import functional as F\n",
        "from sklearn.metrics import accuracy_score\n",
        "\n",
        "import matplotlib.pyplot as plt\n",
        "# You may add any imports you need\n",
        "\n",
        "from IPython.display import clear_output\n",
        "from torch.optim.lr_scheduler import ExponentialLR\n"
      ],
      "execution_count": null,
      "outputs": []
    },
    {
      "cell_type": "code",
      "metadata": {
        "colab": {
          "base_uri": "https://localhost:8080/"
        },
        "id": "7qtHU_QTqw-p",
        "outputId": "ff7ea0d2-2979-4fbb-b753-7546e60f1f1a"
      },
      "source": [
        "!wget https://www.dropbox.com/s/33l8lp62rmvtx40/dataset.zip"
      ],
      "execution_count": null,
      "outputs": [
        {
          "output_type": "stream",
          "name": "stdout",
          "text": [
            "--2021-11-05 09:33:13--  https://www.dropbox.com/s/33l8lp62rmvtx40/dataset.zip\n",
            "Resolving www.dropbox.com (www.dropbox.com)... 162.125.68.18, 2620:100:6023:18::a27d:4312\n",
            "Connecting to www.dropbox.com (www.dropbox.com)|162.125.68.18|:443... connected.\n",
            "HTTP request sent, awaiting response... 301 Moved Permanently\n",
            "Location: /s/raw/33l8lp62rmvtx40/dataset.zip [following]\n",
            "--2021-11-05 09:33:14--  https://www.dropbox.com/s/raw/33l8lp62rmvtx40/dataset.zip\n",
            "Reusing existing connection to www.dropbox.com:443.\n",
            "HTTP request sent, awaiting response... 302 Found\n",
            "Location: https://uc775b937daa68fd8efcdf669335.dl.dropboxusercontent.com/cd/0/inline/BZahyEGH749H9SebEgWZKQXKbwLyS_GCrIVZO_lEqpTFMfJYVF9BT4KJuxdrOgdL4RumkN5wiH9WQlqbbh7jI0Ueok2zSVukrIZzyIRKs81jI12gtKve9GHAh0Szp6cTvuexTvDNucj7VmAuP2Hkxeeg/file# [following]\n",
            "--2021-11-05 09:33:14--  https://uc775b937daa68fd8efcdf669335.dl.dropboxusercontent.com/cd/0/inline/BZahyEGH749H9SebEgWZKQXKbwLyS_GCrIVZO_lEqpTFMfJYVF9BT4KJuxdrOgdL4RumkN5wiH9WQlqbbh7jI0Ueok2zSVukrIZzyIRKs81jI12gtKve9GHAh0Szp6cTvuexTvDNucj7VmAuP2Hkxeeg/file\n",
            "Resolving uc775b937daa68fd8efcdf669335.dl.dropboxusercontent.com (uc775b937daa68fd8efcdf669335.dl.dropboxusercontent.com)... 162.125.68.15, 2620:100:6025:15::a27d:450f\n",
            "Connecting to uc775b937daa68fd8efcdf669335.dl.dropboxusercontent.com (uc775b937daa68fd8efcdf669335.dl.dropboxusercontent.com)|162.125.68.15|:443... connected.\n",
            "HTTP request sent, awaiting response... 302 Found\n",
            "Location: /cd/0/inline2/BZbI3nNw5m_XqErfVyxiRUwMciRsVPNzq4VCvrRKPxixg6BjEjumIh64iZo7hxembYL72IBsLcEQJ14cE4apl3Nu2dzlQ0ddbNhdhWwPMfBvsz1uU28VKXexXxot6OPX-4GWFuagqtwiXT-pseXxWiqO7oqfcBt045eC8LHtXVpDf8rzL_FIfWfilg9gAUQeUy5B3Qpi8BlWjBuHxj7kwI0SjEBWCMFFTuyUWWdEtv46_AFd7agOuCIGxe-VVMm-KOWeTOEaGm57TT7sycmF8YIwN3ySxTA4ArcTjFHhIjzGLHSmApJoBurga335ikwXyOuYwk1fRnEUQHYuyd_Ki0YXIln0eQvrL_sGwaXYeGNY84QVd9hluoJd17f9-8YVK-M/file [following]\n",
            "--2021-11-05 09:33:14--  https://uc775b937daa68fd8efcdf669335.dl.dropboxusercontent.com/cd/0/inline2/BZbI3nNw5m_XqErfVyxiRUwMciRsVPNzq4VCvrRKPxixg6BjEjumIh64iZo7hxembYL72IBsLcEQJ14cE4apl3Nu2dzlQ0ddbNhdhWwPMfBvsz1uU28VKXexXxot6OPX-4GWFuagqtwiXT-pseXxWiqO7oqfcBt045eC8LHtXVpDf8rzL_FIfWfilg9gAUQeUy5B3Qpi8BlWjBuHxj7kwI0SjEBWCMFFTuyUWWdEtv46_AFd7agOuCIGxe-VVMm-KOWeTOEaGm57TT7sycmF8YIwN3ySxTA4ArcTjFHhIjzGLHSmApJoBurga335ikwXyOuYwk1fRnEUQHYuyd_Ki0YXIln0eQvrL_sGwaXYeGNY84QVd9hluoJd17f9-8YVK-M/file\n",
            "Reusing existing connection to uc775b937daa68fd8efcdf669335.dl.dropboxusercontent.com:443.\n",
            "HTTP request sent, awaiting response... 200 OK\n",
            "Length: 220318689 (210M) [application/zip]\n",
            "Saving to: ‘dataset.zip’\n",
            "\n",
            "dataset.zip         100%[===================>] 210.11M  21.1MB/s    in 11s     \n",
            "\n",
            "2021-11-05 09:33:26 (19.8 MB/s) - ‘dataset.zip’ saved [220318689/220318689]\n",
            "\n"
          ]
        }
      ]
    },
    {
      "cell_type": "code",
      "metadata": {
        "id": "mb4fwSRus_dk"
      },
      "source": [
        "!unzip -o \"dataset.zip\" -d \"./\" > /dev/null\n"
      ],
      "execution_count": null,
      "outputs": []
    },
    {
      "cell_type": "code",
      "metadata": {
        "colab": {
          "base_uri": "https://localhost:8080/"
        },
        "id": "GI8pq7AQtL1P",
        "outputId": "18ee74f7-dd4c-40b7-efa7-9afca3546b20"
      },
      "source": [
        "!ls dataset/dataset/"
      ],
      "execution_count": null,
      "outputs": [
        {
          "output_type": "stream",
          "name": "stdout",
          "text": [
            "train  val\n"
          ]
        }
      ]
    },
    {
      "cell_type": "markdown",
      "metadata": {
        "id": "RytEDW0ylRVN"
      },
      "source": [
        "### Подготовка данных"
      ]
    },
    {
      "cell_type": "code",
      "metadata": {
        "cell_id": 5,
        "id": "QEdDQtHdlRVO"
      },
      "source": [
        "train_transform = transforms.Compose([\n",
        "    transforms.RandomHorizontalFlip(),\n",
        "    transforms.ToTensor(),\n",
        "    transforms.Normalize((0.4914, 0.4822, 0.4465), (0.2023, 0.1994, 0.2010))\n",
        "]\n",
        ")\n",
        "val_transform = transforms.Compose([\n",
        "    transforms.ToTensor(),\n",
        "    transforms.Normalize((0.4914, 0.4822, 0.4465), (0.2023, 0.1994, 0.2010))\n",
        "]\n",
        ")\n",
        "\n",
        "train_dataset = ImageFolder(\"./dataset/dataset/train\", transform=train_transform)\n",
        "val_dataset = ImageFolder(\"./dataset/dataset/val\", transform=val_transform)\n",
        "\n",
        "train_dataloader = torch.utils.data.DataLoader(train_dataset, batch_size=256, shuffle=True)\n",
        "val_dataloader = torch.utils.data.DataLoader(val_dataset, batch_size=256, shuffle=False)"
      ],
      "execution_count": null,
      "outputs": []
    },
    {
      "cell_type": "code",
      "metadata": {
        "cell_id": 6,
        "id": "mrg4Yj0VlRVP",
        "colab": {
          "base_uri": "https://localhost:8080/"
        },
        "outputId": "281a3c72-653a-4d63-8e37-c2ead32a1034"
      },
      "source": [
        "# Just very simple sanity checks\n",
        "assert isinstance(train_dataset[0], tuple)\n",
        "assert len(train_dataset[0]) == 2\n",
        "assert isinstance(train_dataset[1][1], int)\n",
        "print(\"tests passed\")"
      ],
      "execution_count": null,
      "outputs": [
        {
          "output_type": "stream",
          "name": "stdout",
          "text": [
            "tests passed\n"
          ]
        }
      ]
    },
    {
      "cell_type": "markdown",
      "metadata": {
        "id": "8RlSlmyjlRVP"
      },
      "source": [
        "### Вспомогательные функции, реализация модели"
      ]
    },
    {
      "cell_type": "code",
      "metadata": {
        "cell_id": 7,
        "id": "yYG2-Cq8lRVQ"
      },
      "source": [
        "# Код с 6-го семинара\n",
        "def train_one_epoch(model, data_loader, criterion, optimizer, device=\"cuda:0\"):\n",
        "    model = model.to(device).train()\n",
        "    total_loss = 0\n",
        "    losses = np.array([])\n",
        "    total_predictions = np.array([])#.reshape((0, ))\n",
        "    total_labels = np.array([])#.reshape((0, ))\n",
        "    with tqdm(total=len(data_loader), file=sys.stdout) as prbar:\n",
        "        for images, labels in data_loader:\n",
        "            # Move Batch to device\n",
        "            images = images.to(device)\n",
        "            labels = labels.to(device)\n",
        "            predicted = model(images)\n",
        "            elementwise_loss = criterion(predicted, labels)\n",
        "            loss = torch.mean(elementwise_loss)\n",
        "            \n",
        "            # Update weights\n",
        "            loss.backward()\n",
        "            optimizer.step()\n",
        "            optimizer.zero_grad()\n",
        "            \n",
        "            loss = loss.cpu().detach().numpy()\n",
        "            elementwise_loss = elementwise_loss.cpu().detach().numpy()\n",
        "            # Update descirption for tqdm\n",
        "            accuracy = (predicted.argmax(1) == labels).cpu().float().mean().numpy()\n",
        "            prbar.set_description(\n",
        "                f\"Loss: {round(loss.item(), 4)} \"\n",
        "                f\"Accuracy: {round(accuracy.item(), 4)}\"\n",
        "            )\n",
        "            prbar.update(1)\n",
        "\n",
        "            losses = np.append(losses, elementwise_loss)\n",
        "            total_predictions = np.append(total_predictions, predicted.argmax(1).cpu().detach().numpy())\n",
        "            total_labels = np.append(total_labels, labels.cpu().detach().numpy())\n",
        "    \n",
        "    return losses, total_predictions, total_labels\n",
        "\n",
        "\n",
        "# Код с 5-го семинара\n",
        "def predict(model, data_loader, criterion, device=\"cuda:0\"):\n",
        "    model = model.eval()\n",
        "    losses = np.array([])\n",
        "    total_predictions = np.array([])\n",
        "    total_labels = np.array([])\n",
        "    with torch.no_grad():\n",
        "        with tqdm(total=len(data_loader), file=sys.stdout) as prbar:\n",
        "            for images, labels in data_loader:\n",
        "                # Move Batch to device\n",
        "                images = images.to(device)\n",
        "                labels = labels.to(device)\n",
        "                predicted = model(images)\n",
        "                elementwise_loss = criterion(predicted, labels)\n",
        "\n",
        "                # Move data back to cpu\n",
        "                elementwise_loss = elementwise_loss.cpu()\n",
        "                predicted_classes = predicted.argmax(1).cpu()\n",
        "\n",
        "                # Compute metrics\n",
        "                batch_loss = torch.mean(elementwise_loss).numpy()\n",
        "                batch_accuracy = torch.mean((predicted_classes == labels.cpu()).float()).numpy()\n",
        "                prbar.set_description(\n",
        "                    f\"Loss: {round(batch_loss.item(), 4)} \"\n",
        "                    f\"Accuracy: {round(batch_accuracy.item(), 4)}\"\n",
        "                )\n",
        "                prbar.update(1)\n",
        "\n",
        "                losses = np.append(losses, elementwise_loss.numpy())\n",
        "                total_predictions = np.append(total_predictions, predicted_classes.numpy())\n",
        "                total_labels = np.append(total_labels, labels.cpu().numpy())\n",
        "\n",
        "    return losses, total_predictions, total_labels\n",
        "\n",
        "\n",
        "# частично с помощью https://matplotlib.org/devdocs/gallery/subplots_axes_and_figures/subplots_demo.html\n",
        "def plot_metrics(train, val):\n",
        "    clear_output(True)\n",
        "    fig, axs = plt.subplots(2, figsize=(13, 14))\n",
        "    fig.suptitle('Learning progress')\n",
        "\n",
        "    epoch = len(train['loss'])\n",
        "    for i, metric_name in enumerate(['loss', 'accuracy']):\n",
        "        train_metric = train[metric_name]\n",
        "        val_metric = val[metric_name]\n",
        "        axs[i].set_title(metric_name)\n",
        "        axs[i].set(xlabel='epoch', ylabel=metric_name)\n",
        "        axs[i].plot(np.arange(1, epoch + 1), train_metric, label='train', color='r')\n",
        "        axs[i].plot(np.arange(1, epoch + 1), val_metric, label='validation', color='b')\n",
        "        axs[i].scatter(epoch, train_metric[-1], label='Last {}={:.2f} on train'.format(metric_name, train_metric[-1]), color='r')\n",
        "        axs[i].scatter(epoch, val_metric[-1], label='Last {}={:.2f} on validation'.format(metric_name, val_metric[-1]), color='b')\n",
        "    plt.legend()\n",
        "    plt.show()\n",
        "\n",
        "# Частично мой код из первого домашнего задания\n",
        "def train(model, train_dataloader, val_dataloader, criterion, optimizer, device=\"cuda:0\", n_epochs=10, scheduler=None):\n",
        "    model.to(device)\n",
        "    train_metrics = {\n",
        "        'loss' : [],\n",
        "        'accuracy' : []\n",
        "    }\n",
        "    val_metrics = {\n",
        "        'loss' : [],\n",
        "        'accuracy' : []\n",
        "    }\n",
        "    for epoch in range(n_epochs):\n",
        "        losses, predicted_classes, true_classes = train_one_epoch(model, train_dataloader, criterion, optimizer, device)\n",
        "        train_metrics['loss'].append(losses.mean())\n",
        "        train_metrics['accuracy'].append((predicted_classes == true_classes).astype(float).mean())\n",
        "\n",
        "        losses, predicted_classes, true_classes = predict(model, val_dataloader, criterion, device)\n",
        "        val_metrics['loss'].append(losses.mean())\n",
        "        val_metrics['accuracy'].append((predicted_classes == true_classes).astype(float).mean())\n",
        "        \n",
        "        if scheduler is not None:\n",
        "            scheduler.step()\n",
        "        \n",
        "        plot_metrics(train_metrics, val_metrics)"
      ],
      "execution_count": null,
      "outputs": []
    },
    {
      "cell_type": "markdown",
      "metadata": {
        "id": "MxR3gfcilRVW"
      },
      "source": [
        "### Обучение модели, запуски экспериментов"
      ]
    },
    {
      "cell_type": "code",
      "metadata": {
        "id": "wekcSKNL9pVP"
      },
      "source": [
        "device = torch.device(\"cuda:0\") if torch.cuda.is_available() else torch.device(\"cpu\")\n",
        "# Архитектура из https://www.machinecurve.com/index.php/2020/02/09/how-to-build-a-convnet-for-cifar-10-and-cifar-100-classification-with-keras/\n",
        "# С добавлением батчнорма\n",
        "def get_model():\n",
        "    return nn.Sequential(\n",
        "        nn.Conv2d(3, 128, 3),\n",
        "        nn.ReLU(),\n",
        "        # nn.Dropout(),\n",
        "        nn.BatchNorm2d(128),\n",
        "        nn.AvgPool2d(2),\n",
        "\n",
        "        nn.Conv2d(128, 256, 3),\n",
        "        nn.ReLU(),\n",
        "        # nn.Dropout(),\n",
        "        nn.BatchNorm2d(256),\n",
        "        nn.AvgPool2d(2),\n",
        "\n",
        "        nn.Conv2d(256, 512, 3),\n",
        "        nn.ReLU(),\n",
        "        # nn.Dropout(),\n",
        "        nn.BatchNorm2d(512),\n",
        "        nn.AvgPool2d(2),\n",
        "\n",
        "        nn.Conv2d(512, 1024, 3),\n",
        "        nn.ReLU(),\n",
        "        # nn.Dropout(),\n",
        "        nn.BatchNorm2d(1024),\n",
        "        nn.AvgPool2d(2),\n",
        "\n",
        "        nn.Flatten(),\n",
        "        nn.Linear(4096, 2048),\n",
        "        nn.Dropout(),\n",
        "        nn.ReLU(),\n",
        "        nn.BatchNorm1d(2048),\n",
        "\n",
        "        nn.Linear(2048, 512),\n",
        "        nn.Dropout(),\n",
        "        nn.ReLU(),\n",
        "        nn.BatchNorm1d(512),\n",
        "\n",
        "        nn.Linear(512, 200),\n",
        "    ).to(device)"
      ],
      "execution_count": null,
      "outputs": []
    },
    {
      "cell_type": "code",
      "metadata": {
        "colab": {
          "base_uri": "https://localhost:8080/"
        },
        "id": "6ohFLdqtjzhK",
        "outputId": "606d37f9-fe04-4f7f-a251-ab0b729951f3"
      },
      "source": [
        "get_model().eval()(torch.zeros((1, 3, 64, 64)).to(device)).shape"
      ],
      "execution_count": null,
      "outputs": [
        {
          "output_type": "execute_result",
          "data": {
            "text/plain": [
              "torch.Size([1, 200])"
            ]
          },
          "metadata": {},
          "execution_count": 9
        }
      ]
    },
    {
      "cell_type": "markdown",
      "metadata": {
        "cell_id": 9,
        "id": "CesoOl6BlRVY"
      },
      "source": [
        "Простой тест на проверку правильности написанного кода"
      ]
    },
    {
      "cell_type": "code",
      "metadata": {
        "cell_id": 10,
        "id": "B_LB2jn6lRVY",
        "colab": {
          "base_uri": "https://localhost:8080/"
        },
        "outputId": "f82e6d3c-99ea-44c1-a5d8-f2efee91fa86"
      },
      "source": [
        "model = get_model()\n",
        "criterion = nn.CrossEntropyLoss()\n",
        "all_losses, predicted_labels, true_labels = predict(model, val_dataloader, criterion, device)\n",
        "assert len(predicted_labels) == len(val_dataset)\n",
        "accuracy = accuracy_score(predicted_labels, true_labels)\n",
        "print(\"tests passed\")"
      ],
      "execution_count": null,
      "outputs": [
        {
          "output_type": "stream",
          "name": "stdout",
          "text": [
            "Loss: 5.3401 Accuracy: 0.0: 100%|██████████| 40/40 [00:11<00:00,  3.39it/s]\n",
            "tests passed\n"
          ]
        }
      ]
    },
    {
      "cell_type": "markdown",
      "metadata": {
        "cell_id": 11,
        "id": "tS-LLiXUlRVY"
      },
      "source": [
        "Запустить обучение можно в ячейке ниже."
      ]
    },
    {
      "cell_type": "code",
      "metadata": {
        "id": "gEf0Yfof8WR4"
      },
      "source": [
        "def set_random_seed(seed):\n",
        "    torch.backends.cudnn.deterministic = True\n",
        "    torch.manual_seed(seed)\n",
        "    torch.cuda.manual_seed(seed)\n",
        "    np.random.seed(seed)\n",
        "    random.seed(seed)"
      ],
      "execution_count": null,
      "outputs": []
    },
    {
      "cell_type": "markdown",
      "metadata": {
        "id": "3vTG6pLbkaZp"
      },
      "source": [
        ""
      ]
    },
    {
      "cell_type": "code",
      "metadata": {
        "cell_id": 12,
        "id": "ECIzZ_RYlRVZ",
        "colab": {
          "base_uri": "https://localhost:8080/",
          "height": 924
        },
        "outputId": "63d8d23b-fc2d-4124-f285-ea12fe02f752"
      },
      "source": [
        "set_random_seed(42)\n",
        "model = get_model()\n",
        "optimizer = torch.optim.Adam(model.parameters(), lr=1e-3)\n",
        "criterion = nn.CrossEntropyLoss()\n",
        "scheduler = ExponentialLR(optimizer, gamma=0.95)\n",
        "# scheduler = None\n",
        "train(model, train_dataloader, val_dataloader, criterion, optimizer, device, 15, scheduler)"
      ],
      "execution_count": null,
      "outputs": [
        {
          "output_type": "display_data",
          "data": {
            "image/png": "[encoded data removed]",
            "text/plain": [
              "<Figure size 936x1008 with 2 Axes>"
            ]
          },
          "metadata": {
            "needs_background": "light"
          }
        }
      ]
    },
    {
      "cell_type": "markdown",
      "metadata": {
        "id": "ImVW8_EXlRVZ"
      },
      "source": [
        "### Проверка полученной accuracy"
      ]
    },
    {
      "cell_type": "markdown",
      "metadata": {
        "cell_id": 13,
        "id": "FmR-elhJlRVZ"
      },
      "source": [
        "После всех экспериментов которые вы проделали, выберите лучшую из своих моделей, реализуйте и запустите функцию `evaluate`. Эта функция должна брать на вход модель и даталоадер с валидационными данными и возврашать accuracy, посчитанную на этом датасете."
      ]
    },
    {
      "cell_type": "code",
      "metadata": {
        "cell_id": 14,
        "id": "3TGH0EFalRVb",
        "colab": {
          "base_uri": "https://localhost:8080/"
        },
        "outputId": "14652dbe-ab0f-48bc-e97f-ee3e25001426"
      },
      "source": [
        "all_losses, predicted_labels, true_labels = predict(model, val_dataloader, criterion, device)\n",
        "assert len(predicted_labels) == len(val_dataset)\n",
        "accuracy = accuracy_score(true_labels, predicted_labels)\n",
        "print(\"Оценка за это задание составит {} баллов\".format(min(5, 5 * accuracy / 0.44)))"
      ],
      "execution_count": null,
      "outputs": [
        {
          "output_type": "stream",
          "name": "stdout",
          "text": [
            "Loss: 2.0387 Accuracy: 0.6875: 100%|██████████| 40/40 [00:14<00:00,  2.74it/s]\n",
            "Оценка за это задание составит 4.9988636363636365 баллов\n"
          ]
        }
      ]
    },
    {
      "cell_type": "markdown",
      "metadata": {
        "cell_id": 15,
        "id": "pT8vfPSolRVb"
      },
      "source": [
        "### Отчёт об экспериментах \n",
        "\n",
        "текст писать тут"
      ]
    }
  ]
}