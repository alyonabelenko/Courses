{
  "cells": [
    {
      "cell_type": "markdown",
      "metadata": {
        "id": "_FhfcmEmQbUx"
      },
      "source": [
        "# Трансформеры\n",
        "В этом домашнем задании мы рассмотим использование трансформеров в библиотеке PyTorch. Рассмотрим задачу языкового моделирования. Попробуем генерировать текст нейронной сетью. "
      ]
    },
    {
      "cell_type": "markdown",
      "metadata": {
        "id": "AMW1Pk4JQbU1"
      },
      "source": [
        "Ссылка на данные - https://drive.google.com/drive/folders/1x1A4ElliUGBPnHladGMwPxPuGxI8Vnpu?usp=sharing"
      ]
    },
    {
      "cell_type": "code",
      "execution_count": 17,
      "metadata": {
        "id": "wR1NHsNaQbU2"
      },
      "outputs": [],
      "source": [
        "# хороший тон, импортировать все необходимые библиотеки в одной ячейке ;)\n",
        "\n",
        "import torch\n",
        "from torch import nn\n",
        "\n",
        "from sklearn.model_selection import train_test_split\n",
        "\n",
        "import numpy as np\n",
        "import time\n",
        "import os"
      ]
    },
    {
      "cell_type": "markdown",
      "metadata": {
        "id": "ZqtJDrnmQbU4"
      },
      "source": [
        "Что такое языковое моделирование? Это предсказание вероятности следующего токена (слова или буквы) на основе предыдущих токенов. Математически это можно описать так:\n",
        "\n",
        "$$P(x_i|x_1, x_2 , ... , x_{i-1})$$ \n",
        "\n",
        "Последовательность $$ x_1, x_2, ... x_{i-1} $$ называют контекстом."
      ]
    },
    {
      "cell_type": "markdown",
      "metadata": {
        "id": "Xxk1LkYgQbU4"
      },
      "source": [
        "## Задание 0 (0 баллов, но сделать нужно)\n",
        "Проставьте знаки неравенств, исходя из вашего опыта:\n",
        "$$ P(раму | мама, мыла) * P(папу | мама, мыла) $$\n",
        "$$ P(столу | дорога, ложка, к) * P(обеду | дорога, ложка, к) $$\n",
        "$$ P(Евпатий | меня, зовут) * P(Ваня | меня, зовут) $$\n",
        "$$ P(журналы | я, часто ,читаю) * P(комиксы | я, часто ,читаю) $$\n",
        "Попробуйте объяснить выбор для каждого из примеров."
      ]
    },
    {
      "cell_type": "markdown",
      "metadata": {
        "id": "4sUAZWcjQbU5"
      },
      "source": [
        "Ответ : \n"
      ]
    },
    {
      "cell_type": "markdown",
      "source": [
        "$$ P(раму | мама, мыла) > P(папу | мама, мыла) $$\n",
        "$$ P(столу | дорога, ложка, к) < P(обеду | дорога, ложка, к) $$\n",
        "$$ P(Евпатий | меня, зовут) < P(Ваня | меня, зовут) $$\n",
        "$$ P(журналы | я, часто ,читаю) > P(комиксы | я, часто ,читаю) $$"
      ],
      "metadata": {
        "id": "n3QOWutLRA5B"
      }
    },
    {
      "cell_type": "markdown",
      "metadata": {
        "id": "kE_n7gJWQbU5"
      },
      "source": [
        "Если для некоторых из примеров проставить знаки достаточно просто, то на некоторые сложно сказать, какой овтет верный. Мы принимаем решение для данного задания исходя их опыта использования русского языка. Мы много читали на русском и слушали огромное количество русской речи. Обучение языковых моделей происходит по схожему принципу. \n",
        "\n",
        "Мы хотим показать модели столько текстов, сколько можем и надеемся, что она наберется достаточно опыта, чтобы расставлять такие знаки неравества максимально схоже с человеком."
      ]
    },
    {
      "cell_type": "markdown",
      "metadata": {
        "id": "IYUnio6pQbU6"
      },
      "source": [
        "## Задание 1 (0.5 балла)\n",
        "Мы будем обучать языковую модель для предсказания следущей буквы. Такие языковые модели применяются в распозновании речи, так как предоставляют дополнительную информацию акустической модели при выборе следующего символа. Для начала, откройте файл с данными, посмотрите, какие символы входят в тексты, сколько их. Уберите из текста все символы переноса на новую строку и табуляцию."
      ]
    },
    {
      "cell_type": "code",
      "source": [
        "WORK_DIR = './'\n",
        "try:\n",
        "    from google.colab import files, drive\n",
        "    WORK_DIR = '/content/drive/'\n",
        "    drive.mount(WORK_DIR)\n",
        "    WORK_DIR += 'My Drive/datasets/iad/homework3'\n",
        "except:\n",
        "    pass\n",
        "os.chdir(WORK_DIR)"
      ],
      "metadata": {
        "colab": {
          "base_uri": "https://localhost:8080/"
        },
        "id": "YocPUhvpT4aB",
        "outputId": "73b98252-a26b-4b69-d4d6-c3f2afd7780d"
      },
      "execution_count": 2,
      "outputs": [
        {
          "output_type": "stream",
          "name": "stdout",
          "text": [
            "Mounted at /content/drive/\n"
          ]
        }
      ]
    },
    {
      "cell_type": "code",
      "execution_count": 5,
      "metadata": {
        "scrolled": true,
        "colab": {
          "base_uri": "https://localhost:8080/"
        },
        "id": "JQt_ogRSQbU7",
        "outputId": "448c95b6-a56e-4f26-8771-cb45d69c154d"
      },
      "outputs": [
        {
          "output_type": "execute_result",
          "data": {
            "text/plain": [
              "700000"
            ]
          },
          "metadata": {},
          "execution_count": 5
        }
      ],
      "source": [
        "path = 'small_corp_for_test.txt'\n",
        "file = open(path, 'r')\n",
        "data = file.readlines()\n",
        "file.close()\n",
        "len(data)"
      ]
    },
    {
      "cell_type": "code",
      "execution_count": 10,
      "metadata": {
        "colab": {
          "base_uri": "https://localhost:8080/"
        },
        "id": "MCckEdxYQbU7",
        "outputId": "082b445c-2035-46d9-c113-300f29d522ec"
      },
      "outputs": [
        {
          "output_type": "stream",
          "name": "stdout",
          "text": [
            "{'\\n', ' ', '-'}\n"
          ]
        }
      ],
      "source": [
        "print(set(''.join(data)) - set('абвгдеёжзийклмнопрстуфхцчшщъыьэюя'))"
      ]
    },
    {
      "cell_type": "code",
      "source": [
        "data = [\n",
        "    line.replace('\\n', '').replace('\\t', '')\n",
        "    for line in data\n",
        "]"
      ],
      "metadata": {
        "id": "mJF-lJUA_CJs"
      },
      "execution_count": 11,
      "outputs": []
    },
    {
      "cell_type": "code",
      "source": [
        "print(set(''.join(data)) - set('абвгдеёжзийклмнопрстуфхцчшщъыьэюя'))"
      ],
      "metadata": {
        "colab": {
          "base_uri": "https://localhost:8080/"
        },
        "id": "ZXVX-OwG_jFD",
        "outputId": "b6e2f706-e0b5-4d6d-ef57-1ea86eb105f2"
      },
      "execution_count": 12,
      "outputs": [
        {
          "output_type": "stream",
          "name": "stdout",
          "text": [
            "{' ', '-'}\n"
          ]
        }
      ]
    },
    {
      "cell_type": "markdown",
      "metadata": {
        "id": "84ngiP3AQbU8"
      },
      "source": [
        "## Задание 2 (0.5 балла)\n",
        "Для обучения модели требуется сначала подготовить текст в подходящий для нейросети вид. Важно также отметить, что нужно добавить два токена start и end, которые отвечают за начало и конец текста. Используйте [ и ] для этой задачи. Также нам нужен токен pad, чтобы заполнять им текст до требуемой длинны для формирования батча.\n",
        "\n",
        "Реализуйте метод preprocess класса Preprocessor. Он должен принимать на вход текст и длинну текста, которую мы ожидаем получить на выходе. Текст должен быть переведен в нижний регистр, в конец текста добавляется требуемое число pad токенов, далее текст векторизуется (каждому символу ставится свое число). Вернуть требуется два вектора. Полученный результат без последнего токена (на нем будем обучаться) и полученный результат без первого токена (целевые метки при обучении)."
      ]
    },
    {
      "cell_type": "code",
      "execution_count": 13,
      "metadata": {
        "id": "DFMWAFpjQbU8"
      },
      "outputs": [],
      "source": [
        "class Preprocessor:\n",
        "    def __init__(self):\n",
        "        self.alphabet = '_добсркгаупитнезчм яжлйвцыэь-шхющёъ][ '\n",
        "        self.token2ind = {}\n",
        "        self.ind2token = {}\n",
        "        for i in range(len(self.alphabet)):\n",
        "            self.token2ind[self.alphabet[i]] = i\n",
        "            self.ind2token[i] = self.alphabet[i]\n",
        "        \n",
        "    \n",
        "    def preprocess(self, text, window_size):\n",
        "        n = len(text)\n",
        "        assert n <= window_size\n",
        "        \n",
        "        text = text.lower()\n",
        "        text = text + '_' * (window_size - n)\n",
        "        tokens = [self.token2ind[w] for w in text]\n",
        "        return tokens\n"
      ]
    },
    {
      "cell_type": "markdown",
      "metadata": {
        "id": "AdHqpU5tQbU9"
      },
      "source": [
        "## Задание 3 (0.5 балла)\n",
        "Так как мы решили, что текст будет начинаться токеном [ и заканчиваться токеном ], данные нужно поправить. Реализуйте эту идею, добавьте данные токены в ваши тексты."
      ]
    },
    {
      "cell_type": "code",
      "execution_count": 15,
      "metadata": {
        "id": "gO9BsORqQbU9"
      },
      "outputs": [],
      "source": [
        "if '[' not in data[0]:\n",
        "    data = [\n",
        "        '[{}]'.format(line)\n",
        "        for line in data\n",
        "    ]\n"
      ]
    },
    {
      "cell_type": "markdown",
      "metadata": {
        "id": "Xmc_vMCDQbU-"
      },
      "source": [
        "## Задание 4 (0.5 балла)\n",
        "Так как мы не располагаем большими мощностями, то давайте ограничим максимальную длинну текста. Вы можете менять этот порог и тем самым уменьшать кол-во текстов в вашей выборке и увеличивая тем самым скорость обучения. Начнем же мы с 128. \n",
        "Выберите порог и оставьте только те тексты, длина которых не превосходит данный порог.\n",
        "\n",
        "Далее разбейте тексты на train и test, перемешайте тексты при разбиении, размер тестовой выборки должен быть 15% от общего числа текстов. "
      ]
    },
    {
      "cell_type": "code",
      "execution_count": 26,
      "metadata": {
        "id": "1olDzV5UQbU-"
      },
      "outputs": [],
      "source": [
        "THRESHOLD = 128\n",
        "\n",
        "final_data = [\n",
        "    line for line in data if len(line) <= THRESHOLD\n",
        "]\n",
        "\n",
        "data_train, data_test = train_test_split(final_data, test_size=0.15)"
      ]
    },
    {
      "cell_type": "markdown",
      "metadata": {
        "id": "PZg-tsBVQbU-"
      },
      "source": [
        "## Задание 5 (2 балла)\n",
        "Напишем датасет. На вход датасету передается набор текстов, объект класса Preprocessor и размер окна, который вы выбрали в прошлом задании.\n",
        "Реализуйте методы __len__ и __getitem__."
      ]
    },
    {
      "cell_type": "code",
      "execution_count": 29,
      "metadata": {
        "id": "DjGH6SC4QbU_"
      },
      "outputs": [],
      "source": [
        "class TextDataset(torch.utils.data.Dataset):\n",
        "    def __init__(self, x, preproc, win_size = 128):\n",
        "        self.x = x\n",
        "        self.preproc = preproc\n",
        "        self.win_size = win_size\n",
        "    \n",
        "    def __len__(self):\n",
        "        return len(self.x)\n",
        "    \n",
        "    def __getitem__(self, idx):\n",
        "        return self.preproc.preprocess(self.x[idx], self.win_size)"
      ]
    },
    {
      "cell_type": "code",
      "execution_count": 30,
      "metadata": {
        "id": "T-zarlVyQbU_"
      },
      "outputs": [],
      "source": [
        "preproc = Preprocessor()\n",
        "train_dataset = TextDataset(data_train, preproc)\n",
        "test_dataset = TextDataset(data_test, preproc)"
      ]
    },
    {
      "cell_type": "markdown",
      "metadata": {
        "id": "T8pzn-gcQbU_"
      },
      "source": [
        "## Задание 6 (2 балла)\n",
        "Напишем модель. Класс для реализации positional encoding реализован за вас, он нужен, чтобы модель могла после получения эмбедингов понимать, на каком месте какой токен находится.\n",
        "\n",
        "Заполните пропуски в классе модели. Гипперпараметры модели вам предлагается подобрать самостоятельно. Рекомендуется использовать не более 6 слоев в трансформере. В декореде испоьлзуйте две линейных слоя с функцией активации ReLU между ними.\n",
        "\n",
        "## Задание 6_1 (0 баллов, но надо ответить!)\n",
        "При обучении языковой модели на основе трансформеров мы используем маскирование символов (как мы это делаем - уже реализовано). Напишите, почему мы это делаем? Почему это так важно?"
      ]
    },
    {
      "cell_type": "code",
      "execution_count": null,
      "metadata": {
        "id": "oH-ttV9SQbVA"
      },
      "outputs": [],
      "source": [
        "class PositionalEncoding(nn.Module):\n",
        "\n",
        "    def __init__(self, d_model, dropout=0.1, max_len=5000):\n",
        "        super(PositionalEncoding, self).__init__()\n",
        "        self.dropout = nn.Dropout(p=dropout)\n",
        "\n",
        "        pe = torch.zeros(max_len, d_model)\n",
        "        position = torch.arange(0, max_len, dtype=torch.float).unsqueeze(1)\n",
        "        div_term = torch.exp(torch.arange(0, d_model, 2).float() * (-math.log(10000.0) / d_model))\n",
        "        pe[:, 0::2] = torch.sin(position * div_term)\n",
        "        pe[:, 1::2] = torch.cos(position * div_term)\n",
        "        pe = pe.unsqueeze(0).transpose(0, 1)\n",
        "        self.register_buffer('pe', pe)\n",
        "\n",
        "    def forward(self, x):\n",
        "        x = x + self.pe[:x.size(0), :]\n",
        "        return self.dropout(x)"
      ]
    },
    {
      "cell_type": "code",
      "execution_count": null,
      "metadata": {
        "id": "piWkDoQ5QbVA"
      },
      "outputs": [],
      "source": [
        "class LanguageModel(nn.Module):\n",
        "    def __init__(self, vocab_size):\n",
        "        super(LanguageModel, self).__init__()\n",
        "        self.emb = ...\n",
        "        self.pe = ...\n",
        "        self.transformer_encoder_layer = ...\n",
        "        self.transformer_encoder = ...\n",
        "        self.decoder = ...\n",
        "    \n",
        "    def forward(self, x, src_mask):\n",
        "        x = ... # emb, then pe\n",
        "        x = x.transpose(1, 0)\n",
        "        x = ... # transformer encoder with mask\n",
        "        x = ... # decoder\n",
        "        return x.transpose(1, 0)\n",
        "    \n",
        "    def generate_square_subsequent_mask(self, sz):\n",
        "        # А вот и то самое маскирование\n",
        "        mask = (torch.triu(torch.ones(sz, sz)) == 1).transpose(0, 1)\n",
        "        mask = mask.float().masked_fill(mask == 0, float('-inf')).masked_fill(mask == 1, float(0.0))\n",
        "        return mask"
      ]
    },
    {
      "cell_type": "code",
      "execution_count": null,
      "metadata": {
        "id": "1a7Fg-MrQbVA"
      },
      "outputs": [],
      "source": [
        "model = LanguageModel(len('_добсркгаупитнезчм яжлйвцыэь-шхющёъ][ '))"
      ]
    },
    {
      "cell_type": "markdown",
      "metadata": {
        "id": "tr2I5paVQbVA"
      },
      "source": [
        "## Задание 7 (2,5 балла)\n",
        "Финишная прямая. Давайте реализуем класс для обучения модели и ее валидации. Следуйте указаниям в коде и заполните недостающие фрагменты в коде."
      ]
    },
    {
      "cell_type": "code",
      "execution_count": null,
      "metadata": {
        "id": "Ty7kqJEOQbVB"
      },
      "outputs": [],
      "source": [
        "class Trainer:\n",
        "    \n",
        "    def __init__(self, model, train_dataset, test_dataset):\n",
        "        \n",
        "        self.model = model\n",
        "        \n",
        "        self.train_batch_size = 64\n",
        "        self.test_batch_size = 64\n",
        "        \n",
        "        self.train_dataloader = ...\n",
        "        self.test_dataloader = ...\n",
        "        self.train_dataloader_size = ...\n",
        "        self.test_dataloader_size = ...\n",
        "        \n",
        "        self.device = 'cuda:0'\n",
        "        self.criterion = ... # используйте CrossEntrophyLoss, передайте в качетсве параметра \n",
        "                             # ignore index индекс символа _, чтобы модель не штрафовалась за то\n",
        "                             # что идет после закрывающего токена\n",
        "        \n",
        "        self.optimizer = ...\n",
        "        \n",
        "        self.steps_to_print = 1000\n",
        "        \n",
        "    def train_one_epoch(self, epoch_number):\n",
        "        step = 0\n",
        "        counted_loss = 0\n",
        "        current_time = time.time()\n",
        "        it = 0\n",
        "        \n",
        "        for batch in self.train_dataloader:\n",
        "            x, y = batch\n",
        "            # YOUR CODE HERE\n",
        "            \n",
        "            # реализуйте шаги обучения модели\n",
        "            # сохраняйте значение ошибки в переменную counted_loss\n",
        "            \n",
        "            ################\n",
        "            \n",
        "            \n",
        "            if step%self.steps_to_print == 0:\n",
        "                result = 'Train epoch '+str(epoch_number)+' | '\n",
        "                result += 'Step '+str(step)+'/'+str(self.train_dataloader_size)+' | '\n",
        "                result += 'Counted loss '+str(counted_loss)+' | '\n",
        "                result += 'ppl '+str(math.exp(counted_loss/it))+' | '\n",
        "                result += 'time '+str(time.time() - current_time) + ' | '\n",
        "                print(result)\n",
        "                current_time = time.time()\n",
        "                counted_loss = 0\n",
        "                it = 0\n",
        "    \n",
        "    def validate_one_epoch(self, epoch_number):\n",
        "        step = 0\n",
        "        counted_loss = 0\n",
        "        current_time = time.time()\n",
        "        it = 0\n",
        "        for batch in self.test_dataloader:\n",
        "            x, y = batch\n",
        "            \n",
        "            # YOUR CODE HERE\n",
        "            \n",
        "            # реализуйте шаги для теста модели\n",
        "            # помните, что данный метод уже запускается из \n",
        "            # блока with torch.no_grad(), а потому \n",
        "            # повторно его использовать не нужно\n",
        "            \n",
        "            ################\n",
        "            \n",
        "            if step%(self.steps_to_print//2) == 0:\n",
        "                result = 'Validate epoch '+str(epoch_number)+' | '\n",
        "                result += 'Step '+str(step)+'/'+str(self.test_dataloader_size)+' | '\n",
        "                result += 'Counted loss '+str(counted_loss)+' | '\n",
        "                result += 'ppl '+str(math.exp(counted_loss/it))+' | '\n",
        "                result += 'time '+str(time.time() - current_time) + ' | '\n",
        "                print(result)\n",
        "                current_time = time.time()\n",
        "                counted_loss = 0\n",
        "                it = 0\n",
        "        \n",
        "    def train(self, number_of_epochs):\n",
        "        model.to(self.device)\n",
        "        for epoch in range(1, number_of_epochs+1):\n",
        "            model.train()\n",
        "            self.train_one_epoch(epoch)\n",
        "            with torch.no_grad():\n",
        "                model.eval()\n",
        "                self.validate_one_epoch(epoch)\n",
        "            print()"
      ]
    },
    {
      "cell_type": "markdown",
      "metadata": {
        "id": "ZbWXPMCmQbVB"
      },
      "source": [
        "Что такое ppl? Перплексия. Ее можно интерпретировать как меру \"удивленности\" модели нужному символу. Чем меньше данная величина, тем лучше, ведь это значит, что модель если и сделала неправильный выбор, то не сильно удивлена своей ошибке.\n",
        "\n",
        "Проведите несколько экспериментов, посмотрите, при каких гипперпараметрах значение перплексии минимально."
      ]
    },
    {
      "cell_type": "markdown",
      "metadata": {
        "id": "HmbPYJwvQbVC"
      },
      "source": [
        "## Задание 8 (0.5 балла)\n",
        "Запустите обучение на нескольких эпохах. Ориентируйтесь на ваши вычислительные мощности и время работы. Вы всегда можете посчитать, сколько секунд уходит на один батч."
      ]
    },
    {
      "cell_type": "code",
      "execution_count": null,
      "metadata": {
        "id": "747m0_rOQbVC"
      },
      "outputs": [],
      "source": [
        "# YOUR CODE HERE\n",
        "###############"
      ]
    },
    {
      "cell_type": "markdown",
      "metadata": {
        "id": "7Nl7Kkc6QbVC"
      },
      "source": [
        "## Задание 9 (1 балл)\n",
        "Итак, давайте попробуем погенерировать текст нашей сеткой. Закончите функцию по генерации текста. Попробуйте сгенерировать какой-нибудь текст. Помните, что если вы хотите генерировать текст с нуля, то вы должны передать в качестве текста только токен start.\n",
        "Прекратите генерировать текст, если модель выдала токен end или длинна текста больше 150."
      ]
    },
    {
      "cell_type": "code",
      "execution_count": null,
      "metadata": {
        "id": "6BFSYLbaQbVC"
      },
      "outputs": [],
      "source": [
        "def generate_text(text):\n",
        "    x = []\n",
        "    \n",
        "    for letter in text:\n",
        "        x.append(preproc.token2ind[letter])\n",
        "    x = torch.from_numpy(np.array(x))\n",
        "    \n",
        "    pred = ...\n",
        "    ind = ... \n",
        "    \n",
        "    text += ... \n",
        "    \n",
        "    if ...:\n",
        "        return text\n",
        "    else:\n",
        "        return generate_text(text)"
      ]
    },
    {
      "cell_type": "markdown",
      "metadata": {
        "id": "sK2OLivNQbVD"
      },
      "source": [
        "## Задание 10* (Задание - бонус, 5 баллов за реализацию при условии, что сделаны прошлые задания)\n",
        "Давайте вспомним, что такое transfer learning. Мы хотим использовать уже предобученные эмбединги для нашей сети, чтобы наша сеть обучалась быстрее. Давайте попробуем обучить новую модель на уровне слов, а не символов, но для упрощения задачи используем предобученный слой из библиотеки Natasha, а вернее, ее блок Navec."
      ]
    },
    {
      "cell_type": "markdown",
      "metadata": {
        "id": "kXq0GndiQbVD"
      },
      "source": [
        "[Изучите](https://github.com/natasha/navec) то, как вставить слой в вашу нейронную сеть."
      ]
    },
    {
      "cell_type": "markdown",
      "metadata": {
        "id": "ewVEqExXQbVD"
      },
      "source": [
        "Теперь мы хотим, чтобы на вход модели подавались слова, модифицируйте ваш датасет. Возвращайте теперь номер слова в словаре navec."
      ]
    },
    {
      "cell_type": "code",
      "execution_count": null,
      "metadata": {
        "id": "51z3Bjq9QbVD"
      },
      "outputs": [],
      "source": [
        "class TextDataset_Navec(torch.utils.data.Dataset):\n",
        "    \n",
        "    def __init__(self, x, win_size = 128):\n",
        "        # YOUR CODE HERE\n",
        "        self.navec = ...\n",
        "        ################\n",
        "    \n",
        "    def __len__(self):\n",
        "        # YOUR CODE HERE\n",
        "        ################\n",
        "    \n",
        "    def __getitem__(self, idx):\n",
        "        # YOUR CODE HERE\n",
        "        ################"
      ]
    },
    {
      "cell_type": "markdown",
      "metadata": {
        "id": "0aqmd6BlQbVD"
      },
      "source": [
        "Немного модифицируем модель. Теперь нам не нужны слои с трансформером, так как весь механизм внимания уже заложен в ембедингах. Давайте попробуем просто пройтись линейной головой над эмбедингами. Выберите параметры самостоятельно."
      ]
    },
    {
      "cell_type": "code",
      "execution_count": null,
      "metadata": {
        "id": "jlZiaodNQbVD"
      },
      "outputs": [],
      "source": [
        "class LanguageModel(nn.Module):\n",
        "    def __init__(self):\n",
        "        super(LanguageModel, self).__init__()\n",
        "        self.emb_navec = ...\n",
        "        self.head = ...\n",
        "    \n",
        "    def forward(self, x):\n",
        "        x = ... # emb\n",
        "        x = ... # head\n",
        "        return x"
      ]
    },
    {
      "cell_type": "markdown",
      "metadata": {
        "id": "RRfnrlJxQbVE"
      },
      "source": [
        "Теперь дело за малым! Надо немного модифицировать класс обучения, так как мы не используем маскирование, после чего можно приступить к тесту!"
      ]
    },
    {
      "cell_type": "code",
      "execution_count": null,
      "metadata": {
        "id": "wtkxprRXQbVE"
      },
      "outputs": [],
      "source": [
        "class Trainer:\n",
        "    \n",
        "    def __init__(self, model, train_dataset, test_dataset):\n",
        "        \n",
        "        self.model = model\n",
        "        \n",
        "        self.train_batch_size = 64\n",
        "        self.test_batch_size = 64\n",
        "        \n",
        "        self.train_dataloader = ...\n",
        "        self.test_dataloader = ...\n",
        "        self.train_dataloader_size = ...\n",
        "        self.test_dataloader_size = ...\n",
        "        \n",
        "        self.device = 'cuda:0'\n",
        "        self.criterion = ... \n",
        "        \n",
        "        self.optimizer = ...\n",
        "        \n",
        "        self.steps_to_print = 1000\n",
        "        \n",
        "    def train_one_epoch(self, epoch_number):\n",
        "        step = 0\n",
        "        counted_loss = 0\n",
        "        current_time = time.time()\n",
        "        it = 0\n",
        "        \n",
        "        for batch in self.train_dataloader:\n",
        "            x, y = batch\n",
        "            # YOUR CODE HERE\n",
        "            \n",
        "            # реализуйте шаги обучения модели\n",
        "            # сохраняйте значение ошибки в переменную counted_loss\n",
        "            \n",
        "            ################\n",
        "            \n",
        "            \n",
        "            if step%self.steps_to_print == 0:\n",
        "                result = 'Train epoch '+str(epoch_number)+' | '\n",
        "                result += 'Step '+str(step)+'/'+str(self.train_dataloader_size)+' | '\n",
        "                result += 'Counted loss '+str(counted_loss)+' | '\n",
        "                result += 'ppl '+str(math.exp(counted_loss/it))+' | '\n",
        "                result += 'time '+str(time.time() - current_time) + ' | '\n",
        "                print(result)\n",
        "                current_time = time.time()\n",
        "                counted_loss = 0\n",
        "                it = 0\n",
        "    \n",
        "    def validate_one_epoch(self, epoch_number):\n",
        "        step = 0\n",
        "        counted_loss = 0\n",
        "        current_time = time.time()\n",
        "        it = 0\n",
        "        for batch in self.test_dataloader:\n",
        "            x, y = batch\n",
        "            \n",
        "            # YOUR CODE HERE\n",
        "            \n",
        "            # реализуйте шаги для теста модели\n",
        "            # помните, что данный метод уже запускается из \n",
        "            # блока with torch.no_grad(), а потому \n",
        "            # повторно его использовать не нужно\n",
        "            \n",
        "            ################\n",
        "            \n",
        "            if step%(self.steps_to_print//2) == 0:\n",
        "                result = 'Validate epoch '+str(epoch_number)+' | '\n",
        "                result += 'Step '+str(step)+'/'+str(self.test_dataloader_size)+' | '\n",
        "                result += 'Counted loss '+str(counted_loss)+' | '\n",
        "                result += 'ppl '+str(math.exp(counted_loss/it))+' | '\n",
        "                result += 'time '+str(time.time() - current_time) + ' | '\n",
        "                print(result)\n",
        "                current_time = time.time()\n",
        "                counted_loss = 0\n",
        "                it = 0\n",
        "        \n",
        "    def train(self, number_of_epochs):\n",
        "        model.to(self.device)\n",
        "        for epoch in range(1, number_of_epochs+1):\n",
        "            model.train()\n",
        "            self.train_one_epoch(epoch)\n",
        "            with torch.no_grad():\n",
        "                model.eval()\n",
        "                self.validate_one_epoch(epoch)\n",
        "            print()"
      ]
    },
    {
      "cell_type": "markdown",
      "metadata": {
        "id": "I9kVbGeqQbVE"
      },
      "source": [
        "Запустите обучение. "
      ]
    },
    {
      "cell_type": "code",
      "execution_count": null,
      "metadata": {
        "id": "TzRFIzANQbVE"
      },
      "outputs": [],
      "source": [
        "# YOUR CODE HERE\n",
        "###############"
      ]
    }
  ],
  "metadata": {
    "kernelspec": {
      "display_name": "Python 3",
      "language": "python",
      "name": "python3"
    },
    "language_info": {
      "codemirror_mode": {
        "name": "ipython",
        "version": 3
      },
      "file_extension": ".py",
      "mimetype": "text/x-python",
      "name": "python",
      "nbconvert_exporter": "python",
      "pygments_lexer": "ipython3",
      "version": "3.8.5"
    },
    "colab": {
      "name": "hw3_transformer.ipynb",
      "provenance": []
    }
  },
  "nbformat": 4,
  "nbformat_minor": 0
}