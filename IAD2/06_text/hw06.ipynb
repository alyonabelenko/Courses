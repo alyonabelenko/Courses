{
  "nbformat": 4,
  "nbformat_minor": 0,
  "metadata": {
    "kernelspec": {
      "display_name": "Python 3",
      "language": "python",
      "name": "python3"
    },
    "language_info": {
      "codemirror_mode": {
        "name": "ipython",
        "version": 3
      },
      "file_extension": ".py",
      "mimetype": "text/x-python",
      "name": "python",
      "nbconvert_exporter": "python",
      "pygments_lexer": "ipython3",
      "version": "3.8.5"
    },
    "colab": {
      "name": "hw06.ipynb",
      "provenance": []
    }
  },
  "cells": [
    {
      "cell_type": "markdown",
      "metadata": {
        "id": "sa0OSdDne6jy"
      },
      "source": [
        "# Домашнее задание 6: классификация текстов"
      ]
    },
    {
      "cell_type": "markdown",
      "metadata": {
        "id": "MeJxiavee6j8"
      },
      "source": [
        "В этом домашнем задании вам предстоит построить классификатор текстов и поучаствовать в соревновании на Kaggle!\n",
        "Первым делом вам предстоит построить хороший бейзлайн, а дальше пытаться улучшать, соревнуясь с другими участниками.\n",
        "\n",
        "\n",
        "Ссылка на соревнование: https://www.kaggle.com/c/avito-category-prediction/overview\n",
        "Данные для домашнего задания можно скачать на странице соревнования.\n",
        "Чтобы ваше участие было засчитано, убедитесь, что имя в Leaderboard имеет вид: «Имя Фамилия номер_группы».\n",
        "\n",
        "Оценивание:\n",
        "\n",
        "Домашнее задание оценивается как обычно. Баллы указаны напротив заданий.\n",
        "\n",
        "За соревнование даются бонусные баллы следующим образом.\n",
        "Если вы пересекли baseline_2 на приватном лидерборде, ваша оценка равна \n",
        "\n",
        "10 - 10 * (i - 1) / M\n",
        "\n",
        "где M — количество студентов, принявших участие в соревновании;\n",
        "\n",
        "i — место (начиная с 1) студента в приватном лидерборде среди всех таких студентов.\n",
        "\n",
        "Правила:\n",
        "\n",
        "* Домашнее задание оценивается в 10 баллов.\n",
        "\n",
        "* Плагиат не допускается. При обнаружении случаев списывания, 0 за работу выставляется всем участникам нарушения, даже если можно установить, кто у кого списал.\n",
        "\n",
        "* Старайтесь сделать код как можно более оптимальным. В частности, будет штрафоваться использование циклов в тех случаях, когда операцию можно совершить при помощи инструментов библиотек, о которых рассказывалось в курсе.  \n",
        "\n",
        "* В течение 3 суток после окончания соревнования в соответствующее задание на anytask необходимо прислать код, воспроизводящий ответы для посылки, фигурирующей в приватном лидерборде. В случае отсутствия кода, воспроизводящего результат, в установленный срок студенту выставляется 0 в качестве оценки за соревнование. Если не оговорено иное, использовать любые внешние данные в соревнованиях '''запрещено'''. Под внешними данными понимаются размеченные данные, где разметка имеет прямое отношение к решаемой задаче. Грубо говоря, сборник текстов с википедии не считается внешними данными.\n"
      ]
    },
    {
      "cell_type": "code",
      "metadata": {
        "id": "Ir2_4ALMfM2U",
        "colab": {
          "base_uri": "https://localhost:8080/"
        },
        "outputId": "bd61e7f3-d42d-47b6-f3a2-b235a1a80315"
      },
      "source": [
        "try:\n",
        "    from google.colab import files, drive\n",
        "    \n",
        "    USE_COLAB = True\n",
        "except:\n",
        "    USE_COLAB = False\n",
        "\n",
        "if USE_COLAB:\n",
        "    import os\n",
        "    print(\"Don't forget to avoid disconnections:\")\n",
        "    print(\"\"\"\n",
        "function ClickConnect(){\n",
        "    console.log(\"Clicking\"); \n",
        "    document.querySelector(\"colab-connect-button\").click() \n",
        "}\n",
        "setInterval(ClickConnect,60000)\n",
        "    \"\"\")"
      ],
      "execution_count": 1,
      "outputs": [
        {
          "output_type": "stream",
          "text": [
            "Don't forget to avoid disconnections:\n",
            "\n",
            "function ClickConnect(){\n",
            "    console.log(\"Clicking\"); \n",
            "    document.querySelector(\"colab-connect-button\").click() \n",
            "}\n",
            "setInterval(ClickConnect,60000)\n",
            "    \n"
          ],
          "name": "stdout"
        }
      ]
    },
    {
      "cell_type": "code",
      "metadata": {
        "id": "gEw9V_sHhzjm",
        "colab": {
          "base_uri": "https://localhost:8080/"
        },
        "outputId": "726ad818-78d5-44fd-8e1e-29bc3079ed32"
      },
      "source": [
        "MOUNT_DIR = '/content/drive' # In case Colab Usage\n",
        "if USE_COLAB:\n",
        "    drive.mount(MOUNT_DIR)\n",
        "    DRIVE_DIR = os.path.join(MOUNT_DIR, 'My Drive')\n",
        "    print(f\"Drive directory is {DRIVE_DIR}\")"
      ],
      "execution_count": 3,
      "outputs": [
        {
          "output_type": "stream",
          "text": [
            "Drive already mounted at /content/drive; to attempt to forcibly remount, call drive.mount(\"/content/drive\", force_remount=True).\n",
            "Drive directory is /content/drive/My Drive\n"
          ],
          "name": "stdout"
        }
      ]
    },
    {
      "cell_type": "code",
      "metadata": {
        "id": "y9OHjX-Ph7Ez"
      },
      "source": [
        "if USE_COLAB:\n",
        "    !pip install -q kaggle\n",
        "    !mkdir ~/.kaggle\n",
        "    kaggle_file = os.path.join(DRIVE_DIR, 'constants/kaggle.json')\n",
        "    !cp \"$kaggle_file\" ~/.kaggle/\n",
        "    !chmod 600 ~/.kaggle/kaggle.json"
      ],
      "execution_count": 5,
      "outputs": []
    },
    {
      "cell_type": "code",
      "metadata": {
        "id": "MhzMGPzGimuw",
        "colab": {
          "base_uri": "https://localhost:8080/"
        },
        "outputId": "a6645bf6-c3f0-4891-93ff-df826808f3ab"
      },
      "source": [
        "! kaggle competitions download -c avito-category-prediction\n"
      ],
      "execution_count": 6,
      "outputs": [
        {
          "output_type": "stream",
          "text": [
            "Warning: Looks like you're using an outdated API Version, please consider updating (server 1.5.12 / client 1.5.4)\n",
            "Downloading test.csv.zip to /content\n",
            " 96% 273M/284M [00:07<00:00, 39.0MB/s]\n",
            "100% 284M/284M [00:07<00:00, 41.5MB/s]\n",
            "Downloading sample_submission.csv.zip to /content\n",
            " 70% 5.00M/7.17M [00:00<00:00, 18.8MB/s]\n",
            "100% 7.17M/7.17M [00:00<00:00, 23.9MB/s]\n",
            "Downloading train.csv.zip to /content\n",
            " 99% 832M/843M [00:14<00:00, 74.7MB/s]\n",
            "100% 843M/843M [00:14<00:00, 59.4MB/s]\n"
          ],
          "name": "stdout"
        }
      ]
    },
    {
      "cell_type": "code",
      "metadata": {
        "id": "ubixIsdSjYJ5"
      },
      "source": [
        "!unzip -o  test.csv.zip -d  avito-text-classification > /dev/null\n",
        "!unzip -o  train.csv.zip -d  avito-text-classification > /dev/null"
      ],
      "execution_count": 7,
      "outputs": []
    },
    {
      "cell_type": "markdown",
      "metadata": {
        "id": "rZpqPJ70e6j-"
      },
      "source": [
        "Мы будем работать с датасетом объявлений Avito. Нам предстоит по заголовку и тексту объявления предсказывать категорию объявления."
      ]
    },
    {
      "cell_type": "code",
      "metadata": {
        "id": "YC2Guq0Ae6j-"
      },
      "source": [
        "import pandas as pd\n",
        "import random\n",
        "import matplotlib.pyplot as plt"
      ],
      "execution_count": 2,
      "outputs": []
    },
    {
      "cell_type": "markdown",
      "metadata": {
        "id": "zT0SgwnMCOIR"
      },
      "source": [
        ""
      ]
    },
    {
      "cell_type": "code",
      "metadata": {
        "id": "omATvUWCe6j_"
      },
      "source": [
        "train = pd.read_csv('avito-text-classification/train.csv')\n",
        "test = pd.read_csv('avito-text-classification/test.csv')"
      ],
      "execution_count": 3,
      "outputs": []
    },
    {
      "cell_type": "code",
      "metadata": {
        "id": "fQyscm99e6kA",
        "colab": {
          "base_uri": "https://localhost:8080/",
          "height": 197
        },
        "outputId": "24c79ca3-2d6f-4654-d53f-72713e7491e8"
      },
      "source": [
        "train.head()"
      ],
      "execution_count": 5,
      "outputs": [
        {
          "output_type": "execute_result",
          "data": {
            "text/html": [
              "<div>\n",
              "<style scoped>\n",
              "    .dataframe tbody tr th:only-of-type {\n",
              "        vertical-align: middle;\n",
              "    }\n",
              "\n",
              "    .dataframe tbody tr th {\n",
              "        vertical-align: top;\n",
              "    }\n",
              "\n",
              "    .dataframe thead th {\n",
              "        text-align: right;\n",
              "    }\n",
              "</style>\n",
              "<table border=\"1\" class=\"dataframe\">\n",
              "  <thead>\n",
              "    <tr style=\"text-align: right;\">\n",
              "      <th></th>\n",
              "      <th>title</th>\n",
              "      <th>description</th>\n",
              "      <th>Category_name</th>\n",
              "      <th>Category</th>\n",
              "    </tr>\n",
              "  </thead>\n",
              "  <tbody>\n",
              "    <tr>\n",
              "      <th>0</th>\n",
              "      <td>Эбу Renault / Nissan 1,5 DCI Delphi 2001-2008 год</td>\n",
              "      <td>Комплект ЭБУ (мозги, компьютер мотора, двигате...</td>\n",
              "      <td>Запчасти и аксессуары</td>\n",
              "      <td>10</td>\n",
              "    </tr>\n",
              "    <tr>\n",
              "      <th>1</th>\n",
              "      <td>Утюг утп 1000 ватт СССР 1987 год</td>\n",
              "      <td>Продам/\\n Фото № 1-2 /\\n /\\nУтюг УТП 1000 ватт...</td>\n",
              "      <td>Бытовая техника</td>\n",
              "      <td>21</td>\n",
              "    </tr>\n",
              "    <tr>\n",
              "      <th>2</th>\n",
              "      <td>Возвму машину с выкупом</td>\n",
              "      <td>Возьму машину в аренду с последующим выкупом н...</td>\n",
              "      <td>Предложение услуг</td>\n",
              "      <td>114</td>\n",
              "    </tr>\n",
              "    <tr>\n",
              "      <th>3</th>\n",
              "      <td>Полусапожки</td>\n",
              "      <td>полусапожки в отличном состоянии, один раз оде...</td>\n",
              "      <td>Одежда, обувь, аксессуары</td>\n",
              "      <td>27</td>\n",
              "    </tr>\n",
              "    <tr>\n",
              "      <th>4</th>\n",
              "      <td>Босоножки кожаные</td>\n",
              "      <td>Кожаные(натур) босоножки Karlo Pasolini, 40 рр...</td>\n",
              "      <td>Одежда, обувь, аксессуары</td>\n",
              "      <td>27</td>\n",
              "    </tr>\n",
              "  </tbody>\n",
              "</table>\n",
              "</div>"
            ],
            "text/plain": [
              "                                               title  ... Category\n",
              "0  Эбу Renault / Nissan 1,5 DCI Delphi 2001-2008 год  ...       10\n",
              "1                   Утюг утп 1000 ватт СССР 1987 год  ...       21\n",
              "2                            Возвму машину с выкупом  ...      114\n",
              "3                                        Полусапожки  ...       27\n",
              "4                                  Босоножки кожаные  ...       27\n",
              "\n",
              "[5 rows x 4 columns]"
            ]
          },
          "metadata": {
            "tags": []
          },
          "execution_count": 5
        }
      ]
    },
    {
      "cell_type": "markdown",
      "metadata": {
        "id": "mzHMhUeUe6kC"
      },
      "source": [
        "## Задание 1 (0.5 балла)\n",
        "\n",
        "Выведете на экран информацию о пропусках в данных. Если пропуски присутствуют заполните их пустой строкой."
      ]
    },
    {
      "cell_type": "markdown",
      "metadata": {
        "id": "NqF_WGu2md1L"
      },
      "source": [
        "Для трейна:"
      ]
    },
    {
      "cell_type": "code",
      "metadata": {
        "id": "gaq0l5hhe6kD",
        "colab": {
          "base_uri": "https://localhost:8080/"
        },
        "outputId": "75cf1390-eb28-44b2-f82c-491314b01d50"
      },
      "source": [
        " train.isna().sum()"
      ],
      "execution_count": 6,
      "outputs": [
        {
          "output_type": "execute_result",
          "data": {
            "text/plain": [
              "title            0\n",
              "description      2\n",
              "Category_name    0\n",
              "Category         0\n",
              "dtype: int64"
            ]
          },
          "metadata": {
            "tags": []
          },
          "execution_count": 6
        }
      ]
    },
    {
      "cell_type": "code",
      "metadata": {
        "id": "Ebz3eelUe6kD"
      },
      "source": [
        "train.fillna(\"\", inplace=True)"
      ],
      "execution_count": 7,
      "outputs": []
    },
    {
      "cell_type": "code",
      "metadata": {
        "id": "MeZcgBn1macv",
        "colab": {
          "base_uri": "https://localhost:8080/"
        },
        "outputId": "68b6ad63-7976-4dfe-eff7-d1181e3b08b8"
      },
      "source": [
        " train.isna().sum()"
      ],
      "execution_count": 8,
      "outputs": [
        {
          "output_type": "execute_result",
          "data": {
            "text/plain": [
              "title            0\n",
              "description      0\n",
              "Category_name    0\n",
              "Category         0\n",
              "dtype: int64"
            ]
          },
          "metadata": {
            "tags": []
          },
          "execution_count": 8
        }
      ]
    },
    {
      "cell_type": "markdown",
      "metadata": {
        "id": "n6ZDNSQjmhgE"
      },
      "source": [
        "Для теста:"
      ]
    },
    {
      "cell_type": "code",
      "metadata": {
        "id": "LB6ydctTmjvC",
        "colab": {
          "base_uri": "https://localhost:8080/"
        },
        "outputId": "ccf16556-d265-4b43-a0ab-572901b0cbad"
      },
      "source": [
        "test.isna().sum()"
      ],
      "execution_count": 9,
      "outputs": [
        {
          "output_type": "execute_result",
          "data": {
            "text/plain": [
              "title          0\n",
              "description    1\n",
              "itemid         0\n",
              "dtype: int64"
            ]
          },
          "metadata": {
            "tags": []
          },
          "execution_count": 9
        }
      ]
    },
    {
      "cell_type": "code",
      "metadata": {
        "id": "J6ODMpnqmpZs"
      },
      "source": [
        "test.fillna(\"\", inplace=True)"
      ],
      "execution_count": 10,
      "outputs": []
    },
    {
      "cell_type": "code",
      "metadata": {
        "id": "mpAshHH1mpln",
        "colab": {
          "base_uri": "https://localhost:8080/"
        },
        "outputId": "b02a05bb-3e96-4e37-d7bb-1e8fd7e8d3e1"
      },
      "source": [
        "test.isna().sum()"
      ],
      "execution_count": 11,
      "outputs": [
        {
          "output_type": "execute_result",
          "data": {
            "text/plain": [
              "title          0\n",
              "description    0\n",
              "itemid         0\n",
              "dtype: int64"
            ]
          },
          "metadata": {
            "tags": []
          },
          "execution_count": 11
        }
      ]
    },
    {
      "cell_type": "markdown",
      "metadata": {
        "id": "mK0AHqXbe6kE"
      },
      "source": [
        "## Задание 2 (0.5 балла)\n",
        "Сконкатенируйте заголовок и описание в единую строку и поместите результат в отдельный столбец. Таким образом мы будет работать с одним текстом, а не с двумя."
      ]
    },
    {
      "cell_type": "code",
      "metadata": {
        "id": "TYCpVDRxe6kE",
        "colab": {
          "base_uri": "https://localhost:8080/",
          "height": 197
        },
        "outputId": "05522af8-147a-4d45-efba-3e8a70c24bc1"
      },
      "source": [
        "train['description'] = train['title'] + \" \" + train['description']\n",
        "train.drop('title', axis='columns', inplace=True)\n",
        "train.head()"
      ],
      "execution_count": 12,
      "outputs": [
        {
          "output_type": "execute_result",
          "data": {
            "text/html": [
              "<div>\n",
              "<style scoped>\n",
              "    .dataframe tbody tr th:only-of-type {\n",
              "        vertical-align: middle;\n",
              "    }\n",
              "\n",
              "    .dataframe tbody tr th {\n",
              "        vertical-align: top;\n",
              "    }\n",
              "\n",
              "    .dataframe thead th {\n",
              "        text-align: right;\n",
              "    }\n",
              "</style>\n",
              "<table border=\"1\" class=\"dataframe\">\n",
              "  <thead>\n",
              "    <tr style=\"text-align: right;\">\n",
              "      <th></th>\n",
              "      <th>description</th>\n",
              "      <th>Category_name</th>\n",
              "      <th>Category</th>\n",
              "    </tr>\n",
              "  </thead>\n",
              "  <tbody>\n",
              "    <tr>\n",
              "      <th>0</th>\n",
              "      <td>Эбу Renault / Nissan 1,5 DCI Delphi 2001-2008 ...</td>\n",
              "      <td>Запчасти и аксессуары</td>\n",
              "      <td>10</td>\n",
              "    </tr>\n",
              "    <tr>\n",
              "      <th>1</th>\n",
              "      <td>Утюг утп 1000 ватт СССР 1987 год Продам/\\n Фот...</td>\n",
              "      <td>Бытовая техника</td>\n",
              "      <td>21</td>\n",
              "    </tr>\n",
              "    <tr>\n",
              "      <th>2</th>\n",
              "      <td>Возвму машину с выкупом Возьму машину в аренду...</td>\n",
              "      <td>Предложение услуг</td>\n",
              "      <td>114</td>\n",
              "    </tr>\n",
              "    <tr>\n",
              "      <th>3</th>\n",
              "      <td>Полусапожки полусапожки в отличном состоянии, ...</td>\n",
              "      <td>Одежда, обувь, аксессуары</td>\n",
              "      <td>27</td>\n",
              "    </tr>\n",
              "    <tr>\n",
              "      <th>4</th>\n",
              "      <td>Босоножки кожаные Кожаные(натур) босоножки Kar...</td>\n",
              "      <td>Одежда, обувь, аксессуары</td>\n",
              "      <td>27</td>\n",
              "    </tr>\n",
              "  </tbody>\n",
              "</table>\n",
              "</div>"
            ],
            "text/plain": [
              "                                         description  ... Category\n",
              "0  Эбу Renault / Nissan 1,5 DCI Delphi 2001-2008 ...  ...       10\n",
              "1  Утюг утп 1000 ватт СССР 1987 год Продам/\\n Фот...  ...       21\n",
              "2  Возвму машину с выкупом Возьму машину в аренду...  ...      114\n",
              "3  Полусапожки полусапожки в отличном состоянии, ...  ...       27\n",
              "4  Босоножки кожаные Кожаные(натур) босоножки Kar...  ...       27\n",
              "\n",
              "[5 rows x 3 columns]"
            ]
          },
          "metadata": {
            "tags": []
          },
          "execution_count": 12
        }
      ]
    },
    {
      "cell_type": "code",
      "metadata": {
        "id": "1-zoVqw9x6Qo",
        "colab": {
          "base_uri": "https://localhost:8080/",
          "height": 197
        },
        "outputId": "ade7fcbe-74ec-491f-e7d6-304c24ce866d"
      },
      "source": [
        "test['description'] = test['title'] + \" \" + test['description']\n",
        "test.drop('title', axis='columns', inplace=True)\n",
        "test.head()"
      ],
      "execution_count": 13,
      "outputs": [
        {
          "output_type": "execute_result",
          "data": {
            "text/html": [
              "<div>\n",
              "<style scoped>\n",
              "    .dataframe tbody tr th:only-of-type {\n",
              "        vertical-align: middle;\n",
              "    }\n",
              "\n",
              "    .dataframe tbody tr th {\n",
              "        vertical-align: top;\n",
              "    }\n",
              "\n",
              "    .dataframe thead th {\n",
              "        text-align: right;\n",
              "    }\n",
              "</style>\n",
              "<table border=\"1\" class=\"dataframe\">\n",
              "  <thead>\n",
              "    <tr style=\"text-align: right;\">\n",
              "      <th></th>\n",
              "      <th>description</th>\n",
              "      <th>itemid</th>\n",
              "    </tr>\n",
              "  </thead>\n",
              "  <tbody>\n",
              "    <tr>\n",
              "      <th>0</th>\n",
              "      <td>Мастерка Мастерка фирмы форвард. Белого цвета....</td>\n",
              "      <td>1778449823</td>\n",
              "    </tr>\n",
              "    <tr>\n",
              "      <th>1</th>\n",
              "      <td>Зимние сапоги Продаю зимние сапоги, в хорошем ...</td>\n",
              "      <td>1677656962</td>\n",
              "    </tr>\n",
              "    <tr>\n",
              "      <th>2</th>\n",
              "      <td>Видеонаблюдение 8 камер В комплект Atis AMD-2M...</td>\n",
              "      <td>1758182804</td>\n",
              "    </tr>\n",
              "    <tr>\n",
              "      <th>3</th>\n",
              "      <td>Запчасти для GLE Запчасти GLE</td>\n",
              "      <td>1689811299</td>\n",
              "    </tr>\n",
              "    <tr>\n",
              "      <th>4</th>\n",
              "      <td>Бластер nerf Состояние 5+/\\nПродаю потому что ...</td>\n",
              "      <td>1804706240</td>\n",
              "    </tr>\n",
              "  </tbody>\n",
              "</table>\n",
              "</div>"
            ],
            "text/plain": [
              "                                         description      itemid\n",
              "0  Мастерка Мастерка фирмы форвард. Белого цвета....  1778449823\n",
              "1  Зимние сапоги Продаю зимние сапоги, в хорошем ...  1677656962\n",
              "2  Видеонаблюдение 8 камер В комплект Atis AMD-2M...  1758182804\n",
              "3                      Запчасти для GLE Запчасти GLE  1689811299\n",
              "4  Бластер nerf Состояние 5+/\\nПродаю потому что ...  1804706240"
            ]
          },
          "metadata": {
            "tags": []
          },
          "execution_count": 13
        }
      ]
    },
    {
      "cell_type": "markdown",
      "metadata": {
        "id": "6hjywOloe6kE"
      },
      "source": [
        "## Задание 3 (0.5 балла)\n",
        "Давайте немного посмотрим на наши данные. Визуализируйте (где явно просят) или выведете информацию о следующем:\n",
        "\n",
        "1. Сколько всего уникальных классов необходимо предсказать?\n",
        "2. Постройте столбчатую диаграмму распределения по классам. Нормализуйте график, чтобы видеть доли, а не абсолютные значения.\n",
        "3. На сколько большой дисбаланс? Какой класс имеет самую большую долю в выборке (укажите класс и долю), какой класс наименьшую (укажите класс и долю)."
      ]
    },
    {
      "cell_type": "markdown",
      "metadata": {
        "id": "c9GGtSUP-y_P"
      },
      "source": [
        "Уникальных классов:"
      ]
    },
    {
      "cell_type": "code",
      "metadata": {
        "id": "vY6qnqW9e6kF",
        "colab": {
          "base_uri": "https://localhost:8080/"
        },
        "outputId": "3295db78-afb0-4aad-9ba7-3861a0dd09a6"
      },
      "source": [
        "num = len(set(train['Category']))\n",
        "num"
      ],
      "execution_count": 14,
      "outputs": [
        {
          "output_type": "execute_result",
          "data": {
            "text/plain": [
              "50"
            ]
          },
          "metadata": {
            "tags": []
          },
          "execution_count": 14
        }
      ]
    },
    {
      "cell_type": "markdown",
      "metadata": {
        "id": "FQjZMiwc-3oy"
      },
      "source": [
        "Диаграмма:"
      ]
    },
    {
      "cell_type": "code",
      "metadata": {
        "id": "nDV05aFq-xsF",
        "colab": {
          "base_uri": "https://localhost:8080/",
          "height": 872
        },
        "outputId": "6173223b-dcba-4ad2-a1e3-e27361b5bc01"
      },
      "source": [
        "plt.figure(figsize = [15, 15])\n",
        "train['Category'].value_counts(normalize=True).plot.bar()\n",
        "plt.show()"
      ],
      "execution_count": 16,
      "outputs": [
        {
          "output_type": "display_data",
          "data": {
            "image/png": "[encoded data removed]",
            "text/plain": [
              "<Figure size 1080x1080 with 1 Axes>"
            ]
          },
          "metadata": {
            "tags": [],
            "needs_background": "light"
          }
        }
      ]
    },
    {
      "cell_type": "markdown",
      "metadata": {
        "id": "WAD_6d6-IRNG"
      },
      "source": [
        "Дисбаланс заметен. Ярко выделяются три класса (27, 10, 29) с самыми большими долями - примерно 18.3%, 17.5% и 13.8% соответственно. При этом есть близкие к нулю (или равные нулю) доли - у классов 92, 11, 116, 91, 33 и - особенно - 86"
      ]
    },
    {
      "cell_type": "markdown",
      "metadata": {
        "id": "oD6nWxnse6kG"
      },
      "source": [
        "## Задание 4 (0.5 балла)\n",
        "\n",
        "Далее мы будем пока работать только с train частью. Для test части нам неизвестны истинные значения, и они понадобятся только тогда, когда мы будем отправлять решение на Kaggle.\n",
        "\n",
        "1. Предобработайте данные (train часть) с помощью CountVectorizer.\n",
        "2. Какого размера получилась матрица?\n"
      ]
    },
    {
      "cell_type": "code",
      "metadata": {
        "id": "GJo6wtPxe6kH",
        "colab": {
          "base_uri": "https://localhost:8080/"
        },
        "outputId": "d733fd63-5e90-4e4a-90f5-1a1a29f5621c"
      },
      "source": [
        "from sklearn.feature_extraction.text import CountVectorizer\n",
        "vectorizer = CountVectorizer()\n",
        "X = vectorizer.fit_transform(train['description'])\n",
        "X.shape"
      ],
      "execution_count": 18,
      "outputs": [
        {
          "output_type": "execute_result",
          "data": {
            "text/plain": [
              "(4234042, 2125805)"
            ]
          },
          "metadata": {
            "tags": []
          },
          "execution_count": 18
        }
      ]
    },
    {
      "cell_type": "markdown",
      "metadata": {
        "id": "nMCxWBT1e6kH"
      },
      "source": [
        "## Задание 5 (0.5 балла)\n",
        "\n",
        "В предыдущем пункте у вас должная была получится очень большая матрица. Это не дело.\n",
        "Если вы взгляните на текст, то увидете, что там есть множество специальных символов.\n",
        "\n",
        "Давайте также посмотрим на словарь, который получился в результате построения CountVectorizer, его можно найти в поле _vocabulary инстанса этого класса.\n",
        "\n",
        "1. Найдите в этом словаре все слова, которые начинаются на цифру. Сколько таких слов нашлось?\n",
        "\n",
        "2. Найдите все слова, которые начинаются на символы пунктуации. Сколько таких слов нашлось? "
      ]
    },
    {
      "cell_type": "code",
      "metadata": {
        "id": "P0oU4VeQe6kI",
        "colab": {
          "base_uri": "https://localhost:8080/"
        },
        "outputId": "99bb7dfe-170f-40b0-92df-fa0d3cb77e8d"
      },
      "source": [
        "from_number = list(filter(lambda x: x[0].isnumeric(), vectorizer.vocabulary_.keys()))\n",
        "len(from_number)"
      ],
      "execution_count": 21,
      "outputs": [
        {
          "output_type": "execute_result",
          "data": {
            "text/plain": [
              "610956"
            ]
          },
          "metadata": {
            "tags": []
          },
          "execution_count": 21
        }
      ]
    },
    {
      "cell_type": "code",
      "metadata": {
        "id": "AmaqXf2hHJJO",
        "colab": {
          "base_uri": "https://localhost:8080/"
        },
        "outputId": "a7b39207-e7fd-4cf3-cca2-5bb470972f84"
      },
      "source": [
        "import string\n",
        "from_punctuation = list(filter(lambda x: x[0] in string.punctuation, vectorizer.vocabulary_.keys()))\n",
        "len(from_punctuation)"
      ],
      "execution_count": 23,
      "outputs": [
        {
          "output_type": "execute_result",
          "data": {
            "text/plain": [
              "2043"
            ]
          },
          "metadata": {
            "tags": []
          },
          "execution_count": 23
        }
      ]
    },
    {
      "cell_type": "markdown",
      "metadata": {
        "id": "ENG1NahTe6kI"
      },
      "source": [
        "## Задание 6 (2.5 балла)\n",
        "\n",
        "В scikit-learn мы можем оценивать процесс подсчета матрицы через CountVectorizer. У CountVectorizer, как и у других наследников \\_VectorizerMixin, есть аргумент tokenizer и preprocessor. preprocessor применится в самом начале к каждой строке вашего датасета, tokenizer же должен принять строку и вернуть токены.\n",
        "Давайте напишем кастомный токенайзер, которые сделает все, что нам нужно: \n",
        "\n",
        "0. Приведет все буквы к нижнему регистру\n",
        "1. Разобьет текст на токены с помощью word_tokenizer из пакета nltk\n",
        "2. Удалит все токены содержащие числа и пунктуацию\n",
        "3. Удалит все токены, которые перечислены в nltk.corpus.stopwords('russian')\n",
        "4. Проведет стемминг с помощью SnowballStemmer\n",
        "\n",
        "Продемонстрируйте работу вашей функии на самом первом описании товара в датасете.\n",
        "\n",
        "Важно: так как функию будет необходимо запускать на большом корпусе, подумайте об эффективной реализации. Постарайтесь решить задачу в минимальное количество циклов и копирований.\n",
        "\n",
        "Референсная реализация на компьютере автора работала 230 секунд на 100к строчек."
      ]
    },
    {
      "cell_type": "code",
      "metadata": {
        "id": "ElTWNaeaOZKA",
        "colab": {
          "base_uri": "https://localhost:8080/"
        },
        "outputId": "422b8a5c-8260-4f99-f8a5-0554cdbd592e"
      },
      "source": [
        "import nltk\n",
        "import re\n",
        "import snowballstemmer\n",
        "nltk.download('punkt')\n",
        "nltk.download('stopwords')\n",
        "from nltk.corpus import stopwords"
      ],
      "execution_count": 24,
      "outputs": [
        {
          "output_type": "stream",
          "text": [
            "[nltk_data] Downloading package punkt to /root/nltk_data...\n",
            "[nltk_data]   Unzipping tokenizers/punkt.zip.\n",
            "[nltk_data] Downloading package stopwords to /root/nltk_data...\n",
            "[nltk_data]   Unzipping corpora/stopwords.zip.\n"
          ],
          "name": "stdout"
        }
      ]
    },
    {
      "cell_type": "code",
      "metadata": {
        "id": "VnTAxSn2e6kJ"
      },
      "source": [
        "from tqdm import tqdm\n",
        "def tokenizer(text):\n",
        "    text = text.lower()\n",
        "    tokenized = nltk.word_tokenize(text)\n",
        "    selected = []\n",
        "    stemmer = snowballstemmer.stemmer('russian')\n",
        "    for token in tokenized:\n",
        "        if re.sub(f\"[a-zA-Zа-яА-Я]+\", \"\", token) == '':\n",
        "            selected.append(token)\n",
        "\n",
        "    selected = list(set(selected) - set(stopwords.words(\"russian\")))\n",
        "    selected = [stemmer.stemWord(token) for token in selected]\n",
        "    return selected\n"
      ],
      "execution_count": 48,
      "outputs": []
    },
    {
      "cell_type": "code",
      "metadata": {
        "id": "QA67mQOGPc5a",
        "colab": {
          "base_uri": "https://localhost:8080/"
        },
        "outputId": "7508bb66-c379-4457-86fc-89e7058b4ce6"
      },
      "source": [
        "tokenizer(train['description'][0])"
      ],
      "execution_count": 49,
      "outputs": [
        {
          "output_type": "execute_result",
          "data": {
            "text/plain": [
              "['dci',\n",
              " 'аппаратур',\n",
              " 'канг',\n",
              " 'мозг',\n",
              " 'компан',\n",
              " 'легальн',\n",
              " 'контрактн',\n",
              " 'эб',\n",
              " 'союз',\n",
              " 'документ',\n",
              " 'компьютер',\n",
              " 'рен',\n",
              " 'репутац',\n",
              " 'установк',\n",
              " 'пробег',\n",
              " 'раздел',\n",
              " 'отправля',\n",
              " 'delphi',\n",
              " 'комплект',\n",
              " 'подробн',\n",
              " 'канг',\n",
              " 'laguna',\n",
              " 'сценик',\n",
              " 'оригина',\n",
              " 'kangoo',\n",
              " 'дизел',\n",
              " 'отличн',\n",
              " 'двигател',\n",
              " 'сво',\n",
              " 'торгу',\n",
              " 'блок',\n",
              " 'лагун',\n",
              " 'дорож',\n",
              " 'clio',\n",
              " 'налич',\n",
              " 'транспортн',\n",
              " 'компан',\n",
              " 'двигател',\n",
              " 'коммутатор',\n",
              " 'состоян',\n",
              " 'росс',\n",
              " 'проверен',\n",
              " 'renault',\n",
              " 'электрон',\n",
              " 'автомобил',\n",
              " 'возможн',\n",
              " 'год',\n",
              " 'микр',\n",
              " 'запчаст',\n",
              " 'друг',\n",
              " 'таможен',\n",
              " 'предоставля',\n",
              " 'запчаст',\n",
              " 'гарант',\n",
              " 'топливн',\n",
              " 'делф',\n",
              " 'micra',\n",
              " 'управлен',\n",
              " 'кли',\n",
              " 'nissan',\n",
              " 'таможен',\n",
              " 'гарант',\n",
              " 'мотор',\n",
              " 'регион',\n",
              " 'дета',\n",
              " 'нисса',\n",
              " 'наложн',\n",
              " 'платеж',\n",
              " 'мега']"
            ]
          },
          "metadata": {
            "tags": []
          },
          "execution_count": 49
        }
      ]
    },
    {
      "cell_type": "markdown",
      "metadata": {
        "id": "lx7-Pdqie6kJ"
      },
      "source": [
        "## Задание 7 (1 балл)\n",
        "\n",
        "1. Возьмите случайные 500к строк из датасета. Постройте по ним CountVectorizer с применением вашего токенизатора.\n",
        "2. Разбейте полученную матрицу на train, test в отношении 4 к 1. Не забудьте про target переменную.\n",
        "3. Обучите \n",
        " на полученной выборке.\n",
        "4. Посчитайте метрику accuracy"
      ]
    },
    {
      "cell_type": "code",
      "metadata": {
        "id": "1wneA5qLe6kJ",
        "colab": {
          "base_uri": "https://localhost:8080/"
        },
        "outputId": "68a19f45-4b44-41fd-ab18-6c6f60a8fca4"
      },
      "source": [
        "# 1\n",
        "data_sample = train.sample(n=100000)\n",
        "vectorizer = CountVectorizer(tokenizer=tokenizer)\n",
        "X = vectorizer.fit_transform(data_sample['description'])\n",
        "X.shape"
      ],
      "execution_count": 76,
      "outputs": [
        {
          "output_type": "execute_result",
          "data": {
            "text/plain": [
              "(100000, 88910)"
            ]
          },
          "metadata": {
            "tags": []
          },
          "execution_count": 76
        }
      ]
    },
    {
      "cell_type": "code",
      "metadata": {
        "id": "01Pc7HALoVAM"
      },
      "source": [
        "# 2\n",
        "from sklearn.model_selection import train_test_split\n",
        "X_train, X_test, y_train, y_test = train_test_split(X, data_sample[\"Category\"], test_size=0.2)"
      ],
      "execution_count": 54,
      "outputs": []
    },
    {
      "cell_type": "code",
      "metadata": {
        "colab": {
          "base_uri": "https://localhost:8080/"
        },
        "id": "MKK8pJOspZ2R",
        "outputId": "b1270877-2721-4162-c4ad-b2f601ded12c"
      },
      "source": [
        "# 3\n",
        "from sklearn.linear_model import SGDClassifier\n",
        "\n",
        "clf = SGDClassifier()\n",
        "clf.fit(X_train, y_train)"
      ],
      "execution_count": 57,
      "outputs": [
        {
          "output_type": "execute_result",
          "data": {
            "text/plain": [
              "SGDClassifier(alpha=0.0001, average=False, class_weight=None,\n",
              "              early_stopping=False, epsilon=0.1, eta0=0.0, fit_intercept=True,\n",
              "              l1_ratio=0.15, learning_rate='optimal', loss='hinge',\n",
              "              max_iter=1000, n_iter_no_change=5, n_jobs=None, penalty='l2',\n",
              "              power_t=0.5, random_state=None, shuffle=True, tol=0.001,\n",
              "              validation_fraction=0.1, verbose=0, warm_start=False)"
            ]
          },
          "metadata": {
            "tags": []
          },
          "execution_count": 57
        }
      ]
    },
    {
      "cell_type": "code",
      "metadata": {
        "colab": {
          "base_uri": "https://localhost:8080/"
        },
        "id": "ftwo7Mm_qG2s",
        "outputId": "2a313468-9e5b-4012-f36e-ad3c1ebbc772"
      },
      "source": [
        "# 4\n",
        "from sklearn.metrics import accuracy_score\n",
        "\n",
        "y_pred = clf.predict(X_test)\n",
        "print(accuracy_score(y_pred, y_test))"
      ],
      "execution_count": 58,
      "outputs": [
        {
          "output_type": "stream",
          "text": [
            "0.82525\n"
          ],
          "name": "stdout"
        }
      ]
    },
    {
      "cell_type": "markdown",
      "metadata": {
        "id": "VG9Ybjf_e6kK"
      },
      "source": [
        "## Задание 8 (1 балл)\n",
        "\n",
        "1. Повторите 7 задание, но с tf-idf векторизатором. Как изменилось качество.\n",
        "2. Мы можем еще сильнее уменьшите размер нашей матрицы, если отбросим значения df близкие к единице. Скорее всего такие слова не несут много информации о категории, так как встречаются достаточно часто. Ограничьте максимальный df в параметрах TfIdfVectorizer, поставьте верхнюю границу равную 0.9. Как изменился размер матрицы, как изменилось качество?\n"
      ]
    },
    {
      "cell_type": "markdown",
      "metadata": {
        "id": "HuQ-D8m1JRZB"
      },
      "source": [
        "Размер матрицы не изменился, качество ухудшилось на 0.25%"
      ]
    },
    {
      "cell_type": "code",
      "metadata": {
        "id": "PHXoxrVse6kK",
        "colab": {
          "base_uri": "https://localhost:8080/"
        },
        "outputId": "b2350713-087e-44de-d87f-ea9498f51897"
      },
      "source": [
        "from sklearn.feature_extraction.text import TfidfVectorizer\n",
        "\n",
        "vectorizer = TfidfVectorizer(tokenizer=tokenizer, max_df = 0.9)\n",
        "\n",
        "X = vectorizer.fit_transform(data_sample['description'])\n",
        "print(\"Matrix shape: \", X.shape)\n",
        "\n",
        "X_train, X_test, y_train, y_test = train_test_split(X, data_sample[\"Category\"], test_size=0.2)\n",
        "\n",
        "clf = SGDClassifier()\n",
        "clf.fit(X_train, y_train)\n",
        "\n",
        "y_pred = clf.predict(X_test)\n",
        "print(accuracy_score(y_pred, y_test))"
      ],
      "execution_count": 59,
      "outputs": [
        {
          "output_type": "stream",
          "text": [
            "Matrix shape:  (100000, 89772)\n",
            "0.82275\n"
          ],
          "name": "stdout"
        }
      ]
    },
    {
      "cell_type": "markdown",
      "metadata": {
        "id": "ErTw75vAe6kK"
      },
      "source": [
        "## Задание 9 (1 балл)\n",
        "Еще один популяпный трюк, который позволит уменьшить количество признаков называется hashing trick. Его суть в том, то мы случайно группируем признаки ииии  ..... складываем их! А потом удаляем исходные признаки. В итоге все наши признаки это просто суммы исходных. Звучит странно, но это отлично работает. Давайте проверим этот трюк в нашем сеттинге.\n",
        "Также при таком подходе вам не нужно хранить словарь token->index, что тоже иногда полезно.\n",
        "\n",
        "1. Повторите задание 7 с HashingVectorizer, укажите количество фичей равное 30000.\n",
        "2. Какой из трех подходов показал самый высокий результат?"
      ]
    },
    {
      "cell_type": "markdown",
      "metadata": {
        "id": "7s_reugWJtZN"
      },
      "source": [
        "Размер марицы, конечно, изменился, а качество ухудшилось заметнее - чуть меньше, чем на 5%\n",
        "\n",
        "В итоге самый высокий результат показал первый из трех методов."
      ]
    },
    {
      "cell_type": "code",
      "metadata": {
        "id": "eXdnM7Mje6kL",
        "colab": {
          "base_uri": "https://localhost:8080/"
        },
        "outputId": "65349ddd-c0cc-4863-ad00-8e36bb8e53d0"
      },
      "source": [
        "from sklearn.feature_extraction.text import HashingVectorizer\n",
        "\n",
        "vectorizer = HashingVectorizer(tokenizer=tokenizer, n_features=30000)\n",
        "\n",
        "X = vectorizer.fit_transform(data_sample['description'])\n",
        "print(\"Matrix shape: \", X.shape)\n",
        "\n",
        "X_train, X_test, y_train, y_test = train_test_split(X, data_sample[\"Category\"], test_size=0.2)\n",
        "\n",
        "clf = SGDClassifier()\n",
        "clf.fit(X_train, y_train)\n",
        "\n",
        "y_pred = clf.predict(X_test)\n",
        "print(accuracy_score(y_pred, y_test))"
      ],
      "execution_count": 77,
      "outputs": [
        {
          "output_type": "stream",
          "text": [
            "/usr/local/lib/python3.7/dist-packages/sklearn/feature_extraction/text.py:507: UserWarning: The parameter 'token_pattern' will not be used since 'tokenizer' is not None'\n",
            "  warnings.warn(\"The parameter 'token_pattern' will not be used\"\n"
          ],
          "name": "stderr"
        },
        {
          "output_type": "stream",
          "text": [
            "Matrix shape:  (100000, 30000)\n",
            "0.80135\n"
          ],
          "name": "stdout"
        }
      ]
    },
    {
      "cell_type": "markdown",
      "metadata": {
        "id": "KRyTeHCXe6kM"
      },
      "source": [
        "## Задание 10 (1.5 балла)\n",
        "\n",
        "Пришло время выйти в мир. Отправляйтесь на Kaggle Inclass и сделайте первую посылку. Там вы найдете инструкцию как сформировать файл с предсказаниями и отправить его."
      ]
    },
    {
      "cell_type": "code",
      "metadata": {
        "colab": {
          "base_uri": "https://localhost:8080/"
        },
        "id": "JdGsFDJlwcS_",
        "outputId": "a6bc835e-6ab2-46e6-c704-617ed5634450"
      },
      "source": [
        "data_sample = train.sample(n=500000)\n",
        "vectorizer = CountVectorizer(tokenizer=tokenizer)\n",
        "X_train = vectorizer.fit_transform(data_sample['description'])\n",
        "y_train = data_sample[\"Category\"]\n",
        "X_test = vectorizer.transform(test[\"description\"])"
      ],
      "execution_count": 62,
      "outputs": [
        {
          "output_type": "execute_result",
          "data": {
            "text/plain": [
              "(100000, 30000)"
            ]
          },
          "metadata": {
            "tags": []
          },
          "execution_count": 62
        }
      ]
    },
    {
      "cell_type": "code",
      "metadata": {
        "colab": {
          "base_uri": "https://localhost:8080/"
        },
        "id": "fdcAw01Jw21L",
        "outputId": "1a657f18-eb08-4c56-df57-9e77c7e0c53d"
      },
      "source": [
        "clf = SGDClassifier()\n",
        "clf.fit(X_train, y_train)"
      ],
      "execution_count": 64,
      "outputs": [
        {
          "output_type": "execute_result",
          "data": {
            "text/plain": [
              "SGDClassifier(alpha=0.0001, average=False, class_weight=None,\n",
              "              early_stopping=False, epsilon=0.1, eta0=0.0, fit_intercept=True,\n",
              "              l1_ratio=0.15, learning_rate='optimal', loss='hinge',\n",
              "              max_iter=1000, n_iter_no_change=5, n_jobs=None, penalty='l2',\n",
              "              power_t=0.5, random_state=None, shuffle=True, tol=0.001,\n",
              "              validation_fraction=0.1, verbose=0, warm_start=False)"
            ]
          },
          "metadata": {
            "tags": []
          },
          "execution_count": 64
        }
      ]
    },
    {
      "cell_type": "code",
      "metadata": {
        "id": "c1-91vFpxUQJ"
      },
      "source": [
        "y_pred = clf.predict(X_test)\n",
        "test[\"Category\"] = y_pred"
      ],
      "execution_count": 65,
      "outputs": []
    },
    {
      "cell_type": "code",
      "metadata": {
        "colab": {
          "base_uri": "https://localhost:8080/",
          "height": 197
        },
        "id": "XRSlvkJzG0nc",
        "outputId": "0c47bb41-a47a-49d7-dae4-ae71d846adf0"
      },
      "source": [
        "test.head()"
      ],
      "execution_count": 67,
      "outputs": [
        {
          "output_type": "execute_result",
          "data": {
            "text/html": [
              "<div>\n",
              "<style scoped>\n",
              "    .dataframe tbody tr th:only-of-type {\n",
              "        vertical-align: middle;\n",
              "    }\n",
              "\n",
              "    .dataframe tbody tr th {\n",
              "        vertical-align: top;\n",
              "    }\n",
              "\n",
              "    .dataframe thead th {\n",
              "        text-align: right;\n",
              "    }\n",
              "</style>\n",
              "<table border=\"1\" class=\"dataframe\">\n",
              "  <thead>\n",
              "    <tr style=\"text-align: right;\">\n",
              "      <th></th>\n",
              "      <th>description</th>\n",
              "      <th>itemid</th>\n",
              "      <th>Category</th>\n",
              "    </tr>\n",
              "  </thead>\n",
              "  <tbody>\n",
              "    <tr>\n",
              "      <th>0</th>\n",
              "      <td>Мастерка Мастерка фирмы форвард. Белого цвета....</td>\n",
              "      <td>1778449823</td>\n",
              "      <td>27</td>\n",
              "    </tr>\n",
              "    <tr>\n",
              "      <th>1</th>\n",
              "      <td>Зимние сапоги Продаю зимние сапоги, в хорошем ...</td>\n",
              "      <td>1677656962</td>\n",
              "      <td>29</td>\n",
              "    </tr>\n",
              "    <tr>\n",
              "      <th>2</th>\n",
              "      <td>Видеонаблюдение 8 камер В комплект Atis AMD-2M...</td>\n",
              "      <td>1758182804</td>\n",
              "      <td>32</td>\n",
              "    </tr>\n",
              "    <tr>\n",
              "      <th>3</th>\n",
              "      <td>Запчасти для GLE Запчасти GLE</td>\n",
              "      <td>1689811299</td>\n",
              "      <td>10</td>\n",
              "    </tr>\n",
              "    <tr>\n",
              "      <th>4</th>\n",
              "      <td>Бластер nerf Состояние 5+/\\nПродаю потому что ...</td>\n",
              "      <td>1804706240</td>\n",
              "      <td>30</td>\n",
              "    </tr>\n",
              "  </tbody>\n",
              "</table>\n",
              "</div>"
            ],
            "text/plain": [
              "                                         description      itemid  Category\n",
              "0  Мастерка Мастерка фирмы форвард. Белого цвета....  1778449823        27\n",
              "1  Зимние сапоги Продаю зимние сапоги, в хорошем ...  1677656962        29\n",
              "2  Видеонаблюдение 8 камер В комплект Atis AMD-2M...  1758182804        32\n",
              "3                      Запчасти для GLE Запчасти GLE  1689811299        10\n",
              "4  Бластер nerf Состояние 5+/\\nПродаю потому что ...  1804706240        30"
            ]
          },
          "metadata": {
            "tags": []
          },
          "execution_count": 67
        }
      ]
    },
    {
      "cell_type": "code",
      "metadata": {
        "id": "Xqh67rNTxiq4"
      },
      "source": [
        "to_submit = test[[\"itemid\", \"Category\"]]\n",
        "to_submit.columns = [\"Id\", \"Category\"]\n",
        "to_submit.to_csv(\"submission.csv\", index=False)"
      ],
      "execution_count": 71,
      "outputs": []
    },
    {
      "cell_type": "code",
      "metadata": {
        "id": "nn7vT04Xe6kM",
        "colab": {
          "base_uri": "https://localhost:8080/"
        },
        "outputId": "95bb08a2-e4a2-4c45-f0cf-43adb65e762f"
      },
      "source": [
        "!kaggle competitions submit -c avito-category-prediction -f submission.csv -m \"First attempt\""
      ],
      "execution_count": 73,
      "outputs": [
        {
          "output_type": "stream",
          "text": [
            "Warning: Looks like you're using an outdated API Version, please consider updating (server 1.5.12 / client 1.5.4)\n",
            "100% 18.7M/18.7M [00:05<00:00, 3.87MB/s]\n",
            "Successfully submitted to Avito Category Prediction"
          ],
          "name": "stdout"
        }
      ]
    },
    {
      "cell_type": "code",
      "metadata": {
        "id": "AcpILjVGHhmj"
      },
      "source": [
        ""
      ],
      "execution_count": null,
      "outputs": []
    }
  ]
}