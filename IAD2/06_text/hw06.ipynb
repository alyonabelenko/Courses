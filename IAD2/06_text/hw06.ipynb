{
  "nbformat": 4,
  "nbformat_minor": 0,
  "metadata": {
    "kernelspec": {
      "display_name": "Python 3",
      "language": "python",
      "name": "python3"
    },
    "language_info": {
      "codemirror_mode": {
        "name": "ipython",
        "version": 3
      },
      "file_extension": ".py",
      "mimetype": "text/x-python",
      "name": "python",
      "nbconvert_exporter": "python",
      "pygments_lexer": "ipython3",
      "version": "3.8.5"
    },
    "colab": {
      "name": "hw06.ipynb",
      "provenance": []
    }
  },
  "cells": [
    {
      "cell_type": "markdown",
      "metadata": {
        "id": "sa0OSdDne6jy"
      },
      "source": [
        "# Домашнее задание 6: классификация текстов"
      ]
    },
    {
      "cell_type": "markdown",
      "metadata": {
        "id": "MeJxiavee6j8"
      },
      "source": [
        "В этом домашнем задании вам предстоит построить классификатор текстов и поучаствовать в соревновании на Kaggle!\n",
        "Первым делом вам предстоит построить хороший бейзлайн, а дальше пытаться улучшать, соревнуясь с другими участниками.\n",
        "\n",
        "\n",
        "Ссылка на соревнование: https://www.kaggle.com/c/avito-category-prediction/overview\n",
        "Данные для домашнего задания можно скачать на странице соревнования.\n",
        "Чтобы ваше участие было засчитано, убедитесь, что имя в Leaderboard имеет вид: «Имя Фамилия номер_группы».\n",
        "\n",
        "Оценивание:\n",
        "\n",
        "Домашнее задание оценивается как обычно. Баллы указаны напротив заданий.\n",
        "\n",
        "За соревнование даются бонусные баллы следующим образом.\n",
        "Если вы пересекли baseline_2 на приватном лидерборде, ваша оценка равна \n",
        "\n",
        "10 - 10 * (i - 1) / M\n",
        "\n",
        "где M — количество студентов, принявших участие в соревновании;\n",
        "\n",
        "i — место (начиная с 1) студента в приватном лидерборде среди всех таких студентов.\n",
        "\n",
        "Правила:\n",
        "\n",
        "* Домашнее задание оценивается в 10 баллов.\n",
        "\n",
        "* Плагиат не допускается. При обнаружении случаев списывания, 0 за работу выставляется всем участникам нарушения, даже если можно установить, кто у кого списал.\n",
        "\n",
        "* Старайтесь сделать код как можно более оптимальным. В частности, будет штрафоваться использование циклов в тех случаях, когда операцию можно совершить при помощи инструментов библиотек, о которых рассказывалось в курсе.  \n",
        "\n",
        "* В течение 3 суток после окончания соревнования в соответствующее задание на anytask необходимо прислать код, воспроизводящий ответы для посылки, фигурирующей в приватном лидерборде. В случае отсутствия кода, воспроизводящего результат, в установленный срок студенту выставляется 0 в качестве оценки за соревнование. Если не оговорено иное, использовать любые внешние данные в соревнованиях '''запрещено'''. Под внешними данными понимаются размеченные данные, где разметка имеет прямое отношение к решаемой задаче. Грубо говоря, сборник текстов с википедии не считается внешними данными.\n"
      ]
    },
    {
      "cell_type": "code",
      "metadata": {
        "id": "Ir2_4ALMfM2U",
        "outputId": "4c033ced-7d21-46e5-cd2f-6acb2b3ca887",
        "colab": {
          "base_uri": "https://localhost:8080/"
        }
      },
      "source": [
        "try:\n",
        "    from google.colab import files, drive\n",
        "    \n",
        "    USE_COLAB = True\n",
        "except:\n",
        "    USE_COLAB = False\n",
        "\n",
        "if USE_COLAB:\n",
        "    import os\n",
        "    print(\"Don't forget to avoid disconnections:\")\n",
        "    print(\"\"\"\n",
        "function ClickConnect(){\n",
        "    console.log(\"Clicking\"); \n",
        "    document.querySelector(\"colab-connect-button\").click() \n",
        "}\n",
        "setInterval(ClickConnect,60000)\n",
        "    \"\"\")"
      ],
      "execution_count": 4,
      "outputs": [
        {
          "output_type": "stream",
          "text": [
            "Don't forget to avoid disconnections:\n",
            "\n",
            "function ClickConnect(){\n",
            "    console.log(\"Clicking\"); \n",
            "    document.querySelector(\"colab-connect-button\").click() \n",
            "}\n",
            "setInterval(ClickConnect,60000)\n",
            "    \n"
          ],
          "name": "stdout"
        }
      ]
    },
    {
      "cell_type": "code",
      "metadata": {
        "id": "gEw9V_sHhzjm",
        "outputId": "8b1f9144-55a5-49df-e4bb-e0d100b9cb06",
        "colab": {
          "base_uri": "https://localhost:8080/"
        }
      },
      "source": [
        "MOUNT_DIR = '/content/drive' # In case Colab Usage\n",
        "if USE_COLAB:\n",
        "    drive.mount(MOUNT_DIR)\n",
        "    DRIVE_DIR = os.path.join(MOUNT_DIR, 'My Drive')\n",
        "    print(f\"Drive directory is {DRIVE_DIR}\")"
      ],
      "execution_count": 5,
      "outputs": [
        {
          "output_type": "stream",
          "text": [
            "Drive already mounted at /content/drive; to attempt to forcibly remount, call drive.mount(\"/content/drive\", force_remount=True).\n",
            "Drive directory is /content/drive/My Drive\n"
          ],
          "name": "stdout"
        }
      ]
    },
    {
      "cell_type": "code",
      "metadata": {
        "id": "y9OHjX-Ph7Ez"
      },
      "source": [
        "if USE_COLAB:\n",
        "    !pip install -q kaggle\n",
        "    # !mkdir ~/.kaggle\n",
        "    kaggle_file = os.path.join(DRIVE_DIR, 'constants/kaggle.json')\n",
        "    !cp \"$kaggle_file\" ~/.kaggle/\n",
        "    !chmod 600 ~/.kaggle/kaggle.json"
      ],
      "execution_count": 8,
      "outputs": []
    },
    {
      "cell_type": "code",
      "metadata": {
        "id": "MhzMGPzGimuw",
        "outputId": "a54a6c67-3451-4725-bde6-5351a43dd110",
        "colab": {
          "base_uri": "https://localhost:8080/"
        }
      },
      "source": [
        "! kaggle competitions download -c avito-category-prediction\n"
      ],
      "execution_count": 13,
      "outputs": [
        {
          "output_type": "stream",
          "text": [
            "Warning: Looks like you're using an outdated API Version, please consider updating (server 1.5.12 / client 1.5.4)\n",
            "Downloading train.csv.zip to /content\n",
            " 99% 835M/843M [00:07<00:00, 96.2MB/s]\n",
            "100% 843M/843M [00:08<00:00, 110MB/s] \n",
            "Downloading test.csv.zip to /content\n",
            " 93% 265M/284M [00:04<00:00, 75.1MB/s]\n",
            "100% 284M/284M [00:04<00:00, 66.4MB/s]\n",
            "Downloading sample_submission.csv.zip to /content\n",
            " 70% 5.00M/7.17M [00:00<00:00, 24.6MB/s]\n",
            "100% 7.17M/7.17M [00:00<00:00, 28.4MB/s]\n"
          ],
          "name": "stdout"
        }
      ]
    },
    {
      "cell_type": "code",
      "metadata": {
        "id": "ubixIsdSjYJ5"
      },
      "source": [
        "!unzip -o  test.csv.zip -d  avito-text-classification > /dev/null\n",
        "!unzip -o  train.csv.zip -d  avito-text-classification > /dev/null"
      ],
      "execution_count": 18,
      "outputs": []
    },
    {
      "cell_type": "markdown",
      "metadata": {
        "id": "rZpqPJ70e6j-"
      },
      "source": [
        "Мы будем работать с датасетом объявлений Avito. Нам предстоит по заголовку и тексту объявления предсказывать категорию объявления."
      ]
    },
    {
      "cell_type": "code",
      "metadata": {
        "id": "YC2Guq0Ae6j-"
      },
      "source": [
        "import pandas as pd\n",
        "import random\n",
        "import matplotlib.pyplot as plt"
      ],
      "execution_count": 21,
      "outputs": []
    },
    {
      "cell_type": "markdown",
      "metadata": {
        "id": "zT0SgwnMCOIR"
      },
      "source": [
        ""
      ]
    },
    {
      "cell_type": "code",
      "metadata": {
        "id": "omATvUWCe6j_"
      },
      "source": [
        "train = pd.read_csv('avito-text-classification/train.csv', nrows=1000000)\n",
        "test = pd.read_csv('avito-text-classification/test.csv')"
      ],
      "execution_count": 2,
      "outputs": []
    },
    {
      "cell_type": "code",
      "metadata": {
        "id": "1noUIuyi4V6A",
        "outputId": "e661b434-692c-437f-f434-9f474c3a424c",
        "colab": {
          "base_uri": "https://localhost:8080/"
        }
      },
      "source": [
        "len(train)"
      ],
      "execution_count": 3,
      "outputs": [
        {
          "output_type": "execute_result",
          "data": {
            "text/plain": [
              "1000000"
            ]
          },
          "metadata": {
            "tags": []
          },
          "execution_count": 3
        }
      ]
    },
    {
      "cell_type": "code",
      "metadata": {
        "id": "UN5cW-GW0JBn",
        "outputId": "05addef2-3ee3-4d15-9b0a-eb0941d16297",
        "colab": {
          "base_uri": "https://localhost:8080/",
          "height": 166
        }
      },
      "source": [
        "train = read_n_sample(\"avito-text-classification/train.csv\", 500000)"
      ],
      "execution_count": 4,
      "outputs": [
        {
          "output_type": "error",
          "ename": "NameError",
          "evalue": "ignored",
          "traceback": [
            "\u001b[0;31m---------------------------------------------------------------------------\u001b[0m",
            "\u001b[0;31mNameError\u001b[0m                                 Traceback (most recent call last)",
            "\u001b[0;32m<ipython-input-4-62a34ebb14c3>\u001b[0m in \u001b[0;36m<module>\u001b[0;34m()\u001b[0m\n\u001b[0;32m----> 1\u001b[0;31m \u001b[0mtrain\u001b[0m \u001b[0;34m=\u001b[0m \u001b[0mread_n_sample\u001b[0m\u001b[0;34m(\u001b[0m\u001b[0;34m\"avito-text-classification/train.csv\"\u001b[0m\u001b[0;34m,\u001b[0m \u001b[0;36m500000\u001b[0m\u001b[0;34m)\u001b[0m\u001b[0;34m\u001b[0m\u001b[0;34m\u001b[0m\u001b[0m\n\u001b[0m",
            "\u001b[0;31mNameError\u001b[0m: name 'read_n_sample' is not defined"
          ]
        }
      ]
    },
    {
      "cell_type": "code",
      "metadata": {
        "id": "8slE4len1N3k",
        "outputId": "a472eab7-e0c0-4d4e-e638-98e59f2d0d67",
        "colab": {
          "base_uri": "https://localhost:8080/"
        }
      },
      "source": [
        "len(train)"
      ],
      "execution_count": 5,
      "outputs": [
        {
          "output_type": "execute_result",
          "data": {
            "text/plain": [
              "1000000"
            ]
          },
          "metadata": {
            "tags": []
          },
          "execution_count": 5
        }
      ]
    },
    {
      "cell_type": "code",
      "metadata": {
        "id": "fQyscm99e6kA",
        "outputId": "272b9f5c-6dcc-4efa-f3c9-29af6a169115",
        "colab": {
          "base_uri": "https://localhost:8080/",
          "height": 202
        }
      },
      "source": [
        "train.head()"
      ],
      "execution_count": 6,
      "outputs": [
        {
          "output_type": "execute_result",
          "data": {
            "text/html": [
              "<div>\n",
              "<style scoped>\n",
              "    .dataframe tbody tr th:only-of-type {\n",
              "        vertical-align: middle;\n",
              "    }\n",
              "\n",
              "    .dataframe tbody tr th {\n",
              "        vertical-align: top;\n",
              "    }\n",
              "\n",
              "    .dataframe thead th {\n",
              "        text-align: right;\n",
              "    }\n",
              "</style>\n",
              "<table border=\"1\" class=\"dataframe\">\n",
              "  <thead>\n",
              "    <tr style=\"text-align: right;\">\n",
              "      <th></th>\n",
              "      <th>title</th>\n",
              "      <th>description</th>\n",
              "      <th>Category_name</th>\n",
              "      <th>Category</th>\n",
              "    </tr>\n",
              "  </thead>\n",
              "  <tbody>\n",
              "    <tr>\n",
              "      <th>0</th>\n",
              "      <td>Эбу Renault / Nissan 1,5 DCI Delphi 2001-2008 год</td>\n",
              "      <td>Комплект ЭБУ (мозги, компьютер мотора, двигате...</td>\n",
              "      <td>Запчасти и аксессуары</td>\n",
              "      <td>10</td>\n",
              "    </tr>\n",
              "    <tr>\n",
              "      <th>1</th>\n",
              "      <td>Утюг утп 1000 ватт СССР 1987 год</td>\n",
              "      <td>Продам/\\n Фото № 1-2 /\\n /\\nУтюг УТП 1000 ватт...</td>\n",
              "      <td>Бытовая техника</td>\n",
              "      <td>21</td>\n",
              "    </tr>\n",
              "    <tr>\n",
              "      <th>2</th>\n",
              "      <td>Возвму машину с выкупом</td>\n",
              "      <td>Возьму машину в аренду с последующим выкупом н...</td>\n",
              "      <td>Предложение услуг</td>\n",
              "      <td>114</td>\n",
              "    </tr>\n",
              "    <tr>\n",
              "      <th>3</th>\n",
              "      <td>Полусапожки</td>\n",
              "      <td>полусапожки в отличном состоянии, один раз оде...</td>\n",
              "      <td>Одежда, обувь, аксессуары</td>\n",
              "      <td>27</td>\n",
              "    </tr>\n",
              "    <tr>\n",
              "      <th>4</th>\n",
              "      <td>Босоножки кожаные</td>\n",
              "      <td>Кожаные(натур) босоножки Karlo Pasolini, 40 рр...</td>\n",
              "      <td>Одежда, обувь, аксессуары</td>\n",
              "      <td>27</td>\n",
              "    </tr>\n",
              "  </tbody>\n",
              "</table>\n",
              "</div>"
            ],
            "text/plain": [
              "                                               title  ... Category\n",
              "0  Эбу Renault / Nissan 1,5 DCI Delphi 2001-2008 год  ...       10\n",
              "1                   Утюг утп 1000 ватт СССР 1987 год  ...       21\n",
              "2                            Возвму машину с выкупом  ...      114\n",
              "3                                        Полусапожки  ...       27\n",
              "4                                  Босоножки кожаные  ...       27\n",
              "\n",
              "[5 rows x 4 columns]"
            ]
          },
          "metadata": {
            "tags": []
          },
          "execution_count": 6
        }
      ]
    },
    {
      "cell_type": "markdown",
      "metadata": {
        "id": "mzHMhUeUe6kC"
      },
      "source": [
        "## Задание 1 (0.5 балла)\n",
        "\n",
        "Выведете на экран информацию о пропусках в данных. Если пропуски присутствуют заполните их пустой строкой."
      ]
    },
    {
      "cell_type": "markdown",
      "metadata": {
        "id": "NqF_WGu2md1L"
      },
      "source": [
        "Для трейна:"
      ]
    },
    {
      "cell_type": "code",
      "metadata": {
        "id": "gaq0l5hhe6kD",
        "outputId": "7cc2175b-7174-40aa-8df5-b4094cb9fcc7",
        "colab": {
          "base_uri": "https://localhost:8080/"
        }
      },
      "source": [
        " train.isna().sum()"
      ],
      "execution_count": 7,
      "outputs": [
        {
          "output_type": "execute_result",
          "data": {
            "text/plain": [
              "title            0\n",
              "description      0\n",
              "Category_name    0\n",
              "Category         0\n",
              "dtype: int64"
            ]
          },
          "metadata": {
            "tags": []
          },
          "execution_count": 7
        }
      ]
    },
    {
      "cell_type": "code",
      "metadata": {
        "id": "Ebz3eelUe6kD"
      },
      "source": [
        "train.fillna(\"\", inplace=True)"
      ],
      "execution_count": 6,
      "outputs": []
    },
    {
      "cell_type": "code",
      "metadata": {
        "id": "MeZcgBn1macv",
        "outputId": "b2d29777-b42f-4104-80cd-bf5e010e6579",
        "colab": {
          "base_uri": "https://localhost:8080/"
        }
      },
      "source": [
        " train.isna().sum()"
      ],
      "execution_count": 7,
      "outputs": [
        {
          "output_type": "execute_result",
          "data": {
            "text/plain": [
              "title            0\n",
              "description      0\n",
              "Category_name    0\n",
              "Category         0\n",
              "dtype: int64"
            ]
          },
          "metadata": {
            "tags": []
          },
          "execution_count": 7
        }
      ]
    },
    {
      "cell_type": "markdown",
      "metadata": {
        "id": "n6ZDNSQjmhgE"
      },
      "source": [
        "Для теста:"
      ]
    },
    {
      "cell_type": "code",
      "metadata": {
        "id": "LB6ydctTmjvC",
        "outputId": "6f0a0d76-1a73-429d-921d-dca25dad574f",
        "colab": {
          "base_uri": "https://localhost:8080/"
        }
      },
      "source": [
        "test.isna().sum()"
      ],
      "execution_count": 8,
      "outputs": [
        {
          "output_type": "execute_result",
          "data": {
            "text/plain": [
              "title          0\n",
              "description    1\n",
              "itemid         0\n",
              "dtype: int64"
            ]
          },
          "metadata": {
            "tags": []
          },
          "execution_count": 8
        }
      ]
    },
    {
      "cell_type": "code",
      "metadata": {
        "id": "J6ODMpnqmpZs"
      },
      "source": [
        "test.fillna(\"\", inplace=True)"
      ],
      "execution_count": 9,
      "outputs": []
    },
    {
      "cell_type": "code",
      "metadata": {
        "id": "mpAshHH1mpln",
        "outputId": "14943c87-5111-4a26-bb31-2ce9e81d8c3e",
        "colab": {
          "base_uri": "https://localhost:8080/"
        }
      },
      "source": [
        "test.isna().sum()"
      ],
      "execution_count": 10,
      "outputs": [
        {
          "output_type": "execute_result",
          "data": {
            "text/plain": [
              "title          0\n",
              "description    0\n",
              "itemid         0\n",
              "dtype: int64"
            ]
          },
          "metadata": {
            "tags": []
          },
          "execution_count": 10
        }
      ]
    },
    {
      "cell_type": "markdown",
      "metadata": {
        "id": "mK0AHqXbe6kE"
      },
      "source": [
        "## Задание 2 (0.5 балла)\n",
        "Сконкатенируйте заголовок и описание в единую строку и поместите результат в отдельный столбец. Таким образом мы будет работать с одним текстом, а не с двумя."
      ]
    },
    {
      "cell_type": "code",
      "metadata": {
        "id": "TYCpVDRxe6kE",
        "outputId": "73705396-512e-44ae-bce7-22808bd19d2b",
        "colab": {
          "base_uri": "https://localhost:8080/",
          "height": 202
        }
      },
      "source": [
        "train['text'] = train['title'] + \" \" + train['description']\n",
        "train.drop(['title', 'description'], axis='columns', inplace=True)\n",
        "train.head()"
      ],
      "execution_count": 8,
      "outputs": [
        {
          "output_type": "execute_result",
          "data": {
            "text/html": [
              "<div>\n",
              "<style scoped>\n",
              "    .dataframe tbody tr th:only-of-type {\n",
              "        vertical-align: middle;\n",
              "    }\n",
              "\n",
              "    .dataframe tbody tr th {\n",
              "        vertical-align: top;\n",
              "    }\n",
              "\n",
              "    .dataframe thead th {\n",
              "        text-align: right;\n",
              "    }\n",
              "</style>\n",
              "<table border=\"1\" class=\"dataframe\">\n",
              "  <thead>\n",
              "    <tr style=\"text-align: right;\">\n",
              "      <th></th>\n",
              "      <th>Category_name</th>\n",
              "      <th>Category</th>\n",
              "      <th>text</th>\n",
              "    </tr>\n",
              "  </thead>\n",
              "  <tbody>\n",
              "    <tr>\n",
              "      <th>0</th>\n",
              "      <td>Запчасти и аксессуары</td>\n",
              "      <td>10</td>\n",
              "      <td>Эбу Renault / Nissan 1,5 DCI Delphi 2001-2008 ...</td>\n",
              "    </tr>\n",
              "    <tr>\n",
              "      <th>1</th>\n",
              "      <td>Бытовая техника</td>\n",
              "      <td>21</td>\n",
              "      <td>Утюг утп 1000 ватт СССР 1987 год Продам/\\n Фот...</td>\n",
              "    </tr>\n",
              "    <tr>\n",
              "      <th>2</th>\n",
              "      <td>Предложение услуг</td>\n",
              "      <td>114</td>\n",
              "      <td>Возвму машину с выкупом Возьму машину в аренду...</td>\n",
              "    </tr>\n",
              "    <tr>\n",
              "      <th>3</th>\n",
              "      <td>Одежда, обувь, аксессуары</td>\n",
              "      <td>27</td>\n",
              "      <td>Полусапожки полусапожки в отличном состоянии, ...</td>\n",
              "    </tr>\n",
              "    <tr>\n",
              "      <th>4</th>\n",
              "      <td>Одежда, обувь, аксессуары</td>\n",
              "      <td>27</td>\n",
              "      <td>Босоножки кожаные Кожаные(натур) босоножки Kar...</td>\n",
              "    </tr>\n",
              "  </tbody>\n",
              "</table>\n",
              "</div>"
            ],
            "text/plain": [
              "               Category_name  ...                                               text\n",
              "0      Запчасти и аксессуары  ...  Эбу Renault / Nissan 1,5 DCI Delphi 2001-2008 ...\n",
              "1            Бытовая техника  ...  Утюг утп 1000 ватт СССР 1987 год Продам/\\n Фот...\n",
              "2          Предложение услуг  ...  Возвму машину с выкупом Возьму машину в аренду...\n",
              "3  Одежда, обувь, аксессуары  ...  Полусапожки полусапожки в отличном состоянии, ...\n",
              "4  Одежда, обувь, аксессуары  ...  Босоножки кожаные Кожаные(натур) босоножки Kar...\n",
              "\n",
              "[5 rows x 3 columns]"
            ]
          },
          "metadata": {
            "tags": []
          },
          "execution_count": 8
        }
      ]
    },
    {
      "cell_type": "code",
      "metadata": {
        "id": "1-zoVqw9x6Qo",
        "outputId": "a7486aff-1565-480c-9886-7c1463efd46b",
        "colab": {
          "base_uri": "https://localhost:8080/",
          "height": 202
        }
      },
      "source": [
        "test['text'] = test['title'] + \" \" + test['description']\n",
        "test.drop(['title', 'description'], axis='columns', inplace=True)\n",
        "test.head()"
      ],
      "execution_count": 9,
      "outputs": [
        {
          "output_type": "execute_result",
          "data": {
            "text/html": [
              "<div>\n",
              "<style scoped>\n",
              "    .dataframe tbody tr th:only-of-type {\n",
              "        vertical-align: middle;\n",
              "    }\n",
              "\n",
              "    .dataframe tbody tr th {\n",
              "        vertical-align: top;\n",
              "    }\n",
              "\n",
              "    .dataframe thead th {\n",
              "        text-align: right;\n",
              "    }\n",
              "</style>\n",
              "<table border=\"1\" class=\"dataframe\">\n",
              "  <thead>\n",
              "    <tr style=\"text-align: right;\">\n",
              "      <th></th>\n",
              "      <th>itemid</th>\n",
              "      <th>text</th>\n",
              "    </tr>\n",
              "  </thead>\n",
              "  <tbody>\n",
              "    <tr>\n",
              "      <th>0</th>\n",
              "      <td>1778449823</td>\n",
              "      <td>Мастерка Мастерка фирмы форвард. Белого цвета....</td>\n",
              "    </tr>\n",
              "    <tr>\n",
              "      <th>1</th>\n",
              "      <td>1677656962</td>\n",
              "      <td>Зимние сапоги Продаю зимние сапоги, в хорошем ...</td>\n",
              "    </tr>\n",
              "    <tr>\n",
              "      <th>2</th>\n",
              "      <td>1758182804</td>\n",
              "      <td>Видеонаблюдение 8 камер В комплект Atis AMD-2M...</td>\n",
              "    </tr>\n",
              "    <tr>\n",
              "      <th>3</th>\n",
              "      <td>1689811299</td>\n",
              "      <td>Запчасти для GLE Запчасти GLE</td>\n",
              "    </tr>\n",
              "    <tr>\n",
              "      <th>4</th>\n",
              "      <td>1804706240</td>\n",
              "      <td>Бластер nerf Состояние 5+/\\nПродаю потому что ...</td>\n",
              "    </tr>\n",
              "  </tbody>\n",
              "</table>\n",
              "</div>"
            ],
            "text/plain": [
              "       itemid                                               text\n",
              "0  1778449823  Мастерка Мастерка фирмы форвард. Белого цвета....\n",
              "1  1677656962  Зимние сапоги Продаю зимние сапоги, в хорошем ...\n",
              "2  1758182804  Видеонаблюдение 8 камер В комплект Atis AMD-2M...\n",
              "3  1689811299                      Запчасти для GLE Запчасти GLE\n",
              "4  1804706240  Бластер nerf Состояние 5+/\\nПродаю потому что ..."
            ]
          },
          "metadata": {
            "tags": []
          },
          "execution_count": 9
        }
      ]
    },
    {
      "cell_type": "markdown",
      "metadata": {
        "id": "6hjywOloe6kE"
      },
      "source": [
        "## Задание 3 (0.5 балла)\n",
        "Давайте немного посмотрим на наши данные. Визуализируйте (где явно просят) или выведете информацию о следующем:\n",
        "\n",
        "1. Сколько всего уникальных классов необходимо предсказать?\n",
        "2. Постройте столбчатую диаграмму распределения по классам. Нормализуйте график, чтобы видеть доли, а не абсолютные значения.\n",
        "3. На сколько большой дисбаланс? Какой класс имеет самую большую долю в выборке (укажите класс и долю), какой класс наименьшую (укажите класс и долю)."
      ]
    },
    {
      "cell_type": "markdown",
      "metadata": {
        "id": "c9GGtSUP-y_P"
      },
      "source": [
        "Уникальных классов:"
      ]
    },
    {
      "cell_type": "code",
      "metadata": {
        "id": "vY6qnqW9e6kF",
        "outputId": "e7ae3602-ef1f-47a0-d2b4-92e0980ebab7",
        "colab": {
          "base_uri": "https://localhost:8080/"
        }
      },
      "source": [
        "num = len(set(train['Category']))\n",
        "num"
      ],
      "execution_count": 12,
      "outputs": [
        {
          "output_type": "execute_result",
          "data": {
            "text/plain": [
              "50"
            ]
          },
          "metadata": {
            "tags": []
          },
          "execution_count": 12
        }
      ]
    },
    {
      "cell_type": "markdown",
      "metadata": {
        "id": "FQjZMiwc-3oy"
      },
      "source": [
        "Диаграмма:"
      ]
    },
    {
      "cell_type": "code",
      "metadata": {
        "id": "nDV05aFq-xsF",
        "outputId": "b8d84316-99b9-4848-c635-8c01d2142963",
        "colab": {
          "base_uri": "https://localhost:8080/",
          "height": 872
        }
      },
      "source": [
        "plt.figure(figsize = [15, 15])\n",
        "train['Category'].value_counts(normalize=True).plot.bar()\n",
        "plt.show()"
      ],
      "execution_count": 25,
      "outputs": [
        {
          "output_type": "display_data",
          "data": {
            "image/png": "[encoded data removed]",
            "text/plain": [
              "<Figure size 1080x1080 with 1 Axes>"
            ]
          },
          "metadata": {
            "tags": [],
            "needs_background": "light"
          }
        }
      ]
    },
    {
      "cell_type": "markdown",
      "metadata": {
        "id": "oD6nWxnse6kG"
      },
      "source": [
        "## Задание 4 (0.5 балла)\n",
        "\n",
        "Далее мы будем пока работать только с train частью. Для test части нам неизвестны истинные значения, и они понадобятся только тогда, когда мы будем отправлять решение на Kaggle.\n",
        "\n",
        "1. Предобработайте данные (train часть) с помощью CountVectorizer.\n",
        "2. Какого размера получилась матрица?\n"
      ]
    },
    {
      "cell_type": "code",
      "metadata": {
        "id": "GJo6wtPxe6kH",
        "outputId": "7bd460f5-b358-4e98-9377-1852b3c2cc83",
        "colab": {
          "base_uri": "https://localhost:8080/"
        }
      },
      "source": [
        "from sklearn.feature_extraction.text import CountVectorizer\n",
        "vectorizer = CountVectorizer()\n",
        "X = vectorizer.fit_transform(train['text'])\n",
        "X.shape"
      ],
      "execution_count": 28,
      "outputs": [
        {
          "output_type": "execute_result",
          "data": {
            "text/plain": [
              "(1000000, 889197)"
            ]
          },
          "metadata": {
            "tags": []
          },
          "execution_count": 28
        }
      ]
    },
    {
      "cell_type": "markdown",
      "metadata": {
        "id": "nMCxWBT1e6kH"
      },
      "source": [
        "## Задание 5 (0.5 балла)\n",
        "\n",
        "В предыдущем пункте у вас должная была получится очень большая матрица. Это не дело.\n",
        "Если вы взгляните на текст, то увидете, что там есть множество специальных символов.\n",
        "\n",
        "Давайте также посмотрим на словарь, который получился в результате построения CountVectorizer, его можно найти в поле _vocabulary инстанса этого класса.\n",
        "\n",
        "1. Найдите в этом словаре все слова, которые начинаются на цифру. Сколько таких слов нашлось?\n",
        "\n",
        "2. Найдите все слова, которые начинаются на символы пунктуации. Сколько таких слов нашлось? "
      ]
    },
    {
      "cell_type": "code",
      "metadata": {
        "id": "P0oU4VeQe6kI",
        "outputId": "7161c255-0f78-43d9-b81e-9185b6b969e6",
        "colab": {
          "base_uri": "https://localhost:8080/"
        }
      },
      "source": [
        "from_number = {k:v for k,v in vectorizer.vocabulary_.items() if k[0] in ['0', '1', '2', '3', '4', '5', '6', '7', '8', '9']}\n",
        "len(from_number)"
      ],
      "execution_count": 34,
      "outputs": [
        {
          "output_type": "execute_result",
          "data": {
            "text/plain": [
              "203629"
            ]
          },
          "metadata": {
            "tags": []
          },
          "execution_count": 34
        }
      ]
    },
    {
      "cell_type": "code",
      "metadata": {
        "id": "AmaqXf2hHJJO",
        "outputId": "29c164e7-2de9-4fde-a3cc-49383edd2ed2",
        "colab": {
          "base_uri": "https://localhost:8080/"
        }
      },
      "source": [
        "from_punctuation = {k:v for k,v in vectorizer.vocabulary_.items() if k[0] in ['.', ',', ':', ';',  '\"', '!', '?', '/']}\n",
        "len(from_punctuation)"
      ],
      "execution_count": 36,
      "outputs": [
        {
          "output_type": "execute_result",
          "data": {
            "text/plain": [
              "0"
            ]
          },
          "metadata": {
            "tags": []
          },
          "execution_count": 36
        }
      ]
    },
    {
      "cell_type": "markdown",
      "metadata": {
        "id": "ENG1NahTe6kI"
      },
      "source": [
        "## Задание 6 (2.5 балла)\n",
        "\n",
        "В scikit-learn мы можем оценивать процесс подсчета матрицы через CountVectorizer. У CountVectorizer, как и у других наследников \\_VectorizerMixin, есть аргумент tokenizer и preprocessor. preprocessor применится в самом начале к каждой строке вашего датасета, tokenizer же должен принять строку и вернуть токены.\n",
        "Давайте напишем кастомный токенайзер, которые сделает все, что нам нужно: \n",
        "\n",
        "0. Приведет все буквы к нижнему регистру\n",
        "1. Разобьет текст на токены с помощью word_tokenizer из пакета nltk\n",
        "2. Удалит все токены содержащие числа и пунктуацию\n",
        "3. Удалит все токены, которые перечислены в nltk.corpus.stopwords('russian')\n",
        "4. Проведет стемминг с помощью SnowballStemmer\n",
        "\n",
        "Продемонстрируйте работу вашей функии на самом первом описании товара в датасете.\n",
        "\n",
        "Важно: так как функию будет необходимо запускать на большом корпусе, подумайте об эффективной реализации. Постарайтесь решить задачу в минимальное количество циклов и копирований.\n",
        "\n",
        "Референсная реализация на компьютере автора работала 230 секунд на 100к строчек."
      ]
    },
    {
      "cell_type": "code",
      "metadata": {
        "id": "ElTWNaeaOZKA",
        "outputId": "e553dd07-b1f1-4184-d3d8-3490e9807110",
        "colab": {
          "base_uri": "https://localhost:8080/"
        }
      },
      "source": [
        "import nltk\n",
        "import re\n",
        "import snowballstemmer\n",
        "nltk.download('punkt')\n",
        "nltk.download('stopwords')\n",
        "from nltk.corpus import stopwords"
      ],
      "execution_count": 70,
      "outputs": [
        {
          "output_type": "stream",
          "text": [
            "[nltk_data] Downloading package punkt to /root/nltk_data...\n",
            "[nltk_data]   Package punkt is already up-to-date!\n",
            "[nltk_data] Downloading package stopwords to /root/nltk_data...\n",
            "[nltk_data]   Package stopwords is already up-to-date!\n"
          ],
          "name": "stdout"
        }
      ]
    },
    {
      "cell_type": "code",
      "metadata": {
        "id": "VnTAxSn2e6kJ"
      },
      "source": [
        "def tokenizer(text):\n",
        "    text = text.lower()\n",
        "    tokenizer = nltk.tokenize.RegexpTokenizer(r'\\w+')\n",
        "    tokenized = tokenizer.tokenize(text)\n",
        "    # tokenized = nltk.word_tokenize(text)\n",
        "    selected = []\n",
        "    stemmer = snowballstemmer.stemmer('russian')\n",
        "    nltk.download('stopwords')\n",
        "    for token in tokenized:\n",
        "        if (token == re.sub(r\"[0-9;:.,?\\-/()—]+\",\"\",token)) and (token not in stopwords.words(\"russian\")):\n",
        "            selected.append(stemmer.stemWord(token))\n",
        "    return selected\n"
      ],
      "execution_count": 81,
      "outputs": []
    },
    {
      "cell_type": "code",
      "metadata": {
        "id": "9jYc3ZDYaKkE",
        "outputId": "248c54b2-a00d-4900-c40b-941422bd6a4d",
        "colab": {
          "base_uri": "https://localhost:8080/"
        }
      },
      "source": [
        "tokenizer = nltk.tokenize.RegexpTokenizer(r'\\w+')\n",
        "tokenizer.tokenize(train['text'][0])\n"
      ],
      "execution_count": 85,
      "outputs": [
        {
          "output_type": "execute_result",
          "data": {
            "text/plain": [
              "['Эбу',\n",
              " 'Renault',\n",
              " 'Nissan',\n",
              " '1',\n",
              " '5',\n",
              " 'DCI',\n",
              " 'Delphi',\n",
              " '2001',\n",
              " '2008',\n",
              " 'год',\n",
              " 'Комплект',\n",
              " 'ЭБУ',\n",
              " 'мозги',\n",
              " 'компьютер',\n",
              " 'мотора',\n",
              " 'двигателя',\n",
              " 'коммутатор',\n",
              " 'Электронный',\n",
              " 'блок',\n",
              " 'управления',\n",
              " 'двигателем',\n",
              " 'компьютер',\n",
              " 'мотора',\n",
              " 'для',\n",
              " 'Рено',\n",
              " 'Kangoo',\n",
              " 'Канго',\n",
              " 'Кангу',\n",
              " 'Меган',\n",
              " 'Сценик',\n",
              " 'Laguna',\n",
              " 'Лагуна',\n",
              " 'Clio',\n",
              " 'Клио',\n",
              " 'Nissan',\n",
              " 'Micra',\n",
              " 'Ниссан',\n",
              " 'Микра',\n",
              " 'и',\n",
              " 'другие',\n",
              " 'Рено',\n",
              " 'Ниссан',\n",
              " '1',\n",
              " '5',\n",
              " 'дизель',\n",
              " 'с',\n",
              " 'топливной',\n",
              " 'аппаратурой',\n",
              " 'Делфи',\n",
              " 'Б',\n",
              " 'У',\n",
              " 'Оригинал',\n",
              " 'отличное',\n",
              " 'состояние',\n",
              " 'проверенные',\n",
              " 'с',\n",
              " 'гарантией',\n",
              " 'На',\n",
              " 'все',\n",
              " 'запчасти',\n",
              " 'предоставляется',\n",
              " 'ГАРАНТИЯ',\n",
              " 'возможна',\n",
              " 'установка',\n",
              " 'Более',\n",
              " 'подробно',\n",
              " 'в',\n",
              " 'разделе',\n",
              " 'о',\n",
              " 'компании',\n",
              " 'Мы',\n",
              " 'дорожим',\n",
              " 'своей',\n",
              " 'репутацией',\n",
              " 'и',\n",
              " 'торгуем',\n",
              " 'ТОЛЬКО',\n",
              " 'ЛЕГАЛЬНЫМИ',\n",
              " 'контрактными',\n",
              " 'запчастями',\n",
              " 'на',\n",
              " 'все',\n",
              " 'детали',\n",
              " 'в',\n",
              " 'наличии',\n",
              " 'таможенные',\n",
              " 'документы',\n",
              " 'Все',\n",
              " 'запчасти',\n",
              " 'от',\n",
              " 'автомобилей',\n",
              " 'БЕЗ',\n",
              " 'ПРОБЕГА',\n",
              " 'ПО',\n",
              " 'РОССИИ',\n",
              " 'Отправляем',\n",
              " 'в',\n",
              " 'другие',\n",
              " 'регионы',\n",
              " 'Таможенного',\n",
              " 'Союза',\n",
              " 'транспортной',\n",
              " 'компанией',\n",
              " 'или',\n",
              " 'наложным',\n",
              " 'платежом']"
            ]
          },
          "metadata": {
            "tags": []
          },
          "execution_count": 85
        }
      ]
    },
    {
      "cell_type": "code",
      "metadata": {
        "id": "QA67mQOGPc5a",
        "outputId": "9e7b6f9d-6e05-42e5-d5a3-e2cc0449530f",
        "colab": {
          "base_uri": "https://localhost:8080/"
        }
      },
      "source": [
        "tokenizer(train['text'][0])"
      ],
      "execution_count": 82,
      "outputs": [
        {
          "output_type": "stream",
          "text": [
            "[nltk_data] Downloading package stopwords to /root/nltk_data...\n",
            "[nltk_data]   Package stopwords is already up-to-date!\n"
          ],
          "name": "stdout"
        },
        {
          "output_type": "execute_result",
          "data": {
            "text/plain": [
              "['эб',\n",
              " 'renault',\n",
              " 'nissan',\n",
              " 'dci',\n",
              " 'delphi',\n",
              " 'год',\n",
              " 'комплект',\n",
              " 'эб',\n",
              " 'мозг',\n",
              " 'компьютер',\n",
              " 'мотор',\n",
              " 'двигател',\n",
              " 'коммутатор',\n",
              " 'электрон',\n",
              " 'блок',\n",
              " 'управлен',\n",
              " 'двигател',\n",
              " 'компьютер',\n",
              " 'мотор',\n",
              " 'рен',\n",
              " 'kangoo',\n",
              " 'канг',\n",
              " 'канг',\n",
              " 'мега',\n",
              " 'сценик',\n",
              " 'laguna',\n",
              " 'лагун',\n",
              " 'clio',\n",
              " 'кли',\n",
              " 'nissan',\n",
              " 'micra',\n",
              " 'нисса',\n",
              " 'микр',\n",
              " 'друг',\n",
              " 'рен',\n",
              " 'нисса',\n",
              " 'дизел',\n",
              " 'топливн',\n",
              " 'аппаратур',\n",
              " 'делф',\n",
              " 'б',\n",
              " 'оригина',\n",
              " 'отличн',\n",
              " 'состоян',\n",
              " 'проверен',\n",
              " 'гарант',\n",
              " 'запчаст',\n",
              " 'предоставля',\n",
              " 'гарант',\n",
              " 'возможн',\n",
              " 'установк',\n",
              " 'подробн',\n",
              " 'раздел',\n",
              " 'компан',\n",
              " 'дорож',\n",
              " 'сво',\n",
              " 'репутац',\n",
              " 'торгу',\n",
              " 'легальн',\n",
              " 'контрактн',\n",
              " 'запчаст',\n",
              " 'дета',\n",
              " 'налич',\n",
              " 'таможен',\n",
              " 'документ',\n",
              " 'запчаст',\n",
              " 'автомобил',\n",
              " 'пробег',\n",
              " 'росс',\n",
              " 'отправля',\n",
              " 'друг',\n",
              " 'регион',\n",
              " 'таможен',\n",
              " 'союз',\n",
              " 'транспортн',\n",
              " 'компан',\n",
              " 'наложн',\n",
              " 'платеж']"
            ]
          },
          "metadata": {
            "tags": []
          },
          "execution_count": 82
        }
      ]
    },
    {
      "cell_type": "markdown",
      "metadata": {
        "id": "lx7-Pdqie6kJ"
      },
      "source": [
        "## Задание 7 (1 балл)\n",
        "\n",
        "1. Возьмите случайные 500к строк из датасета. Постройте по ним CountVectorizer с применением вашего токенизатора.\n",
        "2. Разбейте полученную матрицу на train, test в отношении 4 к 1. Не забудьте про target переменную.\n",
        "3. Обучите SGDClassifier на полученной выборке.\n",
        "4. Посчитайте метрику accuracy"
      ]
    },
    {
      "cell_type": "code",
      "metadata": {
        "id": "1wneA5qLe6kJ"
      },
      "source": [
        ""
      ],
      "execution_count": null,
      "outputs": []
    },
    {
      "cell_type": "markdown",
      "metadata": {
        "id": "VG9Ybjf_e6kK"
      },
      "source": [
        "## Задание 8 (1 балл)\n",
        "\n",
        "1. Повторите 7 задание, но с tf-idf векторизатором. Как изменилось качество.\n",
        "2. Мы можем еще сильнее уменьшите размер нашей матрицы, если отбросим значения df близкие к единице. Скорее всего такие слова не несут много информации о категории, так как встречаются достаточно часто. Ограничьте максимальный df в параметрах TfIdfVectorizer, поставьте верхнюю границу равную 0.9. Как изменился размер матрицы, как изменилось качество?\n"
      ]
    },
    {
      "cell_type": "code",
      "metadata": {
        "id": "PHXoxrVse6kK"
      },
      "source": [
        ""
      ],
      "execution_count": null,
      "outputs": []
    },
    {
      "cell_type": "markdown",
      "metadata": {
        "id": "ErTw75vAe6kK"
      },
      "source": [
        "## Задание 9 (1 балл)\n",
        "Еще один популяпный трюк, который позволит уменьшить количество признаков называется hashing trick. Его суть в том, то мы случайно группируем признаки ииии  ..... складываем их! А потом удаляем исходные признаки. В итоге все наши признаки это просто суммы исходных. Звучит странно, но это отлично работает. Давайте проверим этот трюк в нашем сеттинге.\n",
        "Также при таком подходе вам не нужно хранить словарь token->index, что тоже иногда полезно.\n",
        "\n",
        "1. Повторите задание 7 с HashingVectorizer, укажите количество фичей равное 30000.\n",
        "2. Какой из трех подходов показал самый высокий результат?"
      ]
    },
    {
      "cell_type": "code",
      "metadata": {
        "id": "eXdnM7Mje6kL"
      },
      "source": [
        ""
      ],
      "execution_count": null,
      "outputs": []
    },
    {
      "cell_type": "markdown",
      "metadata": {
        "id": "KRyTeHCXe6kM"
      },
      "source": [
        "## Задание 10 (1.5 балла)\n",
        "\n",
        "Пришло время выйти в мир. Отправляйтесь на Kaggle Inclass и сделайте первую посылку. Там вы найдете инструкцию как сформировать файл с предсказаниями и отправить его."
      ]
    },
    {
      "cell_type": "code",
      "metadata": {
        "id": "nn7vT04Xe6kM"
      },
      "source": [
        ""
      ],
      "execution_count": null,
      "outputs": []
    }
  ]
}